{
 "cells": [
  {
   "cell_type": "code",
   "execution_count": 6,
   "metadata": {},
   "outputs": [
    {
     "data": {
      "text/plain": [
       "False"
      ]
     },
     "execution_count": 6,
     "metadata": {},
     "output_type": "execute_result"
    }
   ],
   "source": [
    "import pandas as pd\n",
    "import uproot\n",
    "import numpy as np\n",
    "import matplotlib.pyplot as plt\n",
    "import tensorflow as tf\n",
    "from tensorflow import keras\n",
    "from IPython.display import clear_output\n",
    "from tensorflow.keras.callbacks import Callback\n",
    "from tensorflow.keras.callbacks import EarlyStopping\n",
    "from tensorflow.keras.utils import Sequence\n",
    "from tensorflow.keras.utils import plot_model\n",
    "\n",
    "import matplotlib.lines as mlinesZ\n",
    "import json\n",
    "import datetime\n",
    "import time\n",
    "import os\n",
    "import warnings\n",
    "import glob\n",
    "\n",
    "from sklearn.model_selection import train_test_split\n",
    "from sklearn.preprocessing import minmax_scale, scale\n",
    "from sklearn.metrics import confusion_matrix, f1_score, precision_score, recall_score, accuracy_score\n",
    "from sklearn.utils import class_weight\n",
    "plt.style.use('seaborn-deep')\n",
    "\n",
    "# Use this line to enable GPU (only on applicable architecures)\n",
    "# get_ipython().run_line_magic('env', 'CUDA_DEVICE_ORDER=PCI_BUS_ID')\n",
    "os.environ[\"CUDA_VISIBLE_DEVICES\"] = \"-1\" # turns off gpu\n",
    "tf.test.is_gpu_available()"
   ]
  },
  {
   "cell_type": "code",
   "execution_count": 7,
   "metadata": {},
   "outputs": [],
   "source": [
    "# fix random seed for reproducibility\n",
    "seed = 100\n",
    "np.random.seed(seed)\n"
   ]
  },
  {
   "cell_type": "code",
   "execution_count": 8,
   "metadata": {},
   "outputs": [],
   "source": [
    "# Load tracks from root ntuples\n",
    "\n",
    "save_columns = [\n",
    "    # Features used in traditional scoring function\n",
    "    \"numberOfPixelHoles\", # output tracks only\n",
    "    \"numberOfSCTHoles\", # output tracks only\n",
    "    \"numberOfSCTDoubleHoles\", # output tracks only\n",
    "    \"numberOfContribPixelLayers\",\n",
    "    \"numberOfBLayerHits\",\n",
    "    \"numberOfGangedFlaggedFakes\",\n",
    "    # \"numberOfTRTHits\",\n",
    "    # \"numberOfTRTOutliers\",\n",
    "    \"numberOfPixelHits\",\n",
    "    \"numberOfSCTHits\",\n",
    "    # \"Sihits\",\n",
    "    \"standardDeviationOfChi2OS\",\n",
    "    \"track_pt\",\n",
    "    \"chiSquared\",\n",
    "    \"numberDoF\",\n",
    "    \n",
    "    # New features not used in traditional score, these may help.\n",
    "    \"numberOfBLayerSplitHits\",\n",
    "    \"numberOfInnermostLayerSplitHits\",\n",
    "    \"numberOfInnermostPixelLayerHits\",\n",
    "    \"numberOfNextToInnermostLayerSplitHits\",\n",
    "    \"numberOfNextToInnermostPixelLayerHits\",\n",
    "    \"numberOfPixelSplitHits\",\n",
    "    \"numberOfPixelOutliers\",\n",
    "    \"numberOfSCTOutliers\",\n",
    "    \"numberOfPixelSpoiltHits\",\n",
    "    \"numberOfSCTSpoiltHits\",\n",
    "    \"numberOfGangedPixels\",\n",
    "    \"numberOfOutliersOnTrack\",\n",
    "    \n",
    "    \"track_eta\",\n",
    "    \"d0\",\n",
    "    \"z0\",\n",
    "    \"phi0\",\n",
    "    \"theta\",\n",
    "    \"qOverP\",\n",
    "    # For training and evaluation\n",
    "    \"score\",\n",
    "    \"linkValid\",\n",
    "    \"truthProbability\",  \n",
    "#     \"eventNumber\",\n",
    "\n",
    "]\n",
    "\n",
    "# This is the directory where each of the training samples are stored, output by InDetTrackSummaryDumpAlg\n",
    "dir_name = \"/fast_scratch/rnewhous/LRT/training/\"\n",
    "# os.chdir(dir_name)\n",
    "\n",
    "# This specifies the subdirectory where the training samples are stored. I found it useful to seaparate the topologies this way.\n",
    "samples = glob.glob(dir_name+'track_info_outputs*.root')\n",
    "# samples = [\n",
    "#     dir_name+'track_info_InDetSummaryDumpAlg_SiSpSeededLargeD0Tracks.root',\n",
    "# ]\n",
    "# print (samples)"
   ]
  },
  {
   "cell_type": "code",
   "execution_count": 9,
   "metadata": {},
   "outputs": [],
   "source": [
    "# With these huge samples it's necessary to make sure to reduce the memory consumption as much as possible. \n",
    "# This function is an attempt at that. Ideally one would use of a generated datasets with a Keras Sequence.\n",
    "# https://www.tensorflow.org/api_docs/python/tf/keras/utils/Sequence\n",
    "# For smaller training sets though this does quite well.\n",
    "def downsize_dataframe(sample):\n",
    "    # Use uproot to read the sample and convert to pandas df\n",
    "    df_tmp = uproot.open(sample).get(\"tracks\").pandas.df(branches=save_columns, \n",
    "                                                                            basketcache={}, # Not sure if this actually reduces memory consumption\n",
    "#                                                                           entrystop=5e5, # Adjust this to determine how many tracks to initially load\n",
    "                                                                            )\n",
    "\n",
    "    # We don't care about tracks with zero score since they have been removed by the cuts in the scoring function. Remove them from the dataframe\n",
    "    df_tmp = df_tmp[df_tmp.score>0]\n",
    "\n",
    "    # Downcast the datatype to reduce the memory footprint in the dataframe. All feaures are stored as doubles initially but most can be described by integers.\n",
    "    df_tmp.numberOfPixelHoles = pd.to_numeric(df_tmp.numberOfPixelHoles, downcast='integer')\n",
    "    df_tmp.numberOfSCTHoles = pd.to_numeric(df_tmp.numberOfSCTHoles, downcast='integer')\n",
    "    df_tmp.numberOfSCTDoubleHoles = pd.to_numeric(df_tmp.numberOfSCTDoubleHoles, downcast='integer')\n",
    "    df_tmp.numberOfContribPixelLayers = pd.to_numeric(df_tmp.numberOfContribPixelLayers, downcast='integer')\n",
    "    df_tmp.numberOfBLayerHits = pd.to_numeric(df_tmp.numberOfBLayerHits, downcast='integer')\n",
    "    df_tmp.numberOfGangedFlaggedFakes = pd.to_numeric(df_tmp.numberOfGangedFlaggedFakes, downcast='integer')\n",
    "    df_tmp.numberOfPixelHits = pd.to_numeric(df_tmp.numberOfPixelHits, downcast='integer')\n",
    "    df_tmp.numberOfSCTHits = pd.to_numeric(df_tmp.numberOfSCTHits, downcast='integer')\n",
    "    df_tmp.numberDoF = pd.to_numeric(df_tmp.numberDoF, downcast='integer')\n",
    "    df_tmp.standardDeviationOfChi2OS = pd.to_numeric(df_tmp.standardDeviationOfChi2OS, downcast='float')\n",
    "\n",
    "    df_tmp.numberOfBLayerSplitHits = pd.to_numeric(df_tmp.numberOfBLayerSplitHits, downcast='integer')\n",
    "    df_tmp.numberOfInnermostLayerSplitHits = pd.to_numeric(df_tmp.numberOfInnermostLayerSplitHits, downcast='integer')\n",
    "    df_tmp.numberOfNextToInnermostLayerSplitHits = pd.to_numeric(df_tmp.numberOfNextToInnermostLayerSplitHits, downcast='integer')\n",
    "    df_tmp.numberOfPixelSplitHits = pd.to_numeric(df_tmp.numberOfPixelSplitHits, downcast='integer')\n",
    "    df_tmp.numberOfPixelOutliers = pd.to_numeric(df_tmp.numberOfPixelOutliers, downcast='integer')\n",
    "    df_tmp.numberOfSCTOutliers = pd.to_numeric(df_tmp.numberOfSCTOutliers, downcast='integer')\n",
    "    df_tmp.numberOfPixelSpoiltHits = pd.to_numeric(df_tmp.numberOfPixelSpoiltHits, downcast='integer')\n",
    "    df_tmp.numberOfSCTSpoiltHits = pd.to_numeric(df_tmp.numberOfSCTSpoiltHits, downcast='integer')\n",
    "    df_tmp.numberOfGangedPixels = pd.to_numeric(df_tmp.numberOfGangedPixels, downcast='integer')\n",
    "    df_tmp.numberOfOutliersOnTrack = pd.to_numeric(df_tmp.numberOfOutliersOnTrack, downcast='integer')\n",
    "    \n",
    "    df_tmp.truthProbability = pd.to_numeric(df_tmp.truthProbability, downcast='float')    \n",
    "    df_tmp.score = pd.to_numeric(df_tmp.score, downcast='float')    \n",
    "   \n",
    "    return df_tmp"
   ]
  },
  {
   "cell_type": "code",
   "execution_count": 10,
   "metadata": {},
   "outputs": [
    {
     "name": "stdout",
     "output_type": "stream",
     "text": [
      "downcasting 100 samples\n",
      "1 3 4 7 9 10 11 15 16 20 21 22 23 26 27 28 29 30 33 35 37 39 40 43 44 45 47 48 52 55 59 62 64 65 67 70 71 73 74 75 78 80 81 82 83 84 85 86 87 89 90 91 92 93 94 95 97 99 done\n",
      "columns: Index(['numberOfPixelHoles', 'numberOfSCTHoles', 'numberOfSCTDoubleHoles',\n",
      "       'numberOfContribPixelLayers', 'numberOfBLayerHits',\n",
      "       'numberOfGangedFlaggedFakes', 'numberOfPixelHits', 'numberOfSCTHits',\n",
      "       'standardDeviationOfChi2OS', 'track_pt', 'chiSquared', 'numberDoF',\n",
      "       'numberOfBLayerSplitHits', 'numberOfInnermostLayerSplitHits',\n",
      "       'numberOfInnermostPixelLayerHits',\n",
      "       'numberOfNextToInnermostLayerSplitHits',\n",
      "       'numberOfNextToInnermostPixelLayerHits', 'numberOfPixelSplitHits',\n",
      "       'numberOfPixelOutliers', 'numberOfSCTOutliers',\n",
      "       'numberOfPixelSpoiltHits', 'numberOfSCTSpoiltHits',\n",
      "       'numberOfGangedPixels', 'numberOfOutliersOnTrack', 'track_eta', 'd0',\n",
      "       'z0', 'phi0', 'theta', 'qOverP', 'score', 'linkValid',\n",
      "       'truthProbability'],\n",
      "      dtype='object')\n",
      "Total number of tracks loaded 566245\n"
     ]
    }
   ],
   "source": [
    "# Create new pandas dataframe\n",
    "full_df = pd.DataFrame()\n",
    "# Sometimes useful to keep track of sample type when training on multiple topologies\n",
    "# sample_type = 0 \n",
    "# Load all training samples into dataframe\n",
    "print(\"downcasting\", len(samples), \"samples\")\n",
    "for i, sample in enumerate(samples):\n",
    "    try:\n",
    "        df_tmp = downsize_dataframe(sample)\n",
    "    except:\n",
    "        # skip samples without perigee information for now. Remove later (they should all have it soon)\n",
    "        continue\n",
    "#     df_tmp['sample_type'] = sample_type\n",
    "#     sample_type += 1\n",
    "    full_df = full_df.append(df_tmp)\n",
    "    print(i, end=\" \")\n",
    "\n",
    "# Inspect loaded dataframe\n",
    "print(\"done\")\n",
    "print(\"columns:\", full_df.columns)\n",
    "print(\"Total number of tracks loaded\", len(full_df))"
   ]
  },
  {
   "cell_type": "code",
   "execution_count": 11,
   "metadata": {},
   "outputs": [],
   "source": [
    "# Producing engineered variables. These variables are combinations created with insight (or guessing) and may help the network\n",
    "# One of the variables used in the traditional scoing function is a combination of the\n",
    "# number of pixel hits and pixel holes. We need to create this variable. \n",
    "full_df['Sihits'] = full_df.numberOfPixelHits + full_df.numberOfSCTHits\n",
    "full_df['geometricVariable'] = abs(np.arctan2(abs(full_df.d0),full_df.z0)-2*np.arctan(np.exp(-full_df.track_eta)))\n"
   ]
  },
  {
   "cell_type": "code",
   "execution_count": 12,
   "metadata": {},
   "outputs": [
    {
     "name": "stdout",
     "output_type": "stream",
     "text": [
      "Sampling a flat pt spectrum\n",
      "track_pt: 0.0 to 10000.0 \t tracks:  539413 \t sampled: 100000 (18.54%)\n",
      "track_pt: 10000.0 to inf \t tracks:  26832 \t keeping all: 26832\n"
     ]
    }
   ],
   "source": [
    "# Flattening pt distribution\n",
    "\n",
    "# This was an initial attempt at flattening the pt distribution. This approach uses subsampling as opposed to sample weighting.\n",
    "# Flattening the spectrum in this way had the most significant improvement in reconstruction efficiency at pt > 100.\n",
    "# I will leave this section in since the inital subsampling reduces the number of tracks that the sample weigting\n",
    "# (in the next section) must deal with.\n",
    "\n",
    "# Define the histogram bins\n",
    "d_pt = 1e4; n_bins = 40\n",
    "bins = np.linspace(0, n_bins*d_pt, n_bins, endpoint=False)\n",
    "\n",
    "df_flat = pd.DataFrame()\n",
    "print(\"Sampling a flat pt spectrum\")\n",
    "MAX_TRACKS = int(1e5)\n",
    "for i in range(len(bins)-1):\n",
    "    try:\n",
    "        # Select tracks in the current bin\n",
    "        full_df_in_pt_range = full_df[(full_df.track_pt >= bins[i]) & (full_df.track_pt < bins[i+1])]\n",
    "        # Subsample the tracks in the current pt range\n",
    "        sampled_tracks = full_df_in_pt_range.sample(MAX_TRACKS)\n",
    "        # Build a new dataframe from only the subsampled tracks \n",
    "        df_flat = df_flat.append(sampled_tracks)\n",
    "        # Report what has been kept\n",
    "        print(\"track_pt:\", bins[i], \"to\", bins[i+1],\n",
    "              \"\\t tracks: \",len(full_df_in_pt_range), \n",
    "              \"\\t sampled:\",len(sampled_tracks), \n",
    "              \"({0:.2f}%)\".format(100*len(sampled_tracks)/len(full_df_in_pt_range)))\n",
    "    except ValueError as ex: \n",
    "        # The remaining bins don't have enough tracks to subsample, keep them all\n",
    "        # (Assuming a continuously falling spectrum)\n",
    "        break\n",
    "df_rest = full_df[(full_df.track_pt >= bins[i])]\n",
    "print(\"track_pt:\", bins[i], \"to\", \"inf\", \"\\t tracks: \",len(df_rest), \"\\t keeping all:\",len(df_rest))"
   ]
  },
  {
   "cell_type": "code",
   "execution_count": 13,
   "metadata": {},
   "outputs": [
    {
     "data": {
      "text/plain": [
       "<matplotlib.legend.Legend at 0x7fb12c5c6518>"
      ]
     },
     "execution_count": 13,
     "metadata": {},
     "output_type": "execute_result"
    },
    {
     "data": {
      "image/png": "[encoded data removed]",
      "text/plain": [
       "<Figure size 1080x720 with 1 Axes>"
      ]
     },
     "metadata": {},
     "output_type": "display_data"
    }
   ],
   "source": [
    "# Plot the results of subsampling the pt spectrum\n",
    "# The final bin includes the overflow from all tracks beyond the bin limits\n",
    "\n",
    "ax = (full_df.track_pt.clip(bins[0],bins[-1])/1000).hist(bins=bins/1000, label=\"all\", \n",
    "                                                    log=True, figsize=(15,10)) # other figure params\n",
    "ax.tick_params(direction='out', labelsize=20, grid_alpha=0.8)\n",
    "ax.set_xlabel(\"Track pT [GeV]\", fontsize=20)\n",
    "\n",
    "try: (df_flat.track_pt.clip(bins[0],bins[-1])/1000).hist(bins=bins/1000, label=\"flattened\")\n",
    "except: pass\n",
    "(df_rest.track_pt.clip(bins[0],bins[-1])/1000).hist(bins=bins/1000, label=\"remaining\")\n",
    "ax.set_title(\"Flattened track pt\", fontsize = 30)\n",
    "ax.legend(fontsize=20)"
   ]
  },
  {
   "cell_type": "code",
   "execution_count": 14,
   "metadata": {},
   "outputs": [
    {
     "name": "stdout",
     "output_type": "stream",
     "text": [
      "number of tracks: 126832\n"
     ]
    }
   ],
   "source": [
    "# Caution, this will overwrite the previous full_df variable. \n",
    "# To recover the cut-away tracks you will need to reload the root files.\n",
    "full_df = df_flat.append(df_rest)\n",
    "print(\"number of tracks:\", len(full_df))"
   ]
  },
  {
   "cell_type": "code",
   "execution_count": 15,
   "metadata": {},
   "outputs": [
    {
     "name": "stderr",
     "output_type": "stream",
     "text": [
      "/usr/local/lib/python3.6/dist-packages/ipykernel_launcher.py:17: SettingWithCopyWarning: \n",
      "A value is trying to be set on a copy of a slice from a DataFrame.\n",
      "Try using .loc[row_indexer,col_indexer] = value instead\n",
      "\n",
      "See the caveats in the documentation: http://pandas.pydata.org/pandas-docs/stable/indexing.html#indexing-view-versus-copy\n",
      "/usr/local/lib/python3.6/dist-packages/ipykernel_launcher.py:18: SettingWithCopyWarning: \n",
      "A value is trying to be set on a copy of a slice from a DataFrame.\n",
      "Try using .loc[row_indexer,col_indexer] = value instead\n",
      "\n",
      "See the caveats in the documentation: http://pandas.pydata.org/pandas-docs/stable/indexing.html#indexing-view-versus-copy\n"
     ]
    },
    {
     "name": "stdout",
     "output_type": "stream",
     "text": [
      "Number of tracks 126832\n",
      "Number of tracks selected for signal 95164\n",
      "Number of tracks selected for backgronund 31668\n"
     ]
    },
    {
     "data": {
      "image/png": "[encoded data removed]",
      "text/plain": [
       "<Figure size 720x432 with 1 Axes>"
      ]
     },
     "metadata": {},
     "output_type": "display_data"
    }
   ],
   "source": [
    "# Selecting classes\n",
    "\n",
    "# In this work, \"good\" tracks are those with a truth match probability of greater than or equal to 0.8 \n",
    "# and \"fake\" tracks are those with a truth match probability of less than 0.5. \n",
    "# These are both arbitrary distinctions, but using 0.5 for fake tracks is the common definition in many tracking analyses. \n",
    "# 0.8 was chosen for good tracks to obtain a relatively pure sample of tracks.\n",
    "\n",
    "sig_min = 0.5\n",
    "bkg_max = 0.5\n",
    "\n",
    "# Select and plot track populations\n",
    "condition = (full_df.truthProbability >= sig_min) & (full_df.linkValid == True)\n",
    "df_true = full_df[condition]\n",
    "df_false = full_df[condition == False]\n",
    "\n",
    "# Label collections with truth value\n",
    "df_true[\"signal\"] = 1\n",
    "df_false[\"signal\"] = 0\n",
    "\n",
    "# Plot distribution\n",
    "bins = np.linspace(0,1,11)\n",
    "fig, ax1 = plt.subplots(1, 1,figsize=(10,6))\n",
    "x = [df_false[\"truthProbability\"], df_true[\"truthProbability\"]]\n",
    "colors = ['#55A868','#4C72B0']\n",
    "# Good\n",
    "ax1.hist(x, histtype='bar', color=colors, alpha=1,  bins=bins, stacked=True)\n",
    "\n",
    "ax1.set_xlabel(\"Truth-match probability\", fontsize=12)\n",
    "ax1.set_ylabel(\"Tracks\", fontsize=12)\n",
    "ax1.set_title(\"Training population selection for tracks\", fontsize=18)\n",
    "ax1.legend(['fake (incl. unlinked)', 'good (linked)'], fontsize = 20)\n",
    "ax1.ticklabel_format(style='sci', axis='y', scilimits=(0,0))\n",
    "ymin, ymax = plt.ylim()\n",
    "# plt.ylim(ymin,ymax*1.1)\n",
    "\n",
    "print(\"Number of tracks\", len(full_df))\n",
    "print(\"Number of tracks selected for signal\", len(full_df[(full_df.truthProbability >= sig_min)]))\n",
    "print(\"Number of tracks selected for backgronund\", len(full_df[(full_df.truthProbability < bkg_max)]))"
   ]
  },
  {
   "cell_type": "code",
   "execution_count": 16,
   "metadata": {},
   "outputs": [
    {
     "name": "stdout",
     "output_type": "stream",
     "text": [
      "upsampling\n",
      "Total sample size 198484\n"
     ]
    },
    {
     "data": {
      "image/png": "[encoded data removed]",
      "text/plain": [
       "<Figure size 1008x432 with 3 Axes>"
      ]
     },
     "metadata": {},
     "output_type": "display_data"
    }
   ],
   "source": [
    "# Balance the classes by subsampling the same number of true and fake tracks\n",
    "# This is to prevent the network from learning to prefer one class over the other\n",
    "\n",
    "def upsample(df_true, df_false):\n",
    "    # I've found other upsampling implementations lose information by using replacement\n",
    "    # how much bigger?\n",
    "    if len(df_true) < len(df_false):\n",
    "        majority = df_false\n",
    "        minority = df_true\n",
    "    else:\n",
    "        majority = df_true\n",
    "        minority = df_false\n",
    "        \n",
    "    print('upsampling')\n",
    "    ratio_floor = int(np.floor(len(majority)/len(minority)))\n",
    "    remainder = len(majority) % len(minority)\n",
    "\n",
    "    temp_df = majority\n",
    "    \n",
    "    # append multiplied minority\n",
    "    temp_df = temp_df.append(\n",
    "        pd.concat([minority]*ratio_floor, ignore_index=True),\n",
    "        ignore_index=True)\n",
    "    \n",
    "    # append randomly sampled remaining minority\n",
    "    temp_df = temp_df.append(\n",
    "        minority.sample(remainder),\n",
    "        ignore_index=True)\n",
    "    \n",
    "    # randomly combined data frame\n",
    "    return temp_df.sample(frac=1)\n",
    "\n",
    "def downsample(df_true, df_false):\n",
    "    initial_len = [len(df_true), len(df_false)]\n",
    "    sample_len = min(initial_len)\n",
    "    print('downsampling')\n",
    "    df_true = df_true.sample(sample_len)\n",
    "    df_false = df_false.sample(sample_len)\n",
    "\n",
    "    # Combine and shuffle the true and false dataframes\n",
    "    return df_true.append(df_false).sample(frac=1)\n",
    "            \n",
    "# print(len(downsample(df_true, df_false)))\n",
    "# print(len(upsample(df_true, df_false)))\n",
    "\n",
    "# Combine and shuffle the true and false dataframes\n",
    "initial_len = [len(df_true), len(df_false)]\n",
    "df = upsample(df_true, df_false)\n",
    "true_count = len(df[df.signal == 1])\n",
    "false_count = len(df[df.signal == 0])\n",
    "\n",
    "# Visualize flow in pie charts\n",
    "fig, (ax0, ax1, ax2) = plt.subplots(1, 3,figsize=(14,6))\n",
    "print(\"Total sample size\",len(df))\n",
    "pie1 = ax0.pie(initial_len, labels=[\"Good tracks\", \"Fake tracks\"])\n",
    "pie1 = ax1.pie([true_count, false_count], labels=[\"Good tracks\", \"Fake tracks\"])\n",
    "pie2 = ax2.pie([true_count*.4,false_count*.4,true_count*.1,false_count*.1], labels=[\"\",\"\",\"\", \"\"], colors=[\"#55A868\",\"#4C72B0\",\"#55A868\",\"#4C72B0\"])\n",
    "pie2[0][2].set_alpha(0.5)\n",
    "pie2[0][3].set_alpha(0.5)\n",
    "pie2 = ax2.pie([.8,.2], labels=[\"Training set\", \"Validation set\"], colors=[\"b\",\"g\"], )\n",
    "pie2[0][0].set_alpha(0.0)\n",
    "pie2[0][1].set_alpha(0.0)"
   ]
  },
  {
   "cell_type": "code",
   "execution_count": 17,
   "metadata": {},
   "outputs": [
    {
     "name": "stderr",
     "output_type": "stream",
     "text": [
      "/usr/local/lib/python3.6/dist-packages/matplotlib/axes/_axes.py:6641: RuntimeWarning: invalid value encountered in multiply\n",
      "  boffset = -0.5 * dr * totwidth * (1 - 1 / nx)\n"
     ]
    },
    {
     "data": {
      "image/png": "[encoded data removed]",
      "text/plain": [
       "<Figure size 720x504 with 1 Axes>"
      ]
     },
     "metadata": {},
     "output_type": "display_data"
    }
   ],
   "source": [
    "### Weighing tracks by pt\n",
    "# In this section we weight each track by its inverse histogram weight.\n",
    "# This can be done after flattening by subsampling.\n",
    "# The weights will be used in Keras' training to prevent learning the pt distribution of the tracks\n",
    "# Note: I believe this is important to do after class weighting.\n",
    "\n",
    "# Define bins and produce histogram\n",
    "d_pt = 1000; n_bins = 100\n",
    "bins = np.linspace(0,n_bins*d_pt, n_bins, endpoint=False)\n",
    "pt_hist, _ = np.histogram(df.track_pt, bins=bins, density=False)\n",
    "\n",
    "# Guarantee that anything in the highest bin gets a weight of 1. Like a cutoff. Almost all high bins only have a weight of 1\n",
    "bins[-1] = np.inf\n",
    "pt_hist[-1] = np.max(pt_hist) # Overflow bin\n",
    "\n",
    "# Digitize finds which bin each pt value belongs to\n",
    "pt_bin = np.digitize(df.track_pt, bins)\n",
    "pt_bin = pt_bin - 1 # indexes from one for some reason (may not understand this fully)\n",
    "\n",
    "# Define the weights as the inverse of the histogram weights.\n",
    "# This will give less weight to low-pt tracks since there are many\n",
    "track_weights = (1/pt_hist[pt_bin])\n",
    "df['track_weights'] = track_weights\n",
    "\n",
    "# Sanity check plot. this weighted histogram should be exactly flat.\n",
    "# Some gaps may appear if no tracks fall in that pt range\n",
    "ax = df.track_pt.hist(bins=bins, density=False,figsize=(10,7), weights=track_weights)"
   ]
  },
  {
   "cell_type": "code",
   "execution_count": 18,
   "metadata": {},
   "outputs": [
    {
     "name": "stdout",
     "output_type": "stream",
     "text": [
      "This seems to be a sample of fitted outputs, using hole information\n",
      "\n",
      "variables.json written to /fast_scratch/rnewhous/LRT/training/model\n"
     ]
    },
    {
     "data": {
      "image/png": "[encoded data removed]",
      "text/plain": [
       "<Figure size 1800x576 with 2 Axes>"
      ]
     },
     "metadata": {},
     "output_type": "display_data"
    }
   ],
   "source": [
    "### Select relevant features and scale them\n",
    "# This could be done with a scikitlearn utility, but we're interested in recording the exact values of scaling and offset.\n",
    "# The LWTNN library uses scaling and offset information for each variable to automatically \n",
    "# pre-process the variables within athena.\n",
    "\n",
    "label_names = [\"signal\"]\n",
    "\n",
    "inputs_names = [\n",
    "\n",
    "\"numberOfContribPixelLayers\",\n",
    "\"numberOfBLayerHits\",\n",
    "# \"numberOfGangedFlaggedFakes\", # Badly modelled in MC\n",
    "# \"numberOfPixelHits\", # Badly modelled in MC\n",
    "\"numberOfSCTHits\",\n",
    "\"Sihits\",\n",
    "# \"standardDeviationOfChi2OS\", # Badly modelled in MC\n",
    "\"track_pt\",\n",
    "# \"chiSquared\", # Badly modelled in MC\n",
    "\"numberDoF\",\n",
    "    \n",
    "# \"score\", #does nothing to help\n",
    "\"track_eta\",\n",
    "\"d0\",\n",
    "\"z0\",\n",
    "\"phi0\",\n",
    "\"theta\",\n",
    "\"qOverP\",\n",
    "# 'numberOfInnermostPixelLayerHits', # Badly modelled in MC\n",
    "# 'numberOfNextToInnermostPixelLayerHits', # Badly modelled in MC\n",
    "    \n",
    "#\n",
    "\"geometricVariable\",\n",
    "    \n",
    "# These variables need closer analysis. \n",
    "# They have significant separation between good and fake tracks, \n",
    "# but they don't seem to obviously improve the network performance.\n",
    "\"numberOfBLayerSplitHits\",\n",
    "\"numberOfInnermostLayerSplitHits\",\n",
    "\"numberOfNextToInnermostLayerSplitHits\",\n",
    "\"numberOfPixelSplitHits\",\n",
    "\n",
    "\"numberOfGangedPixels\",\n",
    "\"numberOfOutliersOnTrack\",\n",
    "]\n",
    "if len(df[\"numberOfPixelHoles\"].unique()) > 1:\n",
    "    print(\"This seems to be a sample of fitted outputs, using hole information\")\n",
    "    inputs_names.extend([\n",
    "    # Only used in output (fitted) tracks\n",
    "#     \"numberOfPixelHoles\", # Badly modelled in MC\n",
    "    \"numberOfSCTHoles\",\n",
    "    \"numberOfSCTDoubleHoles\",\n",
    "#     \"numberOfPixelOutliers\",\n",
    "    \"numberOfSCTOutliers\",\n",
    "#     \"numberOfPixelSpoiltHits\", \n",
    "#     \"numberOfSCTSpoiltHits\",\n",
    "    ])\n",
    "\n",
    "\n",
    "# Prepare for saving information to lwtnn\n",
    "# See https://github.com/dguest/lwtnn-tutorial-for-btaggers for motivation for this section\n",
    "variables_json = {'inputs': [],\n",
    "                  'class_labels': [\"nn_score\"]}\n",
    "\n",
    "# Manual scaling to save scale and offset params for lwtnn (otherwise could use skliearn scale)\n",
    "X = np.array(df[inputs_names])\n",
    "X_mean = X.mean(axis=0)\n",
    "X = X - X_mean # offset\n",
    "X_std = X.std(axis=0)\n",
    "# Don't divide by 0. These values are all the same (probably zero) and will be ignored as null values in training.\n",
    "X_std[X_std==0] = 1\n",
    "X = X/X_std # scale\n",
    "for i in range(len(inputs_names)):\n",
    "    variable_dict = {'name': inputs_names[i], 'offset': -X_mean[i], 'scale': 1/X_std[i] }\n",
    "    variables_json['inputs'].append(variable_dict)\n",
    "\n",
    "# now we save some things (create a subdirectory to keep it clean)\n",
    "model_dir = dir_name+'model'\n",
    "if not os.path.isdir(model_dir):\n",
    "    os.mkdir(model_dir)\n",
    "print()\n",
    "with open('{}/variables.json'.format(model_dir),'w') as variables:\n",
    "    variables.write(json.dumps(variables_json, indent=2))\n",
    "print(\"variables.json written to {}\".format(model_dir))\n",
    "    \n",
    "# Don't scale this. Keep the labels binary\n",
    "Y = np.array(df[label_names])\n",
    "\n",
    "# Split into training and validation sets\n",
    "X_train = X[0 : int(0.8*len(X))]\n",
    "X_val =  X[int(0.8*len(X)) : len(X)]\n",
    "Y_train = Y[0 : int(0.8*len(Y))]\n",
    "Y_val =  Y[int(0.8*len(Y)) : len(Y)]\n",
    "\n",
    "# Keep track of the weights\n",
    "train_weights = track_weights[0 : int(0.8*len(X))]\n",
    "val_weights =  track_weights[int(0.8*len(X)) : len(X)]\n",
    "\n",
    "# Check the samples are consistent\n",
    "assert(len(X_train) == len(Y_train))\n",
    "assert(len(X_train) == len(train_weights))\n",
    "assert(len(X_val) == len(Y_val))\n",
    "assert(len(X_val) == len(val_weights))\n",
    "\n",
    "# Plot features\n",
    "X_mean_new = X.mean(axis=0)\n",
    "X_std_new = X.std(axis=0)\n",
    "\n",
    "labels = inputs_names\n",
    "fig, (ax1, ax2) = plt.subplots(1, 2,figsize=(25,8))\n",
    "ax1.semilogy(labels, np.array(X_mean), alpha=0, label='Track')\n",
    "unscaled = ax1.errorbar(labels, np.array(X_mean), yerr=X_std, fmt='D', color='#C44E52', ecolor='#C44E52', linewidth=2, alpha = 0.8, label='_nolegend_')\n",
    "ax1.xaxis.set_tick_params(rotation=90)\n",
    "ax1.legend([unscaled],[\"Mean and stdev of features\"], fontsize=20)\n",
    "ax1.set_title(\"Features - unscaled\", fontsize=18)\n",
    "ax1.set_ylabel(\"Value\", fontsize=12)\n",
    "\n",
    "ax2.plot(labels, np.array(X_mean_new), alpha=0, label='Track')\n",
    "scaled = ax2.errorbar(labels, np.array(X_mean_new), yerr=X_std_new, fmt='D', color='#4C72B0', ecolor='#4C72B0', linewidth=2, alpha = 0.8, label='_nolegend_')\n",
    "ax2.xaxis.set_tick_params(rotation=90)\n",
    "ax2.legend([scaled],[\"Mean and stdev of features\"], fontsize=20)\n",
    "ax2.set_title(\"Features - scaled\", fontsize=18)\n",
    "ax2.set_ylabel(\"Value\", fontsize=12)\n",
    "\n",
    "plt.subplots_adjust(wspace = 0.3)"
   ]
  },
  {
   "cell_type": "code",
   "execution_count": 19,
   "metadata": {},
   "outputs": [],
   "source": [
    "### Callback functions\n",
    "\n",
    "# Functions for visualization\n",
    "# These are useful plots to watch when in a notebook environment\n",
    "# They should show the learning curves of the loss function and the accuracy metric\n",
    "\n",
    "# https://gist.github.com/stared/dfb4dfaf6d9a8501cd1cc8b8cb806d2e\n",
    "class PlotLearning(keras.callbacks.Callback):\n",
    "    def on_train_begin(self, logs={}):\n",
    "        self.i = 0\n",
    "        self.x = []\n",
    "        self.losses = []\n",
    "        self.val_losses = []\n",
    "        self.acc = []\n",
    "        self.val_acc = []\n",
    "        self.fig = plt.figure()\n",
    "        self.pred_good = np.array([])\n",
    "        self.pred_fake = np.array([])\n",
    "        \n",
    "        self.logs = []\n",
    "\n",
    "    def on_epoch_end(self, epoch, logs={}):\n",
    "        \n",
    "        self.logs.append(logs)\n",
    "        self.x.append(self.i)\n",
    "        self.losses.append(logs.get('loss'))\n",
    "        self.val_losses.append(logs.get('val_loss'))\n",
    "        self.acc.append(logs.get('acc'))\n",
    "        self.val_acc.append(logs.get('val_acc'))\n",
    "        self.i += 1\n",
    "        f, (ax1, ax2, ax3) = plt.subplots(1, 3, figsize=(24, 8), sharex=False)\n",
    "        \n",
    "        clear_output(wait=True)\n",
    "        \n",
    "        ax1.set_yscale('log')\n",
    "        ax1.plot(self.x, self.losses, label=\"Training set loss\")\n",
    "        ax1.plot(self.x, self.val_losses, label=\"Validation set loss\")\n",
    "        ax1.legend()\n",
    "        \n",
    "        ax2.plot(self.x, self.acc, label=\"Training set accuracy\")\n",
    "        ax2.plot(self.x, self.val_acc, label=\"Validation set accuracy\")\n",
    "        ax2.legend()\n",
    "        \n",
    "        if (epoch % 10 == 0):\n",
    "            predictions = model.predict(X_val)\n",
    "            self.pred_good = predictions[Y_val.flatten() == 1]\n",
    "            self.pred_fake = predictions[Y_val.flatten() == 0]\n",
    "\n",
    "        x = [self.pred_good, self.pred_fake]\n",
    "        edgecolors = ['#4C72B0','#55A868']\n",
    "        for i in [0,1]:\n",
    "            ax3.hist(x[i], edgecolor=edgecolors[i], histtype='step', linewidth=2.5, alpha=0.85, density=1, bins = np.linspace(0,1,90))\n",
    "        ax3.set_xlabel(\"Value\", fontsize=12)\n",
    "        ax3.set_ylabel(\"Tracks\", fontsize=12)\n",
    "        ax3.set_title(\"NN precidction\", fontsize=18)\n",
    "        ax3.legend(['good', 'fake'], loc='upper center')\n",
    "#         ymin, ymax = plt.ylim()\n",
    "#         plt.ylim(ymin,ymax*1.1)\n",
    "        plt.show();\n",
    "        \n",
    "plot = PlotLearning()\n",
    "\n",
    "\n",
    "checkpoint_path = dir_name + \"training_1/cp.ckpt\"\n",
    "checkpoint_dir = os.path.dirname(checkpoint_path)\n",
    "os.makedirs(checkpoint_dir, exist_ok=True)\n",
    "\n",
    "# Create checkpoint callback\n",
    "cp_callback = keras.callbacks.ModelCheckpoint(checkpoint_path, \n",
    "#                                                  save_weights_only=True,\n",
    "                                                  save_best_only=True,\n",
    "                                                  monitor='val_loss', \n",
    "                                                  mode='min',\n",
    "                                            )\n",
    "\n",
    "# Create early stopping callback\n",
    "early_stop = EarlyStopping(patience=40, restore_best_weights=True)\n",
    "\n",
    "\n",
    "class GetBest(Callback):\n",
    "    \"\"\"Get the best model at the end of training.\n",
    "    # Arguments\n",
    "        monitor: quantity to monitor.\n",
    "        verbose: verbosity mode, 0 or 1.\n",
    "        mode: one of {auto, min, max}.\n",
    "            The decision\n",
    "            to overwrite the current stored weights is made\n",
    "            based on either the maximization or the\n",
    "            minimization of the monitored quantity. For `val_acc`,\n",
    "            this should be `max`, for `val_loss` this should\n",
    "            be `min`, etc. In `auto` mode, the direction is\n",
    "            automatically inferred from the name of the monitored quantity.\n",
    "        period: Interval (number of epochs) between checkpoints.\n",
    "    # Example\n",
    "        callbacks = [GetBest(monitor='val_acc', verbose=1, mode='max')]\n",
    "        mode.fit(X, y, validation_data=(X_eval, Y_eval),\n",
    "                 callbacks=callbacks)\n",
    "    \"\"\"\n",
    "\n",
    "    def __init__(self, monitor='val_loss', verbose=0,\n",
    "                 mode='auto', period=1):\n",
    "        super(GetBest, self).__init__()\n",
    "        self.monitor = monitor\n",
    "        self.verbose = verbose\n",
    "        self.period = period\n",
    "        self.best_epochs = 0\n",
    "        self.epochs_since_last_save = 0\n",
    "\n",
    "        if mode not in ['auto', 'min', 'max']:\n",
    "            warnings.warn('GetBest mode %s is unknown, '\n",
    "                          'fallback to auto mode.' % (mode),\n",
    "                          RuntimeWarning)\n",
    "            mode = 'auto'\n",
    "\n",
    "        if mode == 'min':\n",
    "            self.monitor_op = np.less\n",
    "            self.best = np.Inf\n",
    "        elif mode == 'max':\n",
    "            self.monitor_op = np.greater\n",
    "            self.best = -np.Inf\n",
    "        else:\n",
    "            if 'acc' in self.monitor or self.monitor.startswith('fmeasure'):\n",
    "                self.monitor_op = np.greater\n",
    "                self.best = -np.Inf\n",
    "            else:\n",
    "                self.monitor_op = np.less\n",
    "                self.best = np.Inf\n",
    "                \n",
    "    def on_train_begin(self, logs=None):\n",
    "        self.best_weights = self.model.get_weights()\n",
    "\n",
    "    def on_epoch_end(self, epoch, logs=None):\n",
    "        logs = logs or {}\n",
    "        self.epochs_since_last_save += 1\n",
    "        if self.epochs_since_last_save >= self.period:\n",
    "            self.epochs_since_last_save = 0\n",
    "            #filepath = self.filepath.format(epoch=epoch + 1, **logs)\n",
    "            current = logs.get(self.monitor)\n",
    "            if current is None:\n",
    "                warnings.warn('Can pick best model only with %s available, '\n",
    "                              'skipping.' % (self.monitor), RuntimeWarning)\n",
    "            else:\n",
    "                if self.monitor_op(current, self.best):\n",
    "                    if self.verbose > 0:\n",
    "                        print('\\nEpoch %05d: %s improved from %0.5f to %0.5f,'\n",
    "                              ' storing weights.'\n",
    "                              % (epoch + 1, self.monitor, self.best,\n",
    "                                 current))\n",
    "                    self.best = current\n",
    "                    self.best_epochs = epoch + 1\n",
    "                    self.best_weights = self.model.get_weights()\n",
    "                else:\n",
    "                    if self.verbose > 0:\n",
    "                        print('\\nEpoch %05d: %s did not improve' %\n",
    "                              (epoch + 1, self.monitor))            \n",
    "                    \n",
    "    def on_train_end(self, logs=None):\n",
    "        if self.verbose > 0:\n",
    "            print('Using epoch %05d with %s: %0.5f' % (self.best_epochs, self.monitor,\n",
    "                                                       self.best))\n",
    "        self.model.set_weights(self.best_weights)\n",
    "        \n",
    "from keras import backend as K\n",
    "\n",
    "def recall_m(y_true, y_pred):\n",
    "    true_positives = K.sum(K.round(K.clip(y_true * y_pred, 0, 1)))\n",
    "    possible_positives = K.sum(K.round(K.clip(y_true, 0, 1)))\n",
    "    recall = true_positives / (possible_positives + K.epsilon())\n",
    "    return recall\n",
    "\n",
    "def precision_m(y_true, y_pred):\n",
    "    true_positives = K.sum(K.round(K.clip(y_true * y_pred, 0, 1)))\n",
    "    predicted_positives = K.sum(K.round(K.clip(y_pred, 0, 1)))\n",
    "    precision = true_positives / (predicted_positives + K.epsilon())\n",
    "    return precision\n",
    "\n",
    "def f1_m(y_true, y_pred):\n",
    "    precision = precision_m(y_true, y_pred)\n",
    "    recall = recall_m(y_true, y_pred)\n",
    "    return 2*((precision*recall)/(precision+recall+K.epsilon()))"
   ]
  },
  {
   "cell_type": "code",
   "execution_count": 20,
   "metadata": {},
   "outputs": [
    {
     "name": "stdout",
     "output_type": "stream",
     "text": [
      "Input tensor shape (examples, features): (158787, 22)\n",
      "WARNING:tensorflow:From /home/rnewhous/.local/lib/python3.6/site-packages/tensorflow/python/ops/init_ops.py:1251: calling VarianceScaling.__init__ (from tensorflow.python.ops.init_ops) with dtype is deprecated and will be removed in a future version.\n",
      "Instructions for updating:\n",
      "Call initializer instance with the dtype argument instead of passing it to the constructor\n",
      "WARNING:tensorflow:From /home/rnewhous/.local/lib/python3.6/site-packages/tensorflow/python/ops/nn_impl.py:180: add_dispatch_support.<locals>.wrapper (from tensorflow.python.ops.array_ops) is deprecated and will be removed in a future version.\n",
      "Instructions for updating:\n",
      "Use tf.where in 2.0, which has the same broadcast rule as np.where\n",
      "Model: \"sequential\"\n",
      "_________________________________________________________________\n",
      "Layer (type)                 Output Shape              Param #   \n",
      "=================================================================\n",
      "dense (Dense)                (None, 22)                506       \n",
      "_________________________________________________________________\n",
      "dense_1 (Dense)              (None, 66)                1518      \n",
      "_________________________________________________________________\n",
      "dense_2 (Dense)              (None, 44)                2948      \n",
      "_________________________________________________________________\n",
      "dense_3 (Dense)              (None, 22)                990       \n",
      "_________________________________________________________________\n",
      "dense_4 (Dense)              (None, 22)                506       \n",
      "_________________________________________________________________\n",
      "dense_5 (Dense)              (None, 1)                 23        \n",
      "=================================================================\n",
      "Total params: 6,491\n",
      "Trainable params: 6,491\n",
      "Non-trainable params: 0\n",
      "_________________________________________________________________\n",
      "None\n"
     ]
    }
   ],
   "source": [
    "### Define the network\n",
    "# Different architectures have been tested but not rigorously. A grid search my help find optimal hyperparameters.\n",
    "\n",
    "n_variables = X_train.shape[1]\n",
    "print(\"Input tensor shape (examples, features):\", X_train.shape)\n",
    "\n",
    "# Create model\n",
    "def create_model():\n",
    "    model = keras.Sequential()\n",
    "    model.add(keras.layers.Dense(n_variables, input_dim=n_variables, activation='relu'))\n",
    "    model.add(keras.layers.Dense(n_variables*3, activation='relu',kernel_regularizer=keras.regularizers.l2(0.001)))\n",
    "    model.add(keras.layers.Dense(n_variables*2, activation='relu'))\n",
    "#     model.add(keras.layers.Dropout(rate=0.1, seed=1))\n",
    "    model.add(keras.layers.Dense(n_variables, activation='relu'))\n",
    "    model.add(keras.layers.Dense(n_variables, activation='relu'))\n",
    "#     model.add(keras.layers.Dropout(rate=0.1, seed=1))\n",
    "#     model.add(keras.layers.Dense(12, input_dim=n_variables, activation='relu'))\n",
    "    model.add(keras.layers.Dense(1, activation='sigmoid'))\n",
    "    # Compile model\n",
    "    model.compile(loss='binary_crossentropy', \n",
    "                  optimizer = keras.optimizers.Adamax(lr=0.0003),\n",
    "                  metrics=['accuracy', f1_m, precision_m, recall_m])\n",
    "    \n",
    "    return model\n",
    "\n",
    "model = create_model()\n",
    "print(model.summary())"
   ]
  },
  {
   "cell_type": "code",
   "execution_count": 70,
   "metadata": {},
   "outputs": [
    {
     "ename": "KeyboardInterrupt",
     "evalue": "",
     "output_type": "error",
     "traceback": [
      "\u001b[0;31m---------------------------------------------------------------------------\u001b[0m",
      "\u001b[0;31mKeyboardInterrupt\u001b[0m                         Traceback (most recent call last)",
      "\u001b[0;32m<ipython-input-70-bb22e42c292e>\u001b[0m in \u001b[0;36m<module>\u001b[0;34m()\u001b[0m\n\u001b[1;32m      5\u001b[0m history = model.fit(X_train, Y_train, epochs=10000, batch_size=5000000 , \n\u001b[1;32m      6\u001b[0m                     \u001b[0mcallbacks\u001b[0m\u001b[0;34m=\u001b[0m\u001b[0;34m[\u001b[0m\u001b[0mplot\u001b[0m\u001b[0;34m,\u001b[0m \u001b[0mearly_stop\u001b[0m\u001b[0;34m,\u001b[0m \u001b[0mGetBest\u001b[0m\u001b[0;34m(\u001b[0m\u001b[0mmonitor\u001b[0m\u001b[0;34m=\u001b[0m\u001b[0;34m'val_acc'\u001b[0m\u001b[0;34m,\u001b[0m \u001b[0mverbose\u001b[0m\u001b[0;34m=\u001b[0m\u001b[0;36m1\u001b[0m\u001b[0;34m,\u001b[0m \u001b[0mmode\u001b[0m\u001b[0;34m=\u001b[0m\u001b[0;34m'max'\u001b[0m\u001b[0;34m)\u001b[0m \u001b[0;34m]\u001b[0m\u001b[0;34m,\u001b[0m\u001b[0;34m\u001b[0m\u001b[0;34m\u001b[0m\u001b[0m\n\u001b[0;32m----> 7\u001b[0;31m                     \u001b[0mvalidation_data\u001b[0m\u001b[0;34m=\u001b[0m\u001b[0;34m(\u001b[0m\u001b[0mX_val\u001b[0m\u001b[0;34m,\u001b[0m \u001b[0mY_val\u001b[0m\u001b[0;34m,\u001b[0m \u001b[0;34m)\u001b[0m\u001b[0;34m,\u001b[0m\u001b[0;34m\u001b[0m\u001b[0;34m\u001b[0m\u001b[0m\n\u001b[0m\u001b[1;32m      8\u001b[0m \u001b[0;31m#                     sample_weight = train_weights\u001b[0m\u001b[0;34m\u001b[0m\u001b[0;34m\u001b[0m\u001b[0;34m\u001b[0m\u001b[0m\n\u001b[1;32m      9\u001b[0m                    )\n",
      "\u001b[0;32m~/.local/lib/python3.6/site-packages/tensorflow/python/keras/engine/training.py\u001b[0m in \u001b[0;36mfit\u001b[0;34m(self, x, y, batch_size, epochs, verbose, callbacks, validation_split, validation_data, shuffle, class_weight, sample_weight, initial_epoch, steps_per_epoch, validation_steps, validation_freq, max_queue_size, workers, use_multiprocessing, **kwargs)\u001b[0m\n\u001b[1;32m    778\u001b[0m           \u001b[0mvalidation_steps\u001b[0m\u001b[0;34m=\u001b[0m\u001b[0mvalidation_steps\u001b[0m\u001b[0;34m,\u001b[0m\u001b[0;34m\u001b[0m\u001b[0;34m\u001b[0m\u001b[0m\n\u001b[1;32m    779\u001b[0m           \u001b[0mvalidation_freq\u001b[0m\u001b[0;34m=\u001b[0m\u001b[0mvalidation_freq\u001b[0m\u001b[0;34m,\u001b[0m\u001b[0;34m\u001b[0m\u001b[0;34m\u001b[0m\u001b[0m\n\u001b[0;32m--> 780\u001b[0;31m           steps_name='steps_per_epoch')\n\u001b[0m\u001b[1;32m    781\u001b[0m \u001b[0;34m\u001b[0m\u001b[0m\n\u001b[1;32m    782\u001b[0m   def evaluate(self,\n",
      "\u001b[0;32m~/.local/lib/python3.6/site-packages/tensorflow/python/keras/engine/training_arrays.py\u001b[0m in \u001b[0;36mmodel_iteration\u001b[0;34m(model, inputs, targets, sample_weights, batch_size, epochs, verbose, callbacks, val_inputs, val_targets, val_sample_weights, shuffle, initial_epoch, steps_per_epoch, validation_steps, validation_freq, mode, validation_in_fit, prepared_feed_values_from_dataset, steps_name, **kwargs)\u001b[0m\n\u001b[1;32m    417\u001b[0m     \u001b[0;32mif\u001b[0m \u001b[0mmode\u001b[0m \u001b[0;34m==\u001b[0m \u001b[0mModeKeys\u001b[0m\u001b[0;34m.\u001b[0m\u001b[0mTRAIN\u001b[0m\u001b[0;34m:\u001b[0m\u001b[0;34m\u001b[0m\u001b[0;34m\u001b[0m\u001b[0m\n\u001b[1;32m    418\u001b[0m       \u001b[0;31m# Epochs only apply to `fit`.\u001b[0m\u001b[0;34m\u001b[0m\u001b[0;34m\u001b[0m\u001b[0;34m\u001b[0m\u001b[0m\n\u001b[0;32m--> 419\u001b[0;31m       \u001b[0mcallbacks\u001b[0m\u001b[0;34m.\u001b[0m\u001b[0mon_epoch_end\u001b[0m\u001b[0;34m(\u001b[0m\u001b[0mepoch\u001b[0m\u001b[0;34m,\u001b[0m \u001b[0mepoch_logs\u001b[0m\u001b[0;34m)\u001b[0m\u001b[0;34m\u001b[0m\u001b[0;34m\u001b[0m\u001b[0m\n\u001b[0m\u001b[1;32m    420\u001b[0m     \u001b[0mprogbar\u001b[0m\u001b[0;34m.\u001b[0m\u001b[0mon_epoch_end\u001b[0m\u001b[0;34m(\u001b[0m\u001b[0mepoch\u001b[0m\u001b[0;34m,\u001b[0m \u001b[0mepoch_logs\u001b[0m\u001b[0;34m)\u001b[0m\u001b[0;34m\u001b[0m\u001b[0;34m\u001b[0m\u001b[0m\n\u001b[1;32m    421\u001b[0m \u001b[0;34m\u001b[0m\u001b[0m\n",
      "\u001b[0;32m~/.local/lib/python3.6/site-packages/tensorflow/python/keras/callbacks.py\u001b[0m in \u001b[0;36mon_epoch_end\u001b[0;34m(self, epoch, logs)\u001b[0m\n\u001b[1;32m    309\u001b[0m     \u001b[0mlogs\u001b[0m \u001b[0;34m=\u001b[0m \u001b[0mlogs\u001b[0m \u001b[0;32mor\u001b[0m \u001b[0;34m{\u001b[0m\u001b[0;34m}\u001b[0m\u001b[0;34m\u001b[0m\u001b[0;34m\u001b[0m\u001b[0m\n\u001b[1;32m    310\u001b[0m     \u001b[0;32mfor\u001b[0m \u001b[0mcallback\u001b[0m \u001b[0;32min\u001b[0m \u001b[0mself\u001b[0m\u001b[0;34m.\u001b[0m\u001b[0mcallbacks\u001b[0m\u001b[0;34m:\u001b[0m\u001b[0;34m\u001b[0m\u001b[0;34m\u001b[0m\u001b[0m\n\u001b[0;32m--> 311\u001b[0;31m       \u001b[0mcallback\u001b[0m\u001b[0;34m.\u001b[0m\u001b[0mon_epoch_end\u001b[0m\u001b[0;34m(\u001b[0m\u001b[0mepoch\u001b[0m\u001b[0;34m,\u001b[0m \u001b[0mlogs\u001b[0m\u001b[0;34m)\u001b[0m\u001b[0;34m\u001b[0m\u001b[0;34m\u001b[0m\u001b[0m\n\u001b[0m\u001b[1;32m    312\u001b[0m \u001b[0;34m\u001b[0m\u001b[0m\n\u001b[1;32m    313\u001b[0m   \u001b[0;32mdef\u001b[0m \u001b[0mon_train_batch_begin\u001b[0m\u001b[0;34m(\u001b[0m\u001b[0mself\u001b[0m\u001b[0;34m,\u001b[0m \u001b[0mbatch\u001b[0m\u001b[0;34m,\u001b[0m \u001b[0mlogs\u001b[0m\u001b[0;34m=\u001b[0m\u001b[0;32mNone\u001b[0m\u001b[0;34m)\u001b[0m\u001b[0;34m:\u001b[0m\u001b[0;34m\u001b[0m\u001b[0;34m\u001b[0m\u001b[0m\n",
      "\u001b[0;32m<ipython-input-68-90e78073ed3c>\u001b[0m in \u001b[0;36mon_epoch_end\u001b[0;34m(self, epoch, logs)\u001b[0m\n\u001b[1;32m     57\u001b[0m \u001b[0;31m#         ymin, ymax = plt.ylim()\u001b[0m\u001b[0;34m\u001b[0m\u001b[0;34m\u001b[0m\u001b[0;34m\u001b[0m\u001b[0m\n\u001b[1;32m     58\u001b[0m \u001b[0;31m#         plt.ylim(ymin,ymax*1.1)\u001b[0m\u001b[0;34m\u001b[0m\u001b[0;34m\u001b[0m\u001b[0;34m\u001b[0m\u001b[0m\n\u001b[0;32m---> 59\u001b[0;31m         \u001b[0mplt\u001b[0m\u001b[0;34m.\u001b[0m\u001b[0mshow\u001b[0m\u001b[0;34m(\u001b[0m\u001b[0;34m)\u001b[0m\u001b[0;34m;\u001b[0m\u001b[0;34m\u001b[0m\u001b[0;34m\u001b[0m\u001b[0m\n\u001b[0m\u001b[1;32m     60\u001b[0m \u001b[0;34m\u001b[0m\u001b[0m\n\u001b[1;32m     61\u001b[0m \u001b[0mplot\u001b[0m \u001b[0;34m=\u001b[0m \u001b[0mPlotLearning\u001b[0m\u001b[0;34m(\u001b[0m\u001b[0;34m)\u001b[0m\u001b[0;34m\u001b[0m\u001b[0;34m\u001b[0m\u001b[0m\n",
      "\u001b[0;32m/usr/local/lib/python3.6/dist-packages/matplotlib/pyplot.py\u001b[0m in \u001b[0;36mshow\u001b[0;34m(*args, **kw)\u001b[0m\n\u001b[1;32m    252\u001b[0m     \"\"\"\n\u001b[1;32m    253\u001b[0m     \u001b[0;32mglobal\u001b[0m \u001b[0m_show\u001b[0m\u001b[0;34m\u001b[0m\u001b[0;34m\u001b[0m\u001b[0m\n\u001b[0;32m--> 254\u001b[0;31m     \u001b[0;32mreturn\u001b[0m \u001b[0m_show\u001b[0m\u001b[0;34m(\u001b[0m\u001b[0;34m*\u001b[0m\u001b[0margs\u001b[0m\u001b[0;34m,\u001b[0m \u001b[0;34m**\u001b[0m\u001b[0mkw\u001b[0m\u001b[0;34m)\u001b[0m\u001b[0;34m\u001b[0m\u001b[0;34m\u001b[0m\u001b[0m\n\u001b[0m\u001b[1;32m    255\u001b[0m \u001b[0;34m\u001b[0m\u001b[0m\n\u001b[1;32m    256\u001b[0m \u001b[0;34m\u001b[0m\u001b[0m\n",
      "\u001b[0;32m/usr/local/lib/python3.6/dist-packages/ipykernel/pylab/backend_inline.py\u001b[0m in \u001b[0;36mshow\u001b[0;34m(close, block)\u001b[0m\n\u001b[1;32m     34\u001b[0m     \u001b[0;32mtry\u001b[0m\u001b[0;34m:\u001b[0m\u001b[0;34m\u001b[0m\u001b[0;34m\u001b[0m\u001b[0m\n\u001b[1;32m     35\u001b[0m         \u001b[0;32mfor\u001b[0m \u001b[0mfigure_manager\u001b[0m \u001b[0;32min\u001b[0m \u001b[0mGcf\u001b[0m\u001b[0;34m.\u001b[0m\u001b[0mget_all_fig_managers\u001b[0m\u001b[0;34m(\u001b[0m\u001b[0;34m)\u001b[0m\u001b[0;34m:\u001b[0m\u001b[0;34m\u001b[0m\u001b[0;34m\u001b[0m\u001b[0m\n\u001b[0;32m---> 36\u001b[0;31m             \u001b[0mdisplay\u001b[0m\u001b[0;34m(\u001b[0m\u001b[0mfigure_manager\u001b[0m\u001b[0;34m.\u001b[0m\u001b[0mcanvas\u001b[0m\u001b[0;34m.\u001b[0m\u001b[0mfigure\u001b[0m\u001b[0;34m)\u001b[0m\u001b[0;34m\u001b[0m\u001b[0;34m\u001b[0m\u001b[0m\n\u001b[0m\u001b[1;32m     37\u001b[0m     \u001b[0;32mfinally\u001b[0m\u001b[0;34m:\u001b[0m\u001b[0;34m\u001b[0m\u001b[0;34m\u001b[0m\u001b[0m\n\u001b[1;32m     38\u001b[0m         \u001b[0mshow\u001b[0m\u001b[0;34m.\u001b[0m\u001b[0m_to_draw\u001b[0m \u001b[0;34m=\u001b[0m \u001b[0;34m[\u001b[0m\u001b[0;34m]\u001b[0m\u001b[0;34m\u001b[0m\u001b[0;34m\u001b[0m\u001b[0m\n",
      "\u001b[0;32m/usr/local/lib/python3.6/dist-packages/IPython/core/display.py\u001b[0m in \u001b[0;36mdisplay\u001b[0;34m(include, exclude, metadata, transient, display_id, *objs, **kwargs)\u001b[0m\n\u001b[1;32m    296\u001b[0m             \u001b[0mpublish_display_data\u001b[0m\u001b[0;34m(\u001b[0m\u001b[0mdata\u001b[0m\u001b[0;34m=\u001b[0m\u001b[0mobj\u001b[0m\u001b[0;34m,\u001b[0m \u001b[0mmetadata\u001b[0m\u001b[0;34m=\u001b[0m\u001b[0mmetadata\u001b[0m\u001b[0;34m,\u001b[0m \u001b[0;34m**\u001b[0m\u001b[0mkwargs\u001b[0m\u001b[0;34m)\u001b[0m\u001b[0;34m\u001b[0m\u001b[0;34m\u001b[0m\u001b[0m\n\u001b[1;32m    297\u001b[0m         \u001b[0;32melse\u001b[0m\u001b[0;34m:\u001b[0m\u001b[0;34m\u001b[0m\u001b[0;34m\u001b[0m\u001b[0m\n\u001b[0;32m--> 298\u001b[0;31m             \u001b[0mformat_dict\u001b[0m\u001b[0;34m,\u001b[0m \u001b[0mmd_dict\u001b[0m \u001b[0;34m=\u001b[0m \u001b[0mformat\u001b[0m\u001b[0;34m(\u001b[0m\u001b[0mobj\u001b[0m\u001b[0;34m,\u001b[0m \u001b[0minclude\u001b[0m\u001b[0;34m=\u001b[0m\u001b[0minclude\u001b[0m\u001b[0;34m,\u001b[0m \u001b[0mexclude\u001b[0m\u001b[0;34m=\u001b[0m\u001b[0mexclude\u001b[0m\u001b[0;34m)\u001b[0m\u001b[0;34m\u001b[0m\u001b[0;34m\u001b[0m\u001b[0m\n\u001b[0m\u001b[1;32m    299\u001b[0m             \u001b[0;32mif\u001b[0m \u001b[0;32mnot\u001b[0m \u001b[0mformat_dict\u001b[0m\u001b[0;34m:\u001b[0m\u001b[0;34m\u001b[0m\u001b[0;34m\u001b[0m\u001b[0m\n\u001b[1;32m    300\u001b[0m                 \u001b[0;31m# nothing to display (e.g. _ipython_display_ took over)\u001b[0m\u001b[0;34m\u001b[0m\u001b[0;34m\u001b[0m\u001b[0;34m\u001b[0m\u001b[0m\n",
      "\u001b[0;32m/usr/local/lib/python3.6/dist-packages/IPython/core/formatters.py\u001b[0m in \u001b[0;36mformat\u001b[0;34m(self, obj, include, exclude)\u001b[0m\n\u001b[1;32m    178\u001b[0m             \u001b[0mmd\u001b[0m \u001b[0;34m=\u001b[0m \u001b[0;32mNone\u001b[0m\u001b[0;34m\u001b[0m\u001b[0;34m\u001b[0m\u001b[0m\n\u001b[1;32m    179\u001b[0m             \u001b[0;32mtry\u001b[0m\u001b[0;34m:\u001b[0m\u001b[0;34m\u001b[0m\u001b[0;34m\u001b[0m\u001b[0m\n\u001b[0;32m--> 180\u001b[0;31m                 \u001b[0mdata\u001b[0m \u001b[0;34m=\u001b[0m \u001b[0mformatter\u001b[0m\u001b[0;34m(\u001b[0m\u001b[0mobj\u001b[0m\u001b[0;34m)\u001b[0m\u001b[0;34m\u001b[0m\u001b[0;34m\u001b[0m\u001b[0m\n\u001b[0m\u001b[1;32m    181\u001b[0m             \u001b[0;32mexcept\u001b[0m\u001b[0;34m:\u001b[0m\u001b[0;34m\u001b[0m\u001b[0;34m\u001b[0m\u001b[0m\n\u001b[1;32m    182\u001b[0m                 \u001b[0;31m# FIXME: log the exception\u001b[0m\u001b[0;34m\u001b[0m\u001b[0;34m\u001b[0m\u001b[0;34m\u001b[0m\u001b[0m\n",
      "\u001b[0;32m<decorator-gen-9>\u001b[0m in \u001b[0;36m__call__\u001b[0;34m(self, obj)\u001b[0m\n",
      "\u001b[0;32m/usr/local/lib/python3.6/dist-packages/IPython/core/formatters.py\u001b[0m in \u001b[0;36mcatch_format_error\u001b[0;34m(method, self, *args, **kwargs)\u001b[0m\n\u001b[1;32m    222\u001b[0m     \u001b[0;34m\"\"\"show traceback on failed format call\"\"\"\u001b[0m\u001b[0;34m\u001b[0m\u001b[0;34m\u001b[0m\u001b[0m\n\u001b[1;32m    223\u001b[0m     \u001b[0;32mtry\u001b[0m\u001b[0;34m:\u001b[0m\u001b[0;34m\u001b[0m\u001b[0;34m\u001b[0m\u001b[0m\n\u001b[0;32m--> 224\u001b[0;31m         \u001b[0mr\u001b[0m \u001b[0;34m=\u001b[0m \u001b[0mmethod\u001b[0m\u001b[0;34m(\u001b[0m\u001b[0mself\u001b[0m\u001b[0;34m,\u001b[0m \u001b[0;34m*\u001b[0m\u001b[0margs\u001b[0m\u001b[0;34m,\u001b[0m \u001b[0;34m**\u001b[0m\u001b[0mkwargs\u001b[0m\u001b[0;34m)\u001b[0m\u001b[0;34m\u001b[0m\u001b[0;34m\u001b[0m\u001b[0m\n\u001b[0m\u001b[1;32m    225\u001b[0m     \u001b[0;32mexcept\u001b[0m \u001b[0mNotImplementedError\u001b[0m\u001b[0;34m:\u001b[0m\u001b[0;34m\u001b[0m\u001b[0;34m\u001b[0m\u001b[0m\n\u001b[1;32m    226\u001b[0m         \u001b[0;31m# don't warn on NotImplementedErrors\u001b[0m\u001b[0;34m\u001b[0m\u001b[0;34m\u001b[0m\u001b[0;34m\u001b[0m\u001b[0m\n",
      "\u001b[0;32m/usr/local/lib/python3.6/dist-packages/IPython/core/formatters.py\u001b[0m in \u001b[0;36m__call__\u001b[0;34m(self, obj)\u001b[0m\n\u001b[1;32m    339\u001b[0m                 \u001b[0;32mpass\u001b[0m\u001b[0;34m\u001b[0m\u001b[0;34m\u001b[0m\u001b[0m\n\u001b[1;32m    340\u001b[0m             \u001b[0;32melse\u001b[0m\u001b[0;34m:\u001b[0m\u001b[0;34m\u001b[0m\u001b[0;34m\u001b[0m\u001b[0m\n\u001b[0;32m--> 341\u001b[0;31m                 \u001b[0;32mreturn\u001b[0m \u001b[0mprinter\u001b[0m\u001b[0;34m(\u001b[0m\u001b[0mobj\u001b[0m\u001b[0;34m)\u001b[0m\u001b[0;34m\u001b[0m\u001b[0;34m\u001b[0m\u001b[0m\n\u001b[0m\u001b[1;32m    342\u001b[0m             \u001b[0;31m# Finally look for special method names\u001b[0m\u001b[0;34m\u001b[0m\u001b[0;34m\u001b[0m\u001b[0;34m\u001b[0m\u001b[0m\n\u001b[1;32m    343\u001b[0m             \u001b[0mmethod\u001b[0m \u001b[0;34m=\u001b[0m \u001b[0mget_real_method\u001b[0m\u001b[0;34m(\u001b[0m\u001b[0mobj\u001b[0m\u001b[0;34m,\u001b[0m \u001b[0mself\u001b[0m\u001b[0;34m.\u001b[0m\u001b[0mprint_method\u001b[0m\u001b[0;34m)\u001b[0m\u001b[0;34m\u001b[0m\u001b[0;34m\u001b[0m\u001b[0m\n",
      "\u001b[0;32m/usr/local/lib/python3.6/dist-packages/IPython/core/pylabtools.py\u001b[0m in \u001b[0;36m<lambda>\u001b[0;34m(fig)\u001b[0m\n\u001b[1;32m    239\u001b[0m \u001b[0;34m\u001b[0m\u001b[0m\n\u001b[1;32m    240\u001b[0m     \u001b[0;32mif\u001b[0m \u001b[0;34m'png'\u001b[0m \u001b[0;32min\u001b[0m \u001b[0mformats\u001b[0m\u001b[0;34m:\u001b[0m\u001b[0;34m\u001b[0m\u001b[0;34m\u001b[0m\u001b[0m\n\u001b[0;32m--> 241\u001b[0;31m         \u001b[0mpng_formatter\u001b[0m\u001b[0;34m.\u001b[0m\u001b[0mfor_type\u001b[0m\u001b[0;34m(\u001b[0m\u001b[0mFigure\u001b[0m\u001b[0;34m,\u001b[0m \u001b[0;32mlambda\u001b[0m \u001b[0mfig\u001b[0m\u001b[0;34m:\u001b[0m \u001b[0mprint_figure\u001b[0m\u001b[0;34m(\u001b[0m\u001b[0mfig\u001b[0m\u001b[0;34m,\u001b[0m \u001b[0;34m'png'\u001b[0m\u001b[0;34m,\u001b[0m \u001b[0;34m**\u001b[0m\u001b[0mkwargs\u001b[0m\u001b[0;34m)\u001b[0m\u001b[0;34m)\u001b[0m\u001b[0;34m\u001b[0m\u001b[0;34m\u001b[0m\u001b[0m\n\u001b[0m\u001b[1;32m    242\u001b[0m     \u001b[0;32mif\u001b[0m \u001b[0;34m'retina'\u001b[0m \u001b[0;32min\u001b[0m \u001b[0mformats\u001b[0m \u001b[0;32mor\u001b[0m \u001b[0;34m'png2x'\u001b[0m \u001b[0;32min\u001b[0m \u001b[0mformats\u001b[0m\u001b[0;34m:\u001b[0m\u001b[0;34m\u001b[0m\u001b[0;34m\u001b[0m\u001b[0m\n\u001b[1;32m    243\u001b[0m         \u001b[0mpng_formatter\u001b[0m\u001b[0;34m.\u001b[0m\u001b[0mfor_type\u001b[0m\u001b[0;34m(\u001b[0m\u001b[0mFigure\u001b[0m\u001b[0;34m,\u001b[0m \u001b[0;32mlambda\u001b[0m \u001b[0mfig\u001b[0m\u001b[0;34m:\u001b[0m \u001b[0mretina_figure\u001b[0m\u001b[0;34m(\u001b[0m\u001b[0mfig\u001b[0m\u001b[0;34m,\u001b[0m \u001b[0;34m**\u001b[0m\u001b[0mkwargs\u001b[0m\u001b[0;34m)\u001b[0m\u001b[0;34m)\u001b[0m\u001b[0;34m\u001b[0m\u001b[0;34m\u001b[0m\u001b[0m\n",
      "\u001b[0;32m/usr/local/lib/python3.6/dist-packages/IPython/core/pylabtools.py\u001b[0m in \u001b[0;36mprint_figure\u001b[0;34m(fig, fmt, bbox_inches, **kwargs)\u001b[0m\n\u001b[1;32m    123\u001b[0m \u001b[0;34m\u001b[0m\u001b[0m\n\u001b[1;32m    124\u001b[0m     \u001b[0mbytes_io\u001b[0m \u001b[0;34m=\u001b[0m \u001b[0mBytesIO\u001b[0m\u001b[0;34m(\u001b[0m\u001b[0;34m)\u001b[0m\u001b[0;34m\u001b[0m\u001b[0;34m\u001b[0m\u001b[0m\n\u001b[0;32m--> 125\u001b[0;31m     \u001b[0mfig\u001b[0m\u001b[0;34m.\u001b[0m\u001b[0mcanvas\u001b[0m\u001b[0;34m.\u001b[0m\u001b[0mprint_figure\u001b[0m\u001b[0;34m(\u001b[0m\u001b[0mbytes_io\u001b[0m\u001b[0;34m,\u001b[0m \u001b[0;34m**\u001b[0m\u001b[0mkw\u001b[0m\u001b[0;34m)\u001b[0m\u001b[0;34m\u001b[0m\u001b[0;34m\u001b[0m\u001b[0m\n\u001b[0m\u001b[1;32m    126\u001b[0m     \u001b[0mdata\u001b[0m \u001b[0;34m=\u001b[0m \u001b[0mbytes_io\u001b[0m\u001b[0;34m.\u001b[0m\u001b[0mgetvalue\u001b[0m\u001b[0;34m(\u001b[0m\u001b[0;34m)\u001b[0m\u001b[0;34m\u001b[0m\u001b[0;34m\u001b[0m\u001b[0m\n\u001b[1;32m    127\u001b[0m     \u001b[0;32mif\u001b[0m \u001b[0mfmt\u001b[0m \u001b[0;34m==\u001b[0m \u001b[0;34m'svg'\u001b[0m\u001b[0;34m:\u001b[0m\u001b[0;34m\u001b[0m\u001b[0;34m\u001b[0m\u001b[0m\n",
      "\u001b[0;32m/usr/local/lib/python3.6/dist-packages/matplotlib/backend_bases.py\u001b[0m in \u001b[0;36mprint_figure\u001b[0;34m(self, filename, dpi, facecolor, edgecolor, orientation, format, bbox_inches, **kwargs)\u001b[0m\n\u001b[1;32m   2047\u001b[0m                         \u001b[0morientation\u001b[0m\u001b[0;34m=\u001b[0m\u001b[0morientation\u001b[0m\u001b[0;34m,\u001b[0m\u001b[0;34m\u001b[0m\u001b[0;34m\u001b[0m\u001b[0m\n\u001b[1;32m   2048\u001b[0m                         \u001b[0mdryrun\u001b[0m\u001b[0;34m=\u001b[0m\u001b[0;32mTrue\u001b[0m\u001b[0;34m,\u001b[0m\u001b[0;34m\u001b[0m\u001b[0;34m\u001b[0m\u001b[0m\n\u001b[0;32m-> 2049\u001b[0;31m                         **kwargs)\n\u001b[0m\u001b[1;32m   2050\u001b[0m                     \u001b[0mrenderer\u001b[0m \u001b[0;34m=\u001b[0m \u001b[0mself\u001b[0m\u001b[0;34m.\u001b[0m\u001b[0mfigure\u001b[0m\u001b[0;34m.\u001b[0m\u001b[0m_cachedRenderer\u001b[0m\u001b[0;34m\u001b[0m\u001b[0;34m\u001b[0m\u001b[0m\n\u001b[1;32m   2051\u001b[0m                     \u001b[0mbbox_artists\u001b[0m \u001b[0;34m=\u001b[0m \u001b[0mkwargs\u001b[0m\u001b[0;34m.\u001b[0m\u001b[0mpop\u001b[0m\u001b[0;34m(\u001b[0m\u001b[0;34m\"bbox_extra_artists\"\u001b[0m\u001b[0;34m,\u001b[0m \u001b[0;32mNone\u001b[0m\u001b[0;34m)\u001b[0m\u001b[0;34m\u001b[0m\u001b[0;34m\u001b[0m\u001b[0m\n",
      "\u001b[0;32m/usr/local/lib/python3.6/dist-packages/matplotlib/backends/backend_agg.py\u001b[0m in \u001b[0;36mprint_png\u001b[0;34m(self, filename_or_obj, *args, **kwargs)\u001b[0m\n\u001b[1;32m    521\u001b[0m                 \u001b[0mcbook\u001b[0m\u001b[0;34m.\u001b[0m\u001b[0mopen_file_cm\u001b[0m\u001b[0;34m(\u001b[0m\u001b[0mfilename_or_obj\u001b[0m\u001b[0;34m,\u001b[0m \u001b[0;34m\"wb\"\u001b[0m\u001b[0;34m)\u001b[0m \u001b[0;32mas\u001b[0m \u001b[0mfh\u001b[0m\u001b[0;34m:\u001b[0m\u001b[0;34m\u001b[0m\u001b[0;34m\u001b[0m\u001b[0m\n\u001b[1;32m    522\u001b[0m             _png.write_png(renderer._renderer, fh,\n\u001b[0;32m--> 523\u001b[0;31m                             self.figure.dpi, metadata=metadata)\n\u001b[0m\u001b[1;32m    524\u001b[0m \u001b[0;34m\u001b[0m\u001b[0m\n\u001b[1;32m    525\u001b[0m     \u001b[0;32mdef\u001b[0m \u001b[0mprint_to_buffer\u001b[0m\u001b[0;34m(\u001b[0m\u001b[0mself\u001b[0m\u001b[0;34m)\u001b[0m\u001b[0;34m:\u001b[0m\u001b[0;34m\u001b[0m\u001b[0;34m\u001b[0m\u001b[0m\n",
      "\u001b[0;31mKeyboardInterrupt\u001b[0m: "
     ]
    }
   ],
   "source": [
    "### Train model, this will take some time\n",
    "# Note: this cell can be run again to train even more, as long as the model is not re-made, the optomizer will maintain its last state\n",
    "\n",
    "# Fit the model\n",
    "history = model.fit(X_train, Y_train, epochs=10000, batch_size=5000000 , \n",
    "                    callbacks=[plot, early_stop, GetBest(monitor='val_acc', verbose=1, mode='max') ], \n",
    "                    validation_data=(X_val, Y_val, ),\n",
    "#                     sample_weight = train_weights\n",
    "                   )"
   ]
  },
  {
   "cell_type": "code",
   "execution_count": 21,
   "metadata": {},
   "outputs": [
    {
     "name": "stdout",
     "output_type": "stream",
     "text": [
      "39697/39697 [==============================] - 1s 31us/sample - loss: 0.7202 - acc: 0.6020 - f1_m: 0.5784 - precision_m: 0.6044 - recall_m: 0.5691\n",
      "\n",
      "acc: 60.20%\n"
     ]
    }
   ],
   "source": [
    "# Rough evaluation of the model. See below for more precise metrics.\n",
    "scores = model.evaluate(X_val, Y_val)\n",
    "print(\"\\n%s: %.2f%%\" % (model.metrics_names[1], scores[1]*100))"
   ]
  },
  {
   "cell_type": "code",
   "execution_count": 72,
   "metadata": {},
   "outputs": [
    {
     "name": "stdout",
     "output_type": "stream",
     "text": [
      "Model saved to /fast_scratch/rnewhous/LRT/training/model/20200521_070324/\n"
     ]
    }
   ],
   "source": [
    "### Saving the model\n",
    "# Now that the model is trained, we want to save it in a format that lwtnn can use\n",
    "# the lwtnn converters prefer specific formats of network models and weights.\n",
    "# The lines below should save things correctly\n",
    "\n",
    "# Create a time-stamped subdirectory to keep clean records\n",
    "model_dir = dir_name+'model/'+datetime.datetime.now().strftime('%Y%m%d_%H%M%S')\n",
    "if not os.path.isdir(model_dir):\n",
    "    os.mkdir(model_dir)\n",
    "\n",
    "# Save the architecture as json\n",
    "with open('{}/arch.json'.format(model_dir),'w') as archetecture:\n",
    "    archetecture.write(model.to_json(indent=2, sort_keys=True) )\n",
    "    \n",
    "# Save the weights as hdf5\n",
    "model.save_weights('{}/weights.h5'.format(model_dir), save_format='h5')\n",
    "\n",
    "# Save the variables (calculated in previous section)\n",
    "with open('{}/variables.json'.format(model_dir),'w') as variables:\n",
    "    variables.write(json.dumps(variables_json, indent=2))\n",
    "# print(\"variables.json written to {}\".format(model_dir))\n",
    "\n",
    "# Save the summary. Lwtnn doesn't require this but it can be good reference.\n",
    "with open('{}/summary.txt'.format(model_dir),'w') as summary:\n",
    "    model.summary(print_fn=lambda x: summary.write(x + '\\n'))\n",
    "\n",
    "# Additionally we can save the network in a format that Keras can pick up and use later\n",
    "# Note: the optimizer state cannot be saved, so the network cannot be trained on further\n",
    "# from its current state, but it can be used to evaluate new samples and analyze performance\n",
    "model.save('{}/model-keras.json'.format(model_dir))\n",
    "    \n",
    "print(\"Model saved to {}/\".format(model_dir))"
   ]
  },
  {
   "cell_type": "code",
   "execution_count": 73,
   "metadata": {},
   "outputs": [
    {
     "name": "stdout",
     "output_type": "stream",
     "text": [
      "Success, model saved in lwtnn format\n",
      "/fast_scratch/rnewhous/LRT/training/model/20200521_070324/nn-config.json\n"
     ]
    }
   ],
   "source": [
    "# We can take care of converting the network to lwtnn format right here\n",
    "# Note: This converter is slightly different than the one the current version of lwtnn at the time of this writing\n",
    "# I needed to make a small change in the structure of the converter.\n",
    "# k2j = './converters/keras2json.py'\n",
    "k2j = 'converters/keras2json.py'\n",
    "k2j_command = k2j + \" {0}/arch.json {0}/variables.json {0}/weights.h5 > {0}/nn-config.json\".format((model_dir))\n",
    "# print(k2j_command)\n",
    "if(os.system(k2j_command) == 0): print(\"Success, model saved in lwtnn format\\n{}/nn-config.json\".format(model_dir))\n",
    "else: print(\"Failed to save model\")\n",
    "    "
   ]
  },
  {
   "cell_type": "code",
   "execution_count": 22,
   "metadata": {},
   "outputs": [
    {
     "name": "stdout",
     "output_type": "stream",
     "text": [
      "WARNING:tensorflow:From /home/rnewhous/.local/lib/python3.6/site-packages/tensorflow/python/ops/init_ops.py:97: calling GlorotUniform.__init__ (from tensorflow.python.ops.init_ops) with dtype is deprecated and will be removed in a future version.\n",
      "Instructions for updating:\n",
      "Call initializer instance with the dtype argument instead of passing it to the constructor\n",
      "WARNING:tensorflow:From /home/rnewhous/.local/lib/python3.6/site-packages/tensorflow/python/ops/init_ops.py:97: calling Zeros.__init__ (from tensorflow.python.ops.init_ops) with dtype is deprecated and will be removed in a future version.\n",
      "Instructions for updating:\n",
      "Call initializer instance with the dtype argument instead of passing it to the constructor\n",
      "Loaded model from disk\n"
     ]
    }
   ],
   "source": [
    "# # in case you want to load an old model\n",
    "if True:\n",
    "    model_dir_load = \"/fast_scratch/rnewhous/LRT/training/model/20200521_070324/\"\n",
    "    json_file = open(model_dir_load+'arch.json', 'r')\n",
    "    loaded_model_json = json_file.read()\n",
    "    json_file.close()\n",
    "    loaded_model = keras.models.model_from_json(loaded_model_json)\n",
    "    loaded_model.load_weights(model_dir_load+'weights.h5')\n",
    "    model = loaded_model\n",
    "    print(\"Loaded model from disk\")\n",
    "    model.compile(loss='binary_crossentropy', \n",
    "                  optimizer = keras.optimizers.Adamax(lr=0.0003),\n",
    "                  metrics=['accuracy', f1_m, precision_m, recall_m])\n",
    "\n",
    "\n",
    "# # keras.models.model_from_json(\"\")"
   ]
  },
  {
   "cell_type": "code",
   "execution_count": 23,
   "metadata": {},
   "outputs": [
    {
     "name": "stdout",
     "output_type": "stream",
     "text": [
      "predictions finished\n",
      "cut finished\n"
     ]
    }
   ],
   "source": [
    "### Evaluate the network's performance\n",
    "# Now we can look in-depth at the performance of the neural network in separating the classes\n",
    "# Remember however that this is only a proxy to the true metric of performance: efficiency and fake rate\n",
    "# in athena's track reconstruction algorithm. That depends on relative ordering and cannot be evaluated here\n",
    "# We can however measure the discrimination power and assume that it translates to preferred ordering.\n",
    "\n",
    "# evaluate predictions\n",
    "predictions = model.predict(X_val)\n",
    "print(\"predictions finished\")\n",
    "predictions_cut = predictions>0.5\n",
    "print(\"cut finished\")"
   ]
  },
  {
   "cell_type": "code",
   "execution_count": 24,
   "metadata": {},
   "outputs": [
    {
     "name": "stdout",
     "output_type": "stream",
     "text": [
      "Accuracy 0.8897\n",
      "F1 Score 0.8883\n",
      "Precision 0.8915\n",
      "Recall 0.8851\n",
      "Confusion Matrix: \n",
      " [[17905  2119]\n",
      " [ 2261 17412]]\n",
      "saved to /fast_scratch/rnewhous/LRT/training/model/model_performance.json\n"
     ]
    }
   ],
   "source": [
    "# It can be useful when comparing models later on to save additional performance stats to the model directory\n",
    "# https://towardsdatascience.com/metrics-to-evaluate-your-machine-learning-algorithm-f10ba6e38234\n",
    "model_performance = {}\n",
    "    \n",
    "model_performance['accuracy_score'] = accuracy_score(y_true=Y_val, y_pred=predictions_cut)\n",
    "print(\"Accuracy %.4f\" % model_performance['accuracy_score'])\n",
    "model_performance['f1_score'] = f1_score(y_true=Y_val, y_pred=predictions_cut)\n",
    "print(\"F1 Score %.4f\" % model_performance['f1_score'])\n",
    "model_performance['precision_score'] = precision_score(y_true=Y_val, y_pred=predictions_cut)\n",
    "print(\"Precision %.4f\" % model_performance['precision_score'])\n",
    "model_performance['recall_score'] = recall_score(y_true=Y_val, y_pred=predictions_cut)\n",
    "print(\"Recall %.4f\" % model_performance['recall_score'])\n",
    "model_performance['confusion_matrix'] = confusion_matrix(y_true=Y_val, y_pred=predictions_cut)\n",
    "print(\"Confusion Matrix: \\n\", model_performance['confusion_matrix'])    \n",
    "\n",
    "with open('{}/model_performance.json'.format(model_dir),'w') as model_performance_file:\n",
    "    json.dump(str(model_performance), model_performance_file)\n",
    "print(\"saved to {}/model_performance.json\".format(model_dir))"
   ]
  },
  {
   "cell_type": "code",
   "execution_count": 25,
   "metadata": {},
   "outputs": [
    {
     "data": {
      "image/png": "[encoded data removed]",
      "text/plain": [
       "<Figure size 720x432 with 1 Axes>"
      ]
     },
     "metadata": {},
     "output_type": "display_data"
    },
    {
     "data": {
      "text/plain": [
       "<Figure size 432x288 with 0 Axes>"
      ]
     },
     "metadata": {},
     "output_type": "display_data"
    }
   ],
   "source": [
    "# Visualize the NN dicriminant evaluated on good and fake tracks\n",
    "\n",
    "pred_good = predictions[Y_val.flatten() == 1]\n",
    "pred_fake = predictions[Y_val.flatten() == 0]\n",
    "\n",
    "fig, ax1 = plt.subplots(1, 1,figsize=(10,6))\n",
    "x = [pred_good, pred_fake]\n",
    "edgecolors = ['#4C72B0','#55A868']\n",
    "for i in [0,1]:\n",
    "    ax1.hist(x[i], edgecolor=edgecolors[i], histtype='step', linewidth=2.5, alpha=0.85, density=1, bins = np.linspace(0,1,60))\n",
    "ax1.set_xlabel(\"Value\", fontsize=12)\n",
    "ax1.set_ylabel(\"Tracks\", fontsize=12)\n",
    "ax1.set_title(\"NN precidction\", fontsize=18)\n",
    "ax1.legend(['good', 'fake'], loc='upper center')\n",
    "ymin, ymax = plt.ylim()\n",
    "plt.ylim(ymin,ymax*1.1)\n",
    "plt.show()\n",
    "plt.savefig('{}/discriminant.png'.format(model_dir),)\n",
    "\n",
    "# From a previous study where we would cut on some nn value to remove fakes\n",
    "# for cut in [0.05,0.1,0.2,0.5,0.8]:\n",
    "#     total_fake = len(pred_fake)\n",
    "#     remaining_fake = len(pred_fake[pred_fake>=cut])\n",
    "#     print(\"Cutting at {}: remaining fakes: {:.2%}\".format(cut, remaining_fake/total_fake))\n",
    "#     total_good = len(pred_good)\n",
    "#     remaining_good = len(pred_good[pred_good>=cut])\n",
    "#     print(\"                remaining goods: {:.2%}\".format(remaining_good/total_good))\n",
    "    "
   ]
  },
  {
   "cell_type": "code",
   "execution_count": 26,
   "metadata": {},
   "outputs": [
    {
     "data": {
      "image/png": "[encoded data removed]",
      "text/plain": [
       "<Figure size 720x432 with 1 Axes>"
      ]
     },
     "metadata": {},
     "output_type": "display_data"
    },
    {
     "data": {
      "text/plain": [
       "<Figure size 432x288 with 0 Axes>"
      ]
     },
     "metadata": {},
     "output_type": "display_data"
    }
   ],
   "source": [
    "# Plotting the ROC curve\n",
    "# https://www.dlology.com/blog/simple-guide-on-how-to-generate-roc-plot-for-keras-classifier/\n",
    "from sklearn.metrics import roc_curve\n",
    "y_pred_keras = predictions.ravel()\n",
    "fpr_keras, tpr_keras, thresholds_keras = roc_curve(Y_val, y_pred_keras)\n",
    "\n",
    "from sklearn.metrics import auc\n",
    "auc_keras = auc(fpr_keras, tpr_keras)\n",
    "\n",
    "plt.figure(1, (10,6))\n",
    "plt.plot([0, 1], [0, 1], 'k--')\n",
    "plt.plot(fpr_keras, tpr_keras, label='Keras (area = {:.3f})'.format(auc_keras))\n",
    "# plt.plot(fpr_rf, tpr_rf, label='RF (area = {:.3f})'.format(auc_rf))\n",
    "plt.xlabel('False positive rate')\n",
    "plt.ylabel('True positive rate')\n",
    "plt.title('ROC curve')\n",
    "plt.legend(loc='best')\n",
    "plt.show()\n",
    "plt.savefig('{}/roc.png'.format(model_dir),)\n",
    "# # Zoom in view of the upper left corner.\n",
    "# plt.figure(2, (10,6))\n",
    "# plt.xlim(0, 0.2)\n",
    "# plt.ylim(0.8, 1)\n",
    "# plt.plot([0, 1], [0, 1], 'k--')\n",
    "# plt.plot(fpr_keras, tpr_keras, label='Keras (area = {:.3f})'.format(auc_keras))\n",
    "# # plt.plot(fpr_rf, tpr_rf, label='RF (area = {:.3f})'.format(auc_rf))\n",
    "# plt.xlabel('False positive rate')\n",
    "# plt.ylabel('True positive rate')\n",
    "# plt.title('ROC curve (zoomed in at top left)')\n",
    "# plt.legend(loc='best')\n",
    "# plt.show()"
   ]
  },
  {
   "cell_type": "code",
   "execution_count": null,
   "metadata": {},
   "outputs": [],
   "source": [
    "################### End of useful stuff. Things beyond here are just for fun. They may not work #######################\n",
    "!python3.6 -m pip install --upgrade pandas"
   ]
  },
  {
   "cell_type": "code",
   "execution_count": 1,
   "metadata": {},
   "outputs": [
    {
     "name": "stderr",
     "output_type": "stream",
     "text": [
      "/home/rnewhous/.local/lib/python3.6/site-packages/sklearn/utils/deprecation.py:143: FutureWarning: The sklearn.metrics.scorer module is  deprecated in version 0.22 and will be removed in version 0.24. The corresponding classes / functions should instead be imported from sklearn.metrics. Anything that cannot be imported from sklearn.metrics is now part of the private API.\n",
      "  warnings.warn(message, FutureWarning)\n",
      "/home/rnewhous/.local/lib/python3.6/site-packages/sklearn/utils/deprecation.py:143: FutureWarning: The sklearn.feature_selection.base module is  deprecated in version 0.22 and will be removed in version 0.24. The corresponding classes / functions should instead be imported from sklearn.feature_selection. Anything that cannot be imported from sklearn.feature_selection is now part of the private API.\n",
      "  warnings.warn(message, FutureWarning)\n",
      "Using TensorFlow backend.\n",
      "/home/rnewhous/.local/lib/python3.6/site-packages/tensorflow/python/framework/dtypes.py:516: FutureWarning: Passing (type, 1) or '1type' as a synonym of type is deprecated; in a future version of numpy, it will be understood as (type, (1,)) / '(1,)type'.\n",
      "  _np_qint8 = np.dtype([(\"qint8\", np.int8, 1)])\n",
      "/home/rnewhous/.local/lib/python3.6/site-packages/tensorflow/python/framework/dtypes.py:517: FutureWarning: Passing (type, 1) or '1type' as a synonym of type is deprecated; in a future version of numpy, it will be understood as (type, (1,)) / '(1,)type'.\n",
      "  _np_quint8 = np.dtype([(\"quint8\", np.uint8, 1)])\n",
      "/home/rnewhous/.local/lib/python3.6/site-packages/tensorflow/python/framework/dtypes.py:518: FutureWarning: Passing (type, 1) or '1type' as a synonym of type is deprecated; in a future version of numpy, it will be understood as (type, (1,)) / '(1,)type'.\n",
      "  _np_qint16 = np.dtype([(\"qint16\", np.int16, 1)])\n",
      "/home/rnewhous/.local/lib/python3.6/site-packages/tensorflow/python/framework/dtypes.py:519: FutureWarning: Passing (type, 1) or '1type' as a synonym of type is deprecated; in a future version of numpy, it will be understood as (type, (1,)) / '(1,)type'.\n",
      "  _np_quint16 = np.dtype([(\"quint16\", np.uint16, 1)])\n",
      "/home/rnewhous/.local/lib/python3.6/site-packages/tensorflow/python/framework/dtypes.py:520: FutureWarning: Passing (type, 1) or '1type' as a synonym of type is deprecated; in a future version of numpy, it will be understood as (type, (1,)) / '(1,)type'.\n",
      "  _np_qint32 = np.dtype([(\"qint32\", np.int32, 1)])\n",
      "/home/rnewhous/.local/lib/python3.6/site-packages/tensorflow/python/framework/dtypes.py:525: FutureWarning: Passing (type, 1) or '1type' as a synonym of type is deprecated; in a future version of numpy, it will be understood as (type, (1,)) / '(1,)type'.\n",
      "  np_resource = np.dtype([(\"resource\", np.ubyte, 1)])\n",
      "/home/rnewhous/.local/lib/python3.6/site-packages/tensorboard/compat/tensorflow_stub/dtypes.py:541: FutureWarning: Passing (type, 1) or '1type' as a synonym of type is deprecated; in a future version of numpy, it will be understood as (type, (1,)) / '(1,)type'.\n",
      "  _np_qint8 = np.dtype([(\"qint8\", np.int8, 1)])\n",
      "/home/rnewhous/.local/lib/python3.6/site-packages/tensorboard/compat/tensorflow_stub/dtypes.py:542: FutureWarning: Passing (type, 1) or '1type' as a synonym of type is deprecated; in a future version of numpy, it will be understood as (type, (1,)) / '(1,)type'.\n",
      "  _np_quint8 = np.dtype([(\"quint8\", np.uint8, 1)])\n",
      "/home/rnewhous/.local/lib/python3.6/site-packages/tensorboard/compat/tensorflow_stub/dtypes.py:543: FutureWarning: Passing (type, 1) or '1type' as a synonym of type is deprecated; in a future version of numpy, it will be understood as (type, (1,)) / '(1,)type'.\n",
      "  _np_qint16 = np.dtype([(\"qint16\", np.int16, 1)])\n",
      "/home/rnewhous/.local/lib/python3.6/site-packages/tensorboard/compat/tensorflow_stub/dtypes.py:544: FutureWarning: Passing (type, 1) or '1type' as a synonym of type is deprecated; in a future version of numpy, it will be understood as (type, (1,)) / '(1,)type'.\n",
      "  _np_quint16 = np.dtype([(\"quint16\", np.uint16, 1)])\n",
      "/home/rnewhous/.local/lib/python3.6/site-packages/tensorboard/compat/tensorflow_stub/dtypes.py:545: FutureWarning: Passing (type, 1) or '1type' as a synonym of type is deprecated; in a future version of numpy, it will be understood as (type, (1,)) / '(1,)type'.\n",
      "  _np_qint32 = np.dtype([(\"qint32\", np.int32, 1)])\n",
      "/home/rnewhous/.local/lib/python3.6/site-packages/tensorboard/compat/tensorflow_stub/dtypes.py:550: FutureWarning: Passing (type, 1) or '1type' as a synonym of type is deprecated; in a future version of numpy, it will be understood as (type, (1,)) / '(1,)type'.\n",
      "  np_resource = np.dtype([(\"resource\", np.ubyte, 1)])\n"
     ]
    },
    {
     "ename": "NameError",
     "evalue": "name 'pd' is not defined",
     "output_type": "error",
     "traceback": [
      "\u001b[0;31m---------------------------------------------------------------------------\u001b[0m",
      "\u001b[0;31mNameError\u001b[0m                                 Traceback (most recent call last)",
      "\u001b[0;32m<ipython-input-1-3f6adbc77292>\u001b[0m in \u001b[0;36m<module>\u001b[0;34m()\u001b[0m\n\u001b[1;32m      3\u001b[0m \u001b[0;32mimport\u001b[0m \u001b[0meli5\u001b[0m\u001b[0;34m\u001b[0m\u001b[0;34m\u001b[0m\u001b[0m\n\u001b[1;32m      4\u001b[0m \u001b[0;32mfrom\u001b[0m \u001b[0meli5\u001b[0m\u001b[0;34m.\u001b[0m\u001b[0msklearn\u001b[0m \u001b[0;32mimport\u001b[0m \u001b[0mPermutationImportance\u001b[0m\u001b[0;34m\u001b[0m\u001b[0;34m\u001b[0m\u001b[0m\n\u001b[0;32m----> 5\u001b[0;31m \u001b[0mY_df\u001b[0m \u001b[0;34m=\u001b[0m \u001b[0mpd\u001b[0m\u001b[0;34m.\u001b[0m\u001b[0mDataFrame\u001b[0m\u001b[0;34m(\u001b[0m\u001b[0mY_val\u001b[0m \u001b[0;34m==\u001b[0m \u001b[0;36m1\u001b[0m\u001b[0;34m,\u001b[0m \u001b[0mcolumns\u001b[0m\u001b[0;34m=\u001b[0m\u001b[0mlabel_names\u001b[0m\u001b[0;34m)\u001b[0m\u001b[0;34m\u001b[0m\u001b[0;34m\u001b[0m\u001b[0m\n\u001b[0m\u001b[1;32m      6\u001b[0m \u001b[0mX_df\u001b[0m \u001b[0;34m=\u001b[0m \u001b[0mpd\u001b[0m\u001b[0;34m.\u001b[0m\u001b[0mDataFrame\u001b[0m\u001b[0;34m(\u001b[0m\u001b[0mX_val\u001b[0m\u001b[0;34m,\u001b[0m \u001b[0mcolumns\u001b[0m\u001b[0;34m=\u001b[0m\u001b[0minputs_names\u001b[0m\u001b[0;34m)\u001b[0m\u001b[0;34m\u001b[0m\u001b[0;34m\u001b[0m\u001b[0m\n",
      "\u001b[0;31mNameError\u001b[0m: name 'pd' is not defined"
     ]
    }
   ],
   "source": [
    "# Permutation importance. i.e. which features were the most important\n",
    "# https://www.kaggle.com/dansbecker/permutation-importance\n",
    "import eli5\n",
    "from eli5.sklearn import PermutationImportance\n",
    "Y_df = pd.DataFrame(Y_val == 1, columns=label_names)\n",
    "X_df = pd.DataFrame(X_val, columns=inputs_names)\n"
   ]
  },
  {
   "cell_type": "code",
   "execution_count": 86,
   "metadata": {},
   "outputs": [],
   "source": [
    "import numpy as np\n",
    "import pandas as pd\n",
    "from sklearn.model_selection import train_test_split\n",
    "from sklearn.ensemble import RandomForestClassifier\n",
    "\n"
   ]
  },
  {
   "cell_type": "code",
   "execution_count": 97,
   "metadata": {},
   "outputs": [
    {
     "ename": "ValueError",
     "evalue": "Classification metrics can't handle a mix of binary and continuous targets",
     "output_type": "error",
     "traceback": [
      "\u001b[0;31m---------------------------------------------------------------------------\u001b[0m",
      "\u001b[0;31mValueError\u001b[0m                                Traceback (most recent call last)",
      "\u001b[0;32m<ipython-input-97-07a627479845>\u001b[0m in \u001b[0;36m<module>\u001b[0;34m()\u001b[0m\n\u001b[1;32m      1\u001b[0m \u001b[0mperm\u001b[0m \u001b[0;34m=\u001b[0m \u001b[0mPermutationImportance\u001b[0m\u001b[0;34m(\u001b[0m\u001b[0mmodel\u001b[0m\u001b[0;34m,\u001b[0m \u001b[0mrandom_state\u001b[0m\u001b[0;34m=\u001b[0m\u001b[0;36m1\u001b[0m\u001b[0;34m,\u001b[0m \u001b[0mscoring\u001b[0m\u001b[0;34m=\u001b[0m\u001b[0;34m'f1'\u001b[0m\u001b[0;34m)\u001b[0m\u001b[0;34m\u001b[0m\u001b[0;34m\u001b[0m\u001b[0m\n\u001b[0;32m----> 2\u001b[0;31m \u001b[0mperm\u001b[0m\u001b[0;34m.\u001b[0m\u001b[0mfit\u001b[0m\u001b[0;34m(\u001b[0m\u001b[0mX_df\u001b[0m\u001b[0;34m,\u001b[0m \u001b[0mY_df\u001b[0m\u001b[0;34m)\u001b[0m\u001b[0;34m\u001b[0m\u001b[0;34m\u001b[0m\u001b[0m\n\u001b[0m",
      "\u001b[0;32m~/.local/lib/python3.6/site-packages/eli5/sklearn/permutation_importance.py\u001b[0m in \u001b[0;36mfit\u001b[0;34m(self, X, y, groups, **fit_params)\u001b[0m\n\u001b[1;32m    200\u001b[0m             \u001b[0msi\u001b[0m \u001b[0;34m=\u001b[0m \u001b[0mself\u001b[0m\u001b[0;34m.\u001b[0m\u001b[0m_cv_scores_importances\u001b[0m\u001b[0;34m(\u001b[0m\u001b[0mX\u001b[0m\u001b[0;34m,\u001b[0m \u001b[0my\u001b[0m\u001b[0;34m,\u001b[0m \u001b[0mgroups\u001b[0m\u001b[0;34m=\u001b[0m\u001b[0mgroups\u001b[0m\u001b[0;34m,\u001b[0m \u001b[0;34m**\u001b[0m\u001b[0mfit_params\u001b[0m\u001b[0;34m)\u001b[0m\u001b[0;34m\u001b[0m\u001b[0;34m\u001b[0m\u001b[0m\n\u001b[1;32m    201\u001b[0m         \u001b[0;32melse\u001b[0m\u001b[0;34m:\u001b[0m\u001b[0;34m\u001b[0m\u001b[0;34m\u001b[0m\u001b[0m\n\u001b[0;32m--> 202\u001b[0;31m             \u001b[0msi\u001b[0m \u001b[0;34m=\u001b[0m \u001b[0mself\u001b[0m\u001b[0;34m.\u001b[0m\u001b[0m_non_cv_scores_importances\u001b[0m\u001b[0;34m(\u001b[0m\u001b[0mX\u001b[0m\u001b[0;34m,\u001b[0m \u001b[0my\u001b[0m\u001b[0;34m)\u001b[0m\u001b[0;34m\u001b[0m\u001b[0;34m\u001b[0m\u001b[0m\n\u001b[0m\u001b[1;32m    203\u001b[0m         \u001b[0mscores\u001b[0m\u001b[0;34m,\u001b[0m \u001b[0mresults\u001b[0m \u001b[0;34m=\u001b[0m \u001b[0msi\u001b[0m\u001b[0;34m\u001b[0m\u001b[0;34m\u001b[0m\u001b[0m\n\u001b[1;32m    204\u001b[0m         \u001b[0mself\u001b[0m\u001b[0;34m.\u001b[0m\u001b[0mscores_\u001b[0m \u001b[0;34m=\u001b[0m \u001b[0mnp\u001b[0m\u001b[0;34m.\u001b[0m\u001b[0marray\u001b[0m\u001b[0;34m(\u001b[0m\u001b[0mscores\u001b[0m\u001b[0;34m)\u001b[0m\u001b[0;34m\u001b[0m\u001b[0;34m\u001b[0m\u001b[0m\n",
      "\u001b[0;32m~/.local/lib/python3.6/site-packages/eli5/sklearn/permutation_importance.py\u001b[0m in \u001b[0;36m_non_cv_scores_importances\u001b[0;34m(self, X, y)\u001b[0m\n\u001b[1;32m    224\u001b[0m     \u001b[0;32mdef\u001b[0m \u001b[0m_non_cv_scores_importances\u001b[0m\u001b[0;34m(\u001b[0m\u001b[0mself\u001b[0m\u001b[0;34m,\u001b[0m \u001b[0mX\u001b[0m\u001b[0;34m,\u001b[0m \u001b[0my\u001b[0m\u001b[0;34m)\u001b[0m\u001b[0;34m:\u001b[0m\u001b[0;34m\u001b[0m\u001b[0;34m\u001b[0m\u001b[0m\n\u001b[1;32m    225\u001b[0m         \u001b[0mscore_func\u001b[0m \u001b[0;34m=\u001b[0m \u001b[0mpartial\u001b[0m\u001b[0;34m(\u001b[0m\u001b[0mself\u001b[0m\u001b[0;34m.\u001b[0m\u001b[0mscorer_\u001b[0m\u001b[0;34m,\u001b[0m \u001b[0mself\u001b[0m\u001b[0;34m.\u001b[0m\u001b[0mwrapped_estimator_\u001b[0m\u001b[0;34m)\u001b[0m\u001b[0;34m\u001b[0m\u001b[0;34m\u001b[0m\u001b[0m\n\u001b[0;32m--> 226\u001b[0;31m         \u001b[0mbase_score\u001b[0m\u001b[0;34m,\u001b[0m \u001b[0mimportances\u001b[0m \u001b[0;34m=\u001b[0m \u001b[0mself\u001b[0m\u001b[0;34m.\u001b[0m\u001b[0m_get_score_importances\u001b[0m\u001b[0;34m(\u001b[0m\u001b[0mscore_func\u001b[0m\u001b[0;34m,\u001b[0m \u001b[0mX\u001b[0m\u001b[0;34m,\u001b[0m \u001b[0my\u001b[0m\u001b[0;34m)\u001b[0m\u001b[0;34m\u001b[0m\u001b[0;34m\u001b[0m\u001b[0m\n\u001b[0m\u001b[1;32m    227\u001b[0m         \u001b[0;32mreturn\u001b[0m \u001b[0;34m[\u001b[0m\u001b[0mbase_score\u001b[0m\u001b[0;34m]\u001b[0m \u001b[0;34m*\u001b[0m \u001b[0mlen\u001b[0m\u001b[0;34m(\u001b[0m\u001b[0mimportances\u001b[0m\u001b[0;34m)\u001b[0m\u001b[0;34m,\u001b[0m \u001b[0mimportances\u001b[0m\u001b[0;34m\u001b[0m\u001b[0;34m\u001b[0m\u001b[0m\n\u001b[1;32m    228\u001b[0m \u001b[0;34m\u001b[0m\u001b[0m\n",
      "\u001b[0;32m~/.local/lib/python3.6/site-packages/eli5/sklearn/permutation_importance.py\u001b[0m in \u001b[0;36m_get_score_importances\u001b[0;34m(self, score_func, X, y)\u001b[0m\n\u001b[1;32m    229\u001b[0m     \u001b[0;32mdef\u001b[0m \u001b[0m_get_score_importances\u001b[0m\u001b[0;34m(\u001b[0m\u001b[0mself\u001b[0m\u001b[0;34m,\u001b[0m \u001b[0mscore_func\u001b[0m\u001b[0;34m,\u001b[0m \u001b[0mX\u001b[0m\u001b[0;34m,\u001b[0m \u001b[0my\u001b[0m\u001b[0;34m)\u001b[0m\u001b[0;34m:\u001b[0m\u001b[0;34m\u001b[0m\u001b[0;34m\u001b[0m\u001b[0m\n\u001b[1;32m    230\u001b[0m         return get_score_importances(score_func, X, y, n_iter=self.n_iter,\n\u001b[0;32m--> 231\u001b[0;31m                                      random_state=self.rng_)\n\u001b[0m\u001b[1;32m    232\u001b[0m \u001b[0;34m\u001b[0m\u001b[0m\n\u001b[1;32m    233\u001b[0m     \u001b[0;34m@\u001b[0m\u001b[0mproperty\u001b[0m\u001b[0;34m\u001b[0m\u001b[0;34m\u001b[0m\u001b[0m\n",
      "\u001b[0;32m~/.local/lib/python3.6/site-packages/eli5/permutation_importance.py\u001b[0m in \u001b[0;36mget_score_importances\u001b[0;34m(score_func, X, y, n_iter, columns_to_shuffle, random_state)\u001b[0m\n\u001b[1;32m     84\u001b[0m     \"\"\"\n\u001b[1;32m     85\u001b[0m     \u001b[0mrng\u001b[0m \u001b[0;34m=\u001b[0m \u001b[0mcheck_random_state\u001b[0m\u001b[0;34m(\u001b[0m\u001b[0mrandom_state\u001b[0m\u001b[0;34m)\u001b[0m\u001b[0;34m\u001b[0m\u001b[0;34m\u001b[0m\u001b[0m\n\u001b[0;32m---> 86\u001b[0;31m     \u001b[0mbase_score\u001b[0m \u001b[0;34m=\u001b[0m \u001b[0mscore_func\u001b[0m\u001b[0;34m(\u001b[0m\u001b[0mX\u001b[0m\u001b[0;34m,\u001b[0m \u001b[0my\u001b[0m\u001b[0;34m)\u001b[0m\u001b[0;34m\u001b[0m\u001b[0;34m\u001b[0m\u001b[0m\n\u001b[0m\u001b[1;32m     87\u001b[0m     \u001b[0mscores_decreases\u001b[0m \u001b[0;34m=\u001b[0m \u001b[0;34m[\u001b[0m\u001b[0;34m]\u001b[0m\u001b[0;34m\u001b[0m\u001b[0;34m\u001b[0m\u001b[0m\n\u001b[1;32m     88\u001b[0m     \u001b[0;32mfor\u001b[0m \u001b[0mi\u001b[0m \u001b[0;32min\u001b[0m \u001b[0mrange\u001b[0m\u001b[0;34m(\u001b[0m\u001b[0mn_iter\u001b[0m\u001b[0;34m)\u001b[0m\u001b[0;34m:\u001b[0m\u001b[0;34m\u001b[0m\u001b[0;34m\u001b[0m\u001b[0m\n",
      "\u001b[0;32m~/.local/lib/python3.6/site-packages/eli5/sklearn/permutation_importance.py\u001b[0m in \u001b[0;36mpd_scorer\u001b[0;34m(model, X, y)\u001b[0m\n\u001b[1;32m    158\u001b[0m         \u001b[0;32mdef\u001b[0m \u001b[0mpd_scorer\u001b[0m\u001b[0;34m(\u001b[0m\u001b[0mmodel\u001b[0m\u001b[0;34m,\u001b[0m \u001b[0mX\u001b[0m\u001b[0;34m,\u001b[0m \u001b[0my\u001b[0m\u001b[0;34m)\u001b[0m\u001b[0;34m:\u001b[0m\u001b[0;34m\u001b[0m\u001b[0;34m\u001b[0m\u001b[0m\n\u001b[1;32m    159\u001b[0m             \u001b[0mX\u001b[0m \u001b[0;34m=\u001b[0m \u001b[0mpd\u001b[0m\u001b[0;34m.\u001b[0m\u001b[0mDataFrame\u001b[0m\u001b[0;34m(\u001b[0m\u001b[0mX\u001b[0m\u001b[0;34m,\u001b[0m \u001b[0mcolumns\u001b[0m\u001b[0;34m=\u001b[0m\u001b[0mpd_columns\u001b[0m\u001b[0;34m)\u001b[0m\u001b[0;34m\u001b[0m\u001b[0;34m\u001b[0m\u001b[0m\n\u001b[0;32m--> 160\u001b[0;31m             \u001b[0;32mreturn\u001b[0m \u001b[0mbase_scorer\u001b[0m\u001b[0;34m(\u001b[0m\u001b[0mmodel\u001b[0m\u001b[0;34m,\u001b[0m \u001b[0mX\u001b[0m\u001b[0;34m,\u001b[0m \u001b[0my\u001b[0m\u001b[0;34m)\u001b[0m\u001b[0;34m\u001b[0m\u001b[0;34m\u001b[0m\u001b[0m\n\u001b[0m\u001b[1;32m    161\u001b[0m         \u001b[0;32mreturn\u001b[0m \u001b[0mpd_scorer\u001b[0m\u001b[0;34m\u001b[0m\u001b[0;34m\u001b[0m\u001b[0m\n\u001b[1;32m    162\u001b[0m \u001b[0;34m\u001b[0m\u001b[0m\n",
      "\u001b[0;32m~/.local/lib/python3.6/site-packages/sklearn/metrics/_scorer.py\u001b[0m in \u001b[0;36m__call__\u001b[0;34m(self, estimator, X, y_true, sample_weight)\u001b[0m\n\u001b[1;32m    168\u001b[0m                           stacklevel=2)\n\u001b[1;32m    169\u001b[0m         return self._score(partial(_cached_call, None), estimator, X, y_true,\n\u001b[0;32m--> 170\u001b[0;31m                            sample_weight=sample_weight)\n\u001b[0m\u001b[1;32m    171\u001b[0m \u001b[0;34m\u001b[0m\u001b[0m\n\u001b[1;32m    172\u001b[0m     \u001b[0;32mdef\u001b[0m \u001b[0m_factory_args\u001b[0m\u001b[0;34m(\u001b[0m\u001b[0mself\u001b[0m\u001b[0;34m)\u001b[0m\u001b[0;34m:\u001b[0m\u001b[0;34m\u001b[0m\u001b[0;34m\u001b[0m\u001b[0m\n",
      "\u001b[0;32m~/.local/lib/python3.6/site-packages/sklearn/metrics/_scorer.py\u001b[0m in \u001b[0;36m_score\u001b[0;34m(self, method_caller, estimator, X, y_true, sample_weight)\u001b[0m\n\u001b[1;32m    211\u001b[0m         \u001b[0;32melse\u001b[0m\u001b[0;34m:\u001b[0m\u001b[0;34m\u001b[0m\u001b[0;34m\u001b[0m\u001b[0m\n\u001b[1;32m    212\u001b[0m             return self._sign * self._score_func(y_true, y_pred,\n\u001b[0;32m--> 213\u001b[0;31m                                                  **self._kwargs)\n\u001b[0m\u001b[1;32m    214\u001b[0m \u001b[0;34m\u001b[0m\u001b[0m\n\u001b[1;32m    215\u001b[0m \u001b[0;34m\u001b[0m\u001b[0m\n",
      "\u001b[0;32m~/.local/lib/python3.6/site-packages/sklearn/utils/validation.py\u001b[0m in \u001b[0;36minner_f\u001b[0;34m(*args, **kwargs)\u001b[0m\n\u001b[1;32m     71\u001b[0m                           FutureWarning)\n\u001b[1;32m     72\u001b[0m         \u001b[0mkwargs\u001b[0m\u001b[0;34m.\u001b[0m\u001b[0mupdate\u001b[0m\u001b[0;34m(\u001b[0m\u001b[0;34m{\u001b[0m\u001b[0mk\u001b[0m\u001b[0;34m:\u001b[0m \u001b[0marg\u001b[0m \u001b[0;32mfor\u001b[0m \u001b[0mk\u001b[0m\u001b[0;34m,\u001b[0m \u001b[0marg\u001b[0m \u001b[0;32min\u001b[0m \u001b[0mzip\u001b[0m\u001b[0;34m(\u001b[0m\u001b[0msig\u001b[0m\u001b[0;34m.\u001b[0m\u001b[0mparameters\u001b[0m\u001b[0;34m,\u001b[0m \u001b[0margs\u001b[0m\u001b[0;34m)\u001b[0m\u001b[0;34m}\u001b[0m\u001b[0;34m)\u001b[0m\u001b[0;34m\u001b[0m\u001b[0;34m\u001b[0m\u001b[0m\n\u001b[0;32m---> 73\u001b[0;31m         \u001b[0;32mreturn\u001b[0m \u001b[0mf\u001b[0m\u001b[0;34m(\u001b[0m\u001b[0;34m**\u001b[0m\u001b[0mkwargs\u001b[0m\u001b[0;34m)\u001b[0m\u001b[0;34m\u001b[0m\u001b[0;34m\u001b[0m\u001b[0m\n\u001b[0m\u001b[1;32m     74\u001b[0m     \u001b[0;32mreturn\u001b[0m \u001b[0minner_f\u001b[0m\u001b[0;34m\u001b[0m\u001b[0;34m\u001b[0m\u001b[0m\n\u001b[1;32m     75\u001b[0m \u001b[0;34m\u001b[0m\u001b[0m\n",
      "\u001b[0;32m~/.local/lib/python3.6/site-packages/sklearn/metrics/_classification.py\u001b[0m in \u001b[0;36mf1_score\u001b[0;34m(y_true, y_pred, labels, pos_label, average, sample_weight, zero_division)\u001b[0m\n\u001b[1;32m   1045\u001b[0m                        \u001b[0mpos_label\u001b[0m\u001b[0;34m=\u001b[0m\u001b[0mpos_label\u001b[0m\u001b[0;34m,\u001b[0m \u001b[0maverage\u001b[0m\u001b[0;34m=\u001b[0m\u001b[0maverage\u001b[0m\u001b[0;34m,\u001b[0m\u001b[0;34m\u001b[0m\u001b[0;34m\u001b[0m\u001b[0m\n\u001b[1;32m   1046\u001b[0m                        \u001b[0msample_weight\u001b[0m\u001b[0;34m=\u001b[0m\u001b[0msample_weight\u001b[0m\u001b[0;34m,\u001b[0m\u001b[0;34m\u001b[0m\u001b[0;34m\u001b[0m\u001b[0m\n\u001b[0;32m-> 1047\u001b[0;31m                        zero_division=zero_division)\n\u001b[0m\u001b[1;32m   1048\u001b[0m \u001b[0;34m\u001b[0m\u001b[0m\n\u001b[1;32m   1049\u001b[0m \u001b[0;34m\u001b[0m\u001b[0m\n",
      "\u001b[0;32m~/.local/lib/python3.6/site-packages/sklearn/utils/validation.py\u001b[0m in \u001b[0;36minner_f\u001b[0;34m(*args, **kwargs)\u001b[0m\n\u001b[1;32m     71\u001b[0m                           FutureWarning)\n\u001b[1;32m     72\u001b[0m         \u001b[0mkwargs\u001b[0m\u001b[0;34m.\u001b[0m\u001b[0mupdate\u001b[0m\u001b[0;34m(\u001b[0m\u001b[0;34m{\u001b[0m\u001b[0mk\u001b[0m\u001b[0;34m:\u001b[0m \u001b[0marg\u001b[0m \u001b[0;32mfor\u001b[0m \u001b[0mk\u001b[0m\u001b[0;34m,\u001b[0m \u001b[0marg\u001b[0m \u001b[0;32min\u001b[0m \u001b[0mzip\u001b[0m\u001b[0;34m(\u001b[0m\u001b[0msig\u001b[0m\u001b[0;34m.\u001b[0m\u001b[0mparameters\u001b[0m\u001b[0;34m,\u001b[0m \u001b[0margs\u001b[0m\u001b[0;34m)\u001b[0m\u001b[0;34m}\u001b[0m\u001b[0;34m)\u001b[0m\u001b[0;34m\u001b[0m\u001b[0;34m\u001b[0m\u001b[0m\n\u001b[0;32m---> 73\u001b[0;31m         \u001b[0;32mreturn\u001b[0m \u001b[0mf\u001b[0m\u001b[0;34m(\u001b[0m\u001b[0;34m**\u001b[0m\u001b[0mkwargs\u001b[0m\u001b[0;34m)\u001b[0m\u001b[0;34m\u001b[0m\u001b[0;34m\u001b[0m\u001b[0m\n\u001b[0m\u001b[1;32m     74\u001b[0m     \u001b[0;32mreturn\u001b[0m \u001b[0minner_f\u001b[0m\u001b[0;34m\u001b[0m\u001b[0;34m\u001b[0m\u001b[0m\n\u001b[1;32m     75\u001b[0m \u001b[0;34m\u001b[0m\u001b[0m\n",
      "\u001b[0;32m~/.local/lib/python3.6/site-packages/sklearn/metrics/_classification.py\u001b[0m in \u001b[0;36mfbeta_score\u001b[0;34m(y_true, y_pred, beta, labels, pos_label, average, sample_weight, zero_division)\u001b[0m\n\u001b[1;32m   1173\u001b[0m                                                  \u001b[0mwarn_for\u001b[0m\u001b[0;34m=\u001b[0m\u001b[0;34m(\u001b[0m\u001b[0;34m'f-score'\u001b[0m\u001b[0;34m,\u001b[0m\u001b[0;34m)\u001b[0m\u001b[0;34m,\u001b[0m\u001b[0;34m\u001b[0m\u001b[0;34m\u001b[0m\u001b[0m\n\u001b[1;32m   1174\u001b[0m                                                  \u001b[0msample_weight\u001b[0m\u001b[0;34m=\u001b[0m\u001b[0msample_weight\u001b[0m\u001b[0;34m,\u001b[0m\u001b[0;34m\u001b[0m\u001b[0;34m\u001b[0m\u001b[0m\n\u001b[0;32m-> 1175\u001b[0;31m                                                  zero_division=zero_division)\n\u001b[0m\u001b[1;32m   1176\u001b[0m     \u001b[0;32mreturn\u001b[0m \u001b[0mf\u001b[0m\u001b[0;34m\u001b[0m\u001b[0;34m\u001b[0m\u001b[0m\n\u001b[1;32m   1177\u001b[0m \u001b[0;34m\u001b[0m\u001b[0m\n",
      "\u001b[0;32m~/.local/lib/python3.6/site-packages/sklearn/utils/validation.py\u001b[0m in \u001b[0;36minner_f\u001b[0;34m(*args, **kwargs)\u001b[0m\n\u001b[1;32m     71\u001b[0m                           FutureWarning)\n\u001b[1;32m     72\u001b[0m         \u001b[0mkwargs\u001b[0m\u001b[0;34m.\u001b[0m\u001b[0mupdate\u001b[0m\u001b[0;34m(\u001b[0m\u001b[0;34m{\u001b[0m\u001b[0mk\u001b[0m\u001b[0;34m:\u001b[0m \u001b[0marg\u001b[0m \u001b[0;32mfor\u001b[0m \u001b[0mk\u001b[0m\u001b[0;34m,\u001b[0m \u001b[0marg\u001b[0m \u001b[0;32min\u001b[0m \u001b[0mzip\u001b[0m\u001b[0;34m(\u001b[0m\u001b[0msig\u001b[0m\u001b[0;34m.\u001b[0m\u001b[0mparameters\u001b[0m\u001b[0;34m,\u001b[0m \u001b[0margs\u001b[0m\u001b[0;34m)\u001b[0m\u001b[0;34m}\u001b[0m\u001b[0;34m)\u001b[0m\u001b[0;34m\u001b[0m\u001b[0;34m\u001b[0m\u001b[0m\n\u001b[0;32m---> 73\u001b[0;31m         \u001b[0;32mreturn\u001b[0m \u001b[0mf\u001b[0m\u001b[0;34m(\u001b[0m\u001b[0;34m**\u001b[0m\u001b[0mkwargs\u001b[0m\u001b[0;34m)\u001b[0m\u001b[0;34m\u001b[0m\u001b[0;34m\u001b[0m\u001b[0m\n\u001b[0m\u001b[1;32m     74\u001b[0m     \u001b[0;32mreturn\u001b[0m \u001b[0minner_f\u001b[0m\u001b[0;34m\u001b[0m\u001b[0;34m\u001b[0m\u001b[0m\n\u001b[1;32m     75\u001b[0m \u001b[0;34m\u001b[0m\u001b[0m\n",
      "\u001b[0;32m~/.local/lib/python3.6/site-packages/sklearn/metrics/_classification.py\u001b[0m in \u001b[0;36mprecision_recall_fscore_support\u001b[0;34m(y_true, y_pred, beta, labels, pos_label, average, warn_for, sample_weight, zero_division)\u001b[0m\n\u001b[1;32m   1432\u001b[0m         \u001b[0;32mraise\u001b[0m \u001b[0mValueError\u001b[0m\u001b[0;34m(\u001b[0m\u001b[0;34m\"beta should be >=0 in the F-beta score\"\u001b[0m\u001b[0;34m)\u001b[0m\u001b[0;34m\u001b[0m\u001b[0;34m\u001b[0m\u001b[0m\n\u001b[1;32m   1433\u001b[0m     labels = _check_set_wise_labels(y_true, y_pred, average, labels,\n\u001b[0;32m-> 1434\u001b[0;31m                                     pos_label)\n\u001b[0m\u001b[1;32m   1435\u001b[0m \u001b[0;34m\u001b[0m\u001b[0m\n\u001b[1;32m   1436\u001b[0m     \u001b[0;31m# Calculate tp_sum, pred_sum, true_sum ###\u001b[0m\u001b[0;34m\u001b[0m\u001b[0;34m\u001b[0m\u001b[0;34m\u001b[0m\u001b[0m\n",
      "\u001b[0;32m~/.local/lib/python3.6/site-packages/sklearn/metrics/_classification.py\u001b[0m in \u001b[0;36m_check_set_wise_labels\u001b[0;34m(y_true, y_pred, average, labels, pos_label)\u001b[0m\n\u001b[1;32m   1248\u001b[0m                          str(average_options))\n\u001b[1;32m   1249\u001b[0m \u001b[0;34m\u001b[0m\u001b[0m\n\u001b[0;32m-> 1250\u001b[0;31m     \u001b[0my_type\u001b[0m\u001b[0;34m,\u001b[0m \u001b[0my_true\u001b[0m\u001b[0;34m,\u001b[0m \u001b[0my_pred\u001b[0m \u001b[0;34m=\u001b[0m \u001b[0m_check_targets\u001b[0m\u001b[0;34m(\u001b[0m\u001b[0my_true\u001b[0m\u001b[0;34m,\u001b[0m \u001b[0my_pred\u001b[0m\u001b[0;34m)\u001b[0m\u001b[0;34m\u001b[0m\u001b[0;34m\u001b[0m\u001b[0m\n\u001b[0m\u001b[1;32m   1251\u001b[0m     \u001b[0mpresent_labels\u001b[0m \u001b[0;34m=\u001b[0m \u001b[0munique_labels\u001b[0m\u001b[0;34m(\u001b[0m\u001b[0my_true\u001b[0m\u001b[0;34m,\u001b[0m \u001b[0my_pred\u001b[0m\u001b[0;34m)\u001b[0m\u001b[0;34m\u001b[0m\u001b[0;34m\u001b[0m\u001b[0m\n\u001b[1;32m   1252\u001b[0m     \u001b[0;32mif\u001b[0m \u001b[0maverage\u001b[0m \u001b[0;34m==\u001b[0m \u001b[0;34m'binary'\u001b[0m\u001b[0;34m:\u001b[0m\u001b[0;34m\u001b[0m\u001b[0;34m\u001b[0m\u001b[0m\n",
      "\u001b[0;32m~/.local/lib/python3.6/site-packages/sklearn/metrics/_classification.py\u001b[0m in \u001b[0;36m_check_targets\u001b[0;34m(y_true, y_pred)\u001b[0m\n\u001b[1;32m     89\u001b[0m     \u001b[0;32mif\u001b[0m \u001b[0mlen\u001b[0m\u001b[0;34m(\u001b[0m\u001b[0my_type\u001b[0m\u001b[0;34m)\u001b[0m \u001b[0;34m>\u001b[0m \u001b[0;36m1\u001b[0m\u001b[0;34m:\u001b[0m\u001b[0;34m\u001b[0m\u001b[0;34m\u001b[0m\u001b[0m\n\u001b[1;32m     90\u001b[0m         raise ValueError(\"Classification metrics can't handle a mix of {0} \"\n\u001b[0;32m---> 91\u001b[0;31m                          \"and {1} targets\".format(type_true, type_pred))\n\u001b[0m\u001b[1;32m     92\u001b[0m \u001b[0;34m\u001b[0m\u001b[0m\n\u001b[1;32m     93\u001b[0m     \u001b[0;31m# We can't have more than one value on y_type => The set is no more needed\u001b[0m\u001b[0;34m\u001b[0m\u001b[0;34m\u001b[0m\u001b[0;34m\u001b[0m\u001b[0m\n",
      "\u001b[0;31mValueError\u001b[0m: Classification metrics can't handle a mix of binary and continuous targets"
     ]
    }
   ],
   "source": [
    "perm = PermutationImportance(model, random_state=1, scoring='f1')\n",
    "perm.fit(X_df, Y_df)"
   ]
  },
  {
   "cell_type": "code",
   "execution_count": null,
   "metadata": {},
   "outputs": [],
   "source": [
    "eli5.show_weights(perm, feature_names = X_val.columns.tolist())"
   ]
  },
  {
   "cell_type": "code",
   "execution_count": 59,
   "metadata": {},
   "outputs": [
    {
     "data": {
      "text/plain": [
       "dict_keys(['explained_variance', 'r2', 'max_error', 'neg_median_absolute_error', 'neg_mean_absolute_error', 'neg_mean_squared_error', 'neg_mean_squared_log_error', 'neg_root_mean_squared_error', 'neg_mean_poisson_deviance', 'neg_mean_gamma_deviance', 'accuracy', 'roc_auc', 'roc_auc_ovr', 'roc_auc_ovo', 'roc_auc_ovr_weighted', 'roc_auc_ovo_weighted', 'balanced_accuracy', 'average_precision', 'neg_log_loss', 'neg_brier_score', 'adjusted_rand_score', 'homogeneity_score', 'completeness_score', 'v_measure_score', 'mutual_info_score', 'adjusted_mutual_info_score', 'normalized_mutual_info_score', 'fowlkes_mallows_score', 'precision', 'precision_macro', 'precision_micro', 'precision_samples', 'precision_weighted', 'recall', 'recall_macro', 'recall_micro', 'recall_samples', 'recall_weighted', 'f1', 'f1_macro', 'f1_micro', 'f1_samples', 'f1_weighted', 'jaccard', 'jaccard_macro', 'jaccard_micro', 'jaccard_samples', 'jaccard_weighted'])"
      ]
     },
     "execution_count": 59,
     "metadata": {},
     "output_type": "execute_result"
    }
   ],
   "source": [
    "import sklearn\n",
    "sklearn.metrics.SCORERS.keys()"
   ]
  },
  {
   "cell_type": "code",
   "execution_count": 1,
   "metadata": {},
   "outputs": [
    {
     "ename": "NameError",
     "evalue": "name 'model' is not defined",
     "output_type": "error",
     "traceback": [
      "\u001b[0;31m---------------------------------------------------------------------------\u001b[0m",
      "\u001b[0;31mNameError\u001b[0m                                 Traceback (most recent call last)",
      "\u001b[0;32m<ipython-input-1-331fe8475f3b>\u001b[0m in \u001b[0;36m<module>\u001b[0;34m()\u001b[0m\n\u001b[1;32m      4\u001b[0m \u001b[0;31m# https://www.dlology.com/blog/simple-guide-on-how-to-generate-roc-plot-for-keras-classifier/\u001b[0m\u001b[0;34m\u001b[0m\u001b[0;34m\u001b[0m\u001b[0;34m\u001b[0m\u001b[0m\n\u001b[1;32m      5\u001b[0m \u001b[0;32mfrom\u001b[0m \u001b[0msklearn\u001b[0m\u001b[0;34m.\u001b[0m\u001b[0mmetrics\u001b[0m \u001b[0;32mimport\u001b[0m \u001b[0mroc_curve\u001b[0m\u001b[0;34m\u001b[0m\u001b[0;34m\u001b[0m\u001b[0m\n\u001b[0;32m----> 6\u001b[0;31m \u001b[0my_pred_keras\u001b[0m \u001b[0;34m=\u001b[0m \u001b[0mmodel\u001b[0m\u001b[0;34m.\u001b[0m\u001b[0mpredict\u001b[0m\u001b[0;34m(\u001b[0m\u001b[0mX_val\u001b[0m\u001b[0;34m)\u001b[0m\u001b[0;34m.\u001b[0m\u001b[0mravel\u001b[0m\u001b[0;34m(\u001b[0m\u001b[0;34m)\u001b[0m\u001b[0;34m\u001b[0m\u001b[0;34m\u001b[0m\u001b[0m\n\u001b[0m\u001b[1;32m      7\u001b[0m \u001b[0my_pred_score\u001b[0m \u001b[0;34m=\u001b[0m \u001b[0mnp\u001b[0m\u001b[0;34m.\u001b[0m\u001b[0marray\u001b[0m\u001b[0;34m(\u001b[0m\u001b[0mdf\u001b[0m\u001b[0;34m[\u001b[0m\u001b[0;34m'score'\u001b[0m\u001b[0;34m]\u001b[0m\u001b[0;34m)\u001b[0m\u001b[0;34m[\u001b[0m\u001b[0mint\u001b[0m\u001b[0;34m(\u001b[0m\u001b[0;36m0.8\u001b[0m\u001b[0;34m*\u001b[0m\u001b[0mlen\u001b[0m\u001b[0;34m(\u001b[0m\u001b[0mX\u001b[0m\u001b[0;34m)\u001b[0m\u001b[0;34m)\u001b[0m \u001b[0;34m:\u001b[0m \u001b[0mlen\u001b[0m\u001b[0;34m(\u001b[0m\u001b[0mX\u001b[0m\u001b[0;34m)\u001b[0m\u001b[0;34m]\u001b[0m\u001b[0;34m\u001b[0m\u001b[0;34m\u001b[0m\u001b[0m\n\u001b[1;32m      8\u001b[0m \u001b[0mfpr_keras\u001b[0m\u001b[0;34m,\u001b[0m \u001b[0mtpr_keras\u001b[0m\u001b[0;34m,\u001b[0m \u001b[0mthresholds_keras\u001b[0m \u001b[0;34m=\u001b[0m \u001b[0mroc_curve\u001b[0m\u001b[0;34m(\u001b[0m\u001b[0mY_val\u001b[0m\u001b[0;34m,\u001b[0m \u001b[0my_pred_keras\u001b[0m\u001b[0;34m)\u001b[0m\u001b[0;34m\u001b[0m\u001b[0;34m\u001b[0m\u001b[0m\n",
      "\u001b[0;31mNameError\u001b[0m: name 'model' is not defined"
     ]
    }
   ],
   "source": [
    "# https://www.dlology.com/blog/simple-guide-on-how-to-generate-roc-plot-for-keras-classifier/\n",
    "from sklearn.metrics import roc_curve\n",
    "y_pred_keras = model.predict(X_val).ravel()\n",
    "y_pred_score = np.array(df['score'])[int(0.8*len(X)) : len(X)]\n",
    "fpr_keras, tpr_keras, thresholds_keras = roc_curve(Y_val, y_pred_keras)\n",
    "fpr_score, tpr_score, thresholds_score = roc_curve(Y_val, y_pred_score)\n",
    "\n",
    "from sklearn.metrics import auc\n",
    "auc_keras = auc(fpr_keras, tpr_keras)\n",
    "auc_score = auc(fpr_score, tpr_score)\n",
    "\n",
    "\n",
    "\n",
    "plt.figure(1, (10,6))\n",
    "plt.plot(fpr_keras, tpr_keras, label='Keras (area = {:.3f})'.format(auc_keras), linewidth=3)\n",
    "plt.plot(fpr_score, tpr_score, label='Score (area = {:.3f})'.format(auc_score), linewidth=3)\n",
    "plt.plot([0, 1], [0, 1], 'k--', label='Random guess')\n",
    "# plt.plot(fpr_rf, tpr_rf, label='RF (area = {:.3f})'.format(auc_rf))\n",
    "plt.xlabel('False positive rate')\n",
    "plt.ylabel('True positive rate')\n",
    "plt.title('ROC curve')\n",
    "plt.legend(loc='lower right')\n",
    "plt.show()\n",
    "# # # Zoom in view of the upper left corner.\n",
    "# plt.figure(2)\n",
    "# plt.xlim(0, 0.2)\n",
    "# plt.ylim(0.8, 1)\n",
    "# plt.plot([0, 1], [0, 1], 'k--')\n",
    "# plt.plot(fpr_keras, tpr_keras, label='Keras (area = {:.3f})'.format(auc_keras))\n",
    "# # plt.plot(fpr_rf, tpr_rf, label='RF (area = {:.3f})'.format(auc_rf))\n",
    "# plt.xlabel('False positive rate')\n",
    "# plt.ylabel('True positive rate')\n",
    "# plt.title('ROC curve (zoomed in at top left)')\n",
    "# plt.legend(loc='best')\n",
    "# plt.show()\n",
    "\n",
    "\n",
    "# In[ ]:\n",
    "\n",
    "\n",
    "predictions = model.predict(X_val).ravel()\n",
    "\n",
    "\n",
    "# In[ ]:\n",
    "\n",
    "\n",
    "\n",
    "\n",
    "# x = predictions\n",
    "# y = df_val.score\n",
    "# nbins = bins = np.linspace(0,1,11)\n",
    "\n",
    "\n",
    "# n, _ = np.histogram(x, bins=nbins)\n",
    "# sy, _ = np.histogram(x, bins=nbins, weights=y)\n",
    "# sy2, _ = np.histogram(x, bins=nbins, weights=y*y)\n",
    "# mean = sy / n\n",
    "# std = np.sqrt(sy2/n - mean*mean)\n",
    "\n",
    "# fig, ax1 = plt.subplots(1, 1, figsize=(14,8))\n",
    "# # Plot error bars representing stdev of entries\n",
    "# ax1.errorbar((_[1:] + _[:-1])/2, mean, yerr=std, fmt='none', ecolor='r', linewidth=2, alpha = 0.8, label='_nolegend_')\n",
    "# # Plot steps of histogram\n",
    "# meanscore, = ax1.step((_[1:] + _[:-1])/2 , mean, 'r', where='mid', linewidth=2, label='Mean score')\n",
    "# ax1.step(_[:2] , mean[:2], 'r', where='post', linewidth=2, label='_nolegend_')\n",
    "# ax1.step(_[-2:] , mean[-2:], 'r', where='pre', linewidth=2, label='_nolegend_')\n",
    "# ax1.semilogy(x, y, 'b.', alpha=4e3/len(x), label='Track')\n",
    "\n",
    "# ax1.set_ylim((10e-1,10e4))\n",
    "# ax1.set_xlabel(\"Neural network prediction\")\n",
    "# ax1.set_ylabel(\"Track score\")\n",
    "# ax1.set_title(\"NN Score Trend\")\n",
    "# # Legend\n",
    "# blue_line = mlines.Line2D([], [], linewidth=0, color='blue', marker='.', alpha=0.7, markersize=10, label='Tracks')\n",
    "# plt.legend(handles=[meanscore,blue_line])\n",
    "# plt.show()\n",
    "\n",
    "\n",
    "# In[25]:\n",
    "\n",
    "\n",
    "# An interesting plot of the structure of the traditional score\n",
    "import seaborn as sns\n",
    "from matplotlib.colors import LogNorm\n",
    "\n",
    "pt_bins = np.logspace(2.69,5.5,700)\n",
    "score_bins = np.logspace(1,4.5,700)\n",
    "plt.figure(figsize=(12,10))\n",
    "ax = plt.hist2d(df.track_pt, df.score, bins=[pt_bins, score_bins], norm=LogNorm())\n",
    "plt.xlabel(\"track pt\", fontsize=15)\n",
    "plt.ylabel(\"traditional score\", fontsize=15)\n",
    "plt.title(\"Distribution of Score\", fontsize=30)\n",
    "plt.colorbar()\n",
    "plt.xscale(\"log\")\n",
    "plt.yscale(\"log\")"
   ]
  },
  {
   "cell_type": "code",
   "execution_count": null,
   "metadata": {},
   "outputs": [],
   "source": []
  }
 ],
 "metadata": {
  "kernelspec": {
   "display_name": "Python 3",
   "language": "python",
   "name": "python3"
  },
  "language_info": {
   "codemirror_mode": {
    "name": "ipython",
    "version": 3
   },
   "file_extension": ".py",
   "mimetype": "text/x-python",
   "name": "python",
   "nbconvert_exporter": "python",
   "pygments_lexer": "ipython3",
   "version": "3.6.9"
  }
 },
 "nbformat": 4,
 "nbformat_minor": 2
}
