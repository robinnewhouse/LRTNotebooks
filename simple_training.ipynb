{
 "cells": [
  {
   "cell_type": "code",
   "execution_count": 62,
   "metadata": {},
   "outputs": [],
   "source": [
    "from sklearn.model_selection import train_test_split\n",
    "from sklearn.preprocessing import StandardScaler\n",
    "\n",
    "import pandas as pd\n",
    "import numpy as np\n",
    "\n",
    "import tensorflow as tf\n",
    "from tensorflow import keras\n",
    "from tensorflow.keras import layers\n",
    "from tensorflow.keras import regularizers\n",
    "\n",
    "from matplotlib import pyplot as plt\n",
    "import os\n",
    "import json\n",
    "\n",
    "plt.style.use('seaborn-deep')\n"
   ]
  },
  {
   "cell_type": "code",
   "execution_count": 7,
   "metadata": {},
   "outputs": [],
   "source": [
    "full_df = pd.read_pickle('/data/newhouse/LRT/batch/master/training/tracks_weighted.pkl')"
   ]
  },
  {
   "cell_type": "code",
   "execution_count": 8,
   "metadata": {},
   "outputs": [
    {
     "data": {
      "text/html": [
       "<div>\n",
       "<style scoped>\n",
       "    .dataframe tbody tr th:only-of-type {\n",
       "        vertical-align: middle;\n",
       "    }\n",
       "\n",
       "    .dataframe tbody tr th {\n",
       "        vertical-align: top;\n",
       "    }\n",
       "\n",
       "    .dataframe thead th {\n",
       "        text-align: right;\n",
       "    }\n",
       "</style>\n",
       "<table border=\"1\" class=\"dataframe\">\n",
       "  <thead>\n",
       "    <tr style=\"text-align: right;\">\n",
       "      <th></th>\n",
       "      <th>z0</th>\n",
       "      <th>d0</th>\n",
       "      <th>numberOfSCTHits</th>\n",
       "      <th>Sihits</th>\n",
       "      <th>eta</th>\n",
       "      <th>numberDoF</th>\n",
       "      <th>geometric_var</th>\n",
       "      <th>numberOfSCTHoles</th>\n",
       "      <th>is_good</th>\n",
       "    </tr>\n",
       "  </thead>\n",
       "  <tbody>\n",
       "    <tr>\n",
       "      <th>669124</th>\n",
       "      <td>148.534220</td>\n",
       "      <td>104.480734</td>\n",
       "      <td>7.0</td>\n",
       "      <td>9.0</td>\n",
       "      <td>-1.206826</td>\n",
       "      <td>6.0</td>\n",
       "      <td>1.947236</td>\n",
       "      <td>1.0</td>\n",
       "      <td>False</td>\n",
       "    </tr>\n",
       "    <tr>\n",
       "      <th>399311</th>\n",
       "      <td>-60.601026</td>\n",
       "      <td>-48.070017</td>\n",
       "      <td>9.0</td>\n",
       "      <td>10.0</td>\n",
       "      <td>1.381759</td>\n",
       "      <td>6.0</td>\n",
       "      <td>1.978903</td>\n",
       "      <td>0.0</td>\n",
       "      <td>False</td>\n",
       "    </tr>\n",
       "    <tr>\n",
       "      <th>313684</th>\n",
       "      <td>376.808424</td>\n",
       "      <td>99.458298</td>\n",
       "      <td>7.0</td>\n",
       "      <td>8.0</td>\n",
       "      <td>1.907424</td>\n",
       "      <td>4.0</td>\n",
       "      <td>0.036708</td>\n",
       "      <td>0.0</td>\n",
       "      <td>False</td>\n",
       "    </tr>\n",
       "    <tr>\n",
       "      <th>1583973</th>\n",
       "      <td>-81.997203</td>\n",
       "      <td>60.224389</td>\n",
       "      <td>8.0</td>\n",
       "      <td>9.0</td>\n",
       "      <td>1.302603</td>\n",
       "      <td>5.0</td>\n",
       "      <td>1.977285</td>\n",
       "      <td>0.0</td>\n",
       "      <td>True</td>\n",
       "    </tr>\n",
       "    <tr>\n",
       "      <th>2137964</th>\n",
       "      <td>-147.780404</td>\n",
       "      <td>21.521041</td>\n",
       "      <td>10.0</td>\n",
       "      <td>11.0</td>\n",
       "      <td>-2.370948</td>\n",
       "      <td>7.0</td>\n",
       "      <td>0.041632</td>\n",
       "      <td>0.0</td>\n",
       "      <td>True</td>\n",
       "    </tr>\n",
       "    <tr>\n",
       "      <th>...</th>\n",
       "      <td>...</td>\n",
       "      <td>...</td>\n",
       "      <td>...</td>\n",
       "      <td>...</td>\n",
       "      <td>...</td>\n",
       "      <td>...</td>\n",
       "      <td>...</td>\n",
       "      <td>...</td>\n",
       "      <td>...</td>\n",
       "    </tr>\n",
       "    <tr>\n",
       "      <th>2798810</th>\n",
       "      <td>-277.100815</td>\n",
       "      <td>24.420583</td>\n",
       "      <td>8.0</td>\n",
       "      <td>8.0</td>\n",
       "      <td>-2.205237</td>\n",
       "      <td>3.0</td>\n",
       "      <td>0.131661</td>\n",
       "      <td>0.0</td>\n",
       "      <td>True</td>\n",
       "    </tr>\n",
       "    <tr>\n",
       "      <th>425099</th>\n",
       "      <td>-327.316654</td>\n",
       "      <td>-19.400785</td>\n",
       "      <td>6.0</td>\n",
       "      <td>8.0</td>\n",
       "      <td>2.422333</td>\n",
       "      <td>5.0</td>\n",
       "      <td>2.905424</td>\n",
       "      <td>0.0</td>\n",
       "      <td>False</td>\n",
       "    </tr>\n",
       "    <tr>\n",
       "      <th>568234</th>\n",
       "      <td>66.349742</td>\n",
       "      <td>-19.168792</td>\n",
       "      <td>7.0</td>\n",
       "      <td>8.0</td>\n",
       "      <td>-0.830667</td>\n",
       "      <td>4.0</td>\n",
       "      <td>2.038449</td>\n",
       "      <td>1.0</td>\n",
       "      <td>False</td>\n",
       "    </tr>\n",
       "    <tr>\n",
       "      <th>2724619</th>\n",
       "      <td>-23.873419</td>\n",
       "      <td>-20.035454</td>\n",
       "      <td>8.0</td>\n",
       "      <td>8.0</td>\n",
       "      <td>0.082437</td>\n",
       "      <td>3.0</td>\n",
       "      <td>0.954928</td>\n",
       "      <td>0.0</td>\n",
       "      <td>True</td>\n",
       "    </tr>\n",
       "    <tr>\n",
       "      <th>246891</th>\n",
       "      <td>-353.691975</td>\n",
       "      <td>-175.091384</td>\n",
       "      <td>9.0</td>\n",
       "      <td>9.0</td>\n",
       "      <td>1.176263</td>\n",
       "      <td>4.0</td>\n",
       "      <td>2.083578</td>\n",
       "      <td>0.0</td>\n",
       "      <td>False</td>\n",
       "    </tr>\n",
       "  </tbody>\n",
       "</table>\n",
       "<p>149482 rows × 9 columns</p>\n",
       "</div>"
      ],
      "text/plain": [
       "                 z0          d0  numberOfSCTHits  Sihits       eta  numberDoF  \\\n",
       "669124   148.534220  104.480734              7.0     9.0 -1.206826        6.0   \n",
       "399311   -60.601026  -48.070017              9.0    10.0  1.381759        6.0   \n",
       "313684   376.808424   99.458298              7.0     8.0  1.907424        4.0   \n",
       "1583973  -81.997203   60.224389              8.0     9.0  1.302603        5.0   \n",
       "2137964 -147.780404   21.521041             10.0    11.0 -2.370948        7.0   \n",
       "...             ...         ...              ...     ...       ...        ...   \n",
       "2798810 -277.100815   24.420583              8.0     8.0 -2.205237        3.0   \n",
       "425099  -327.316654  -19.400785              6.0     8.0  2.422333        5.0   \n",
       "568234    66.349742  -19.168792              7.0     8.0 -0.830667        4.0   \n",
       "2724619  -23.873419  -20.035454              8.0     8.0  0.082437        3.0   \n",
       "246891  -353.691975 -175.091384              9.0     9.0  1.176263        4.0   \n",
       "\n",
       "         geometric_var  numberOfSCTHoles  is_good  \n",
       "669124        1.947236               1.0    False  \n",
       "399311        1.978903               0.0    False  \n",
       "313684        0.036708               0.0    False  \n",
       "1583973       1.977285               0.0     True  \n",
       "2137964       0.041632               0.0     True  \n",
       "...                ...               ...      ...  \n",
       "2798810       0.131661               0.0     True  \n",
       "425099        2.905424               0.0    False  \n",
       "568234        2.038449               1.0    False  \n",
       "2724619       0.954928               0.0     True  \n",
       "246891        2.083578               0.0    False  \n",
       "\n",
       "[149482 rows x 9 columns]"
      ]
     },
     "execution_count": 8,
     "metadata": {},
     "output_type": "execute_result"
    }
   ],
   "source": [
    "inputs_names = [ \n",
    "\"z0\",\n",
    "\"d0\",\n",
    "\"numberOfSCTHits\",\n",
    "\"Sihits\",\n",
    "\"eta\",\n",
    "\"numberDoF\",\n",
    "\"geometric_var\",\n",
    "\"numberOfSCTHoles\",\n",
    "]\n",
    "label_names = [\"is_good\"]\n",
    "\n",
    "df_unscaled = full_df[inputs_names + label_names]\n",
    "df_unscaled"
   ]
  },
  {
   "cell_type": "code",
   "execution_count": 32,
   "metadata": {},
   "outputs": [
    {
     "name": "stdout",
     "output_type": "stream",
     "text": [
      "mean: [ 0.80179576 -2.95927751  7.91756198  9.04850082  0.01580175  5.17943966\n",
      "  1.18420703  0.2655972 ]\n",
      "scale: [0.0048918  0.01286655 0.93884284 0.67873499 0.74605561 0.41365915\n",
      " 1.11972256 2.26423289]\n"
     ]
    },
    {
     "data": {
      "text/html": [
       "<div>\n",
       "<style scoped>\n",
       "    .dataframe tbody tr th:only-of-type {\n",
       "        vertical-align: middle;\n",
       "    }\n",
       "\n",
       "    .dataframe tbody tr th {\n",
       "        vertical-align: top;\n",
       "    }\n",
       "\n",
       "    .dataframe thead th {\n",
       "        text-align: right;\n",
       "    }\n",
       "</style>\n",
       "<table border=\"1\" class=\"dataframe\">\n",
       "  <thead>\n",
       "    <tr style=\"text-align: right;\">\n",
       "      <th></th>\n",
       "      <th>z0</th>\n",
       "      <th>d0</th>\n",
       "      <th>numberOfSCTHits</th>\n",
       "      <th>Sihits</th>\n",
       "      <th>eta</th>\n",
       "      <th>numberDoF</th>\n",
       "      <th>geometric_var</th>\n",
       "      <th>numberOfSCTHoles</th>\n",
       "      <th>is_good</th>\n",
       "    </tr>\n",
       "  </thead>\n",
       "  <tbody>\n",
       "    <tr>\n",
       "      <th>669124</th>\n",
       "      <td>0.722678</td>\n",
       "      <td>1.382382</td>\n",
       "      <td>-0.861446</td>\n",
       "      <td>-0.032919</td>\n",
       "      <td>-0.912148</td>\n",
       "      <td>0.339432</td>\n",
       "      <td>0.854381</td>\n",
       "      <td>1.662859</td>\n",
       "      <td>False</td>\n",
       "    </tr>\n",
       "    <tr>\n",
       "      <th>399311</th>\n",
       "      <td>-0.300370</td>\n",
       "      <td>-0.580419</td>\n",
       "      <td>1.016239</td>\n",
       "      <td>0.645816</td>\n",
       "      <td>1.019080</td>\n",
       "      <td>0.339432</td>\n",
       "      <td>0.889839</td>\n",
       "      <td>-0.601374</td>\n",
       "      <td>False</td>\n",
       "    </tr>\n",
       "    <tr>\n",
       "      <th>313684</th>\n",
       "      <td>1.839350</td>\n",
       "      <td>1.317760</td>\n",
       "      <td>-0.861446</td>\n",
       "      <td>-0.711654</td>\n",
       "      <td>1.411256</td>\n",
       "      <td>-0.487886</td>\n",
       "      <td>-1.284881</td>\n",
       "      <td>-0.601374</td>\n",
       "      <td>False</td>\n",
       "    </tr>\n",
       "    <tr>\n",
       "      <th>1583973</th>\n",
       "      <td>-0.405036</td>\n",
       "      <td>0.812956</td>\n",
       "      <td>0.077396</td>\n",
       "      <td>-0.032919</td>\n",
       "      <td>0.960025</td>\n",
       "      <td>-0.074227</td>\n",
       "      <td>0.888027</td>\n",
       "      <td>-0.601374</td>\n",
       "      <td>True</td>\n",
       "    </tr>\n",
       "    <tr>\n",
       "      <th>2137964</th>\n",
       "      <td>-0.726835</td>\n",
       "      <td>0.314977</td>\n",
       "      <td>1.955082</td>\n",
       "      <td>1.324551</td>\n",
       "      <td>-1.780648</td>\n",
       "      <td>0.753091</td>\n",
       "      <td>-1.279367</td>\n",
       "      <td>-0.601374</td>\n",
       "      <td>True</td>\n",
       "    </tr>\n",
       "    <tr>\n",
       "      <th>...</th>\n",
       "      <td>...</td>\n",
       "      <td>...</td>\n",
       "      <td>...</td>\n",
       "      <td>...</td>\n",
       "      <td>...</td>\n",
       "      <td>...</td>\n",
       "      <td>...</td>\n",
       "      <td>...</td>\n",
       "      <td>...</td>\n",
       "    </tr>\n",
       "    <tr>\n",
       "      <th>2798810</th>\n",
       "      <td>-1.359445</td>\n",
       "      <td>0.352284</td>\n",
       "      <td>0.077396</td>\n",
       "      <td>-0.711654</td>\n",
       "      <td>-1.657019</td>\n",
       "      <td>-0.901545</td>\n",
       "      <td>-1.178560</td>\n",
       "      <td>-0.601374</td>\n",
       "      <td>True</td>\n",
       "    </tr>\n",
       "    <tr>\n",
       "      <th>425099</th>\n",
       "      <td>-1.605091</td>\n",
       "      <td>-0.211545</td>\n",
       "      <td>-1.800289</td>\n",
       "      <td>-0.711654</td>\n",
       "      <td>1.795406</td>\n",
       "      <td>-0.074227</td>\n",
       "      <td>1.927286</td>\n",
       "      <td>-0.601374</td>\n",
       "      <td>False</td>\n",
       "    </tr>\n",
       "    <tr>\n",
       "      <th>568234</th>\n",
       "      <td>0.320648</td>\n",
       "      <td>-0.208560</td>\n",
       "      <td>-0.861446</td>\n",
       "      <td>-0.711654</td>\n",
       "      <td>-0.631512</td>\n",
       "      <td>-0.487886</td>\n",
       "      <td>0.956514</td>\n",
       "      <td>1.662859</td>\n",
       "      <td>False</td>\n",
       "    </tr>\n",
       "    <tr>\n",
       "      <th>2724619</th>\n",
       "      <td>-0.120706</td>\n",
       "      <td>-0.219711</td>\n",
       "      <td>0.077396</td>\n",
       "      <td>-0.711654</td>\n",
       "      <td>0.049714</td>\n",
       "      <td>-0.901545</td>\n",
       "      <td>-0.256729</td>\n",
       "      <td>-0.601374</td>\n",
       "      <td>True</td>\n",
       "    </tr>\n",
       "    <tr>\n",
       "      <th>246891</th>\n",
       "      <td>-1.734114</td>\n",
       "      <td>-2.214746</td>\n",
       "      <td>1.016239</td>\n",
       "      <td>-0.032919</td>\n",
       "      <td>0.865769</td>\n",
       "      <td>-0.487886</td>\n",
       "      <td>1.007046</td>\n",
       "      <td>-0.601374</td>\n",
       "      <td>False</td>\n",
       "    </tr>\n",
       "  </tbody>\n",
       "</table>\n",
       "<p>149482 rows × 9 columns</p>\n",
       "</div>"
      ],
      "text/plain": [
       "               z0        d0  numberOfSCTHits    Sihits       eta  numberDoF  \\\n",
       "669124   0.722678  1.382382        -0.861446 -0.032919 -0.912148   0.339432   \n",
       "399311  -0.300370 -0.580419         1.016239  0.645816  1.019080   0.339432   \n",
       "313684   1.839350  1.317760        -0.861446 -0.711654  1.411256  -0.487886   \n",
       "1583973 -0.405036  0.812956         0.077396 -0.032919  0.960025  -0.074227   \n",
       "2137964 -0.726835  0.314977         1.955082  1.324551 -1.780648   0.753091   \n",
       "...           ...       ...              ...       ...       ...        ...   \n",
       "2798810 -1.359445  0.352284         0.077396 -0.711654 -1.657019  -0.901545   \n",
       "425099  -1.605091 -0.211545        -1.800289 -0.711654  1.795406  -0.074227   \n",
       "568234   0.320648 -0.208560        -0.861446 -0.711654 -0.631512  -0.487886   \n",
       "2724619 -0.120706 -0.219711         0.077396 -0.711654  0.049714  -0.901545   \n",
       "246891  -1.734114 -2.214746         1.016239 -0.032919  0.865769  -0.487886   \n",
       "\n",
       "         geometric_var  numberOfSCTHoles  is_good  \n",
       "669124        0.854381          1.662859    False  \n",
       "399311        0.889839         -0.601374    False  \n",
       "313684       -1.284881         -0.601374    False  \n",
       "1583973       0.888027         -0.601374     True  \n",
       "2137964      -1.279367         -0.601374     True  \n",
       "...                ...               ...      ...  \n",
       "2798810      -1.178560         -0.601374     True  \n",
       "425099        1.927286         -0.601374    False  \n",
       "568234        0.956514          1.662859    False  \n",
       "2724619      -0.256729         -0.601374     True  \n",
       "246891        1.007046         -0.601374    False  \n",
       "\n",
       "[149482 rows x 9 columns]"
      ]
     },
     "execution_count": 32,
     "metadata": {},
     "output_type": "execute_result"
    }
   ],
   "source": [
    "# Now we'll scale the dataframe to make the network train more effectively\n",
    "# The shift and scale can be saved in the lwtnn config and is evaluated at runtime\n",
    "scaler = StandardScaler() # make the scaler\n",
    "scaler.fit(df_unscaled[inputs_names]) # fit the scaler to the data\n",
    "df = pd.DataFrame(scaler.transform(df_unscaled[inputs_names]),\n",
    "                  columns=inputs_names,\n",
    "                  index=df_unscaled.index) # create a new dataframe with the same index\n",
    "df['is_good'] = df_unscaled['is_good'] # add the labels back in (unscaled)\n",
    "print('mean:', scaler.mean_)\n",
    "print('scale:', 1/scaler.scale_)\n",
    "df"
   ]
  },
  {
   "cell_type": "code",
   "execution_count": 34,
   "metadata": {},
   "outputs": [],
   "source": [
    "# split into training and validation sets\n",
    "train, test = train_test_split(df, test_size=0.2, random_state=1, shuffle=True)"
   ]
  },
  {
   "cell_type": "code",
   "execution_count": 35,
   "metadata": {},
   "outputs": [
    {
     "name": "stdout",
     "output_type": "stream",
     "text": [
      "Model: \"r3lrt_model\"\n",
      "_________________________________________________________________\n",
      "Layer (type)                 Output Shape              Param #   \n",
      "=================================================================\n",
      "inputs (InputLayer)          [(None, 8)]               0         \n",
      "_________________________________________________________________\n",
      "dense_0 (Dense)              (None, 24)                216       \n",
      "_________________________________________________________________\n",
      "dense_1 (Dense)              (None, 24)                600       \n",
      "_________________________________________________________________\n",
      "regularizer_1 (Dense)        (None, 64)                1600      \n",
      "_________________________________________________________________\n",
      "dense_2 (Dense)              (None, 16)                1040      \n",
      "_________________________________________________________________\n",
      "dense_3 (Dense)              (None, 8)                 136       \n",
      "_________________________________________________________________\n",
      "output (Dense)               (None, 1)                 9         \n",
      "=================================================================\n",
      "Total params: 3,601\n",
      "Trainable params: 3,601\n",
      "Non-trainable params: 0\n",
      "_________________________________________________________________\n",
      "None\n"
     ]
    },
    {
     "data": {
      "image/png": "[encoded data removed]",
      "text/plain": [
       "<IPython.core.display.Image object>"
      ]
     },
     "execution_count": 35,
     "metadata": {},
     "output_type": "execute_result"
    }
   ],
   "source": [
    "# Create model\n",
    "def create_model():\n",
    "    in_len = len(inputs_names)\n",
    "    # Input layer\n",
    "    inputs = keras.Input(shape=(in_len), name='inputs')\n",
    "\n",
    "    # Hidden layers\n",
    "    # dense = \n",
    "    x = layers.Dense(in_len*3, activation=\"relu\", name='dense_0')(inputs)\n",
    "    x = layers.Dense(in_len*3, activation=\"relu\", name='dense_1')(x)\n",
    "    x = layers.Dense(units=64, # regularixation layer\n",
    "                     kernel_regularizer=regularizers.l1_l2(l1=1e-5, l2=1e-4),\n",
    "                     bias_regularizer=regularizers.l2(1e-4),\n",
    "                     activity_regularizer=regularizers.l2(1e-5),\n",
    "                     name='regularizer_1')(x)\n",
    "    x = layers.Dense(in_len*2, activation=\"relu\", name='dense_2')(x)\n",
    "    x = layers.Dense(in_len*1, activation=\"relu\", name='dense_3')(x)\n",
    "    \n",
    "    # Output layer\n",
    "    outputs = layers.Dense(1,  activation=\"sigmoid\", name='output')(x)    \n",
    "    \n",
    "    model = keras.Model(inputs=inputs, outputs=outputs, name=\"r3lrt_model\")\n",
    "    print(model.summary())\n",
    "    \n",
    "    return model\n",
    "\n",
    "model = create_model()\n",
    "keras.utils.plot_model(model, \"r3lrt_model.png\", show_shapes=True)"
   ]
  },
  {
   "cell_type": "code",
   "execution_count": 36,
   "metadata": {},
   "outputs": [],
   "source": [
    "# Compile model\n",
    "model.compile(loss='binary_crossentropy', \n",
    "              optimizer = keras.optimizers.Adamax(lr=0.0003),\n",
    "              metrics=['accuracy', \n",
    "                       tf.keras.metrics.Precision(), \n",
    "                       tf.keras.metrics.Recall()])"
   ]
  },
  {
   "cell_type": "code",
   "execution_count": 38,
   "metadata": {},
   "outputs": [
    {
     "name": "stdout",
     "output_type": "stream",
     "text": [
      "Epoch 1/20\n",
      "240/240 [==============================] - 2s 8ms/step - loss: 0.3433 - accuracy: 0.8567 - precision: 0.8830 - recall: 0.8233 - val_loss: 0.3307 - val_accuracy: 0.8648 - val_precision: 0.8894 - val_recall: 0.8309\n",
      "Epoch 2/20\n",
      "240/240 [==============================] - 3s 11ms/step - loss: 0.3368 - accuracy: 0.8590 - precision: 0.8847 - recall: 0.8264 - val_loss: 0.3254 - val_accuracy: 0.8664 - val_precision: 0.8879 - val_recall: 0.8365\n",
      "Epoch 3/20\n",
      "240/240 [==============================] - 3s 13ms/step - loss: 0.3323 - accuracy: 0.8603 - precision: 0.8847 - recall: 0.8293 - val_loss: 0.3217 - val_accuracy: 0.8670 - val_precision: 0.8889 - val_recall: 0.8365\n",
      "Epoch 4/20\n",
      "240/240 [==============================] - 3s 13ms/step - loss: 0.3288 - accuracy: 0.8611 - precision: 0.8847 - recall: 0.8312 - val_loss: 0.3186 - val_accuracy: 0.8676 - val_precision: 0.8930 - val_recall: 0.8332\n",
      "Epoch 5/20\n",
      "240/240 [==============================] - 4s 16ms/step - loss: 0.3260 - accuracy: 0.8618 - precision: 0.8862 - recall: 0.8310 - val_loss: 0.3161 - val_accuracy: 0.8685 - val_precision: 0.8925 - val_recall: 0.8358\n",
      "Epoch 6/20\n",
      "240/240 [==============================] - 4s 16ms/step - loss: 0.3236 - accuracy: 0.8621 - precision: 0.8865 - recall: 0.8313 - val_loss: 0.3139 - val_accuracy: 0.8690 - val_precision: 0.8898 - val_recall: 0.8402\n",
      "Epoch 7/20\n",
      "240/240 [==============================] - 5s 21ms/step - loss: 0.3216 - accuracy: 0.8629 - precision: 0.8871 - recall: 0.8324 - val_loss: 0.3119 - val_accuracy: 0.8698 - val_precision: 0.8877 - val_recall: 0.8445\n",
      "Epoch 8/20\n",
      "240/240 [==============================] - 3s 14ms/step - loss: 0.3200 - accuracy: 0.8632 - precision: 0.8871 - recall: 0.8330 - val_loss: 0.3106 - val_accuracy: 0.8699 - val_precision: 0.8875 - val_recall: 0.8450\n",
      "Epoch 9/20\n",
      "240/240 [==============================] - 3s 12ms/step - loss: 0.3185 - accuracy: 0.8634 - precision: 0.8870 - recall: 0.8337 - val_loss: 0.3090 - val_accuracy: 0.8706 - val_precision: 0.8902 - val_recall: 0.8433\n",
      "Epoch 10/20\n",
      "240/240 [==============================] - 3s 12ms/step - loss: 0.3172 - accuracy: 0.8637 - precision: 0.8868 - recall: 0.8346 - val_loss: 0.3082 - val_accuracy: 0.8705 - val_precision: 0.8948 - val_recall: 0.8377\n",
      "Epoch 11/20\n",
      "240/240 [==============================] - 2s 10ms/step - loss: 0.3160 - accuracy: 0.8638 - precision: 0.8866 - recall: 0.8351 - val_loss: 0.3071 - val_accuracy: 0.8711 - val_precision: 0.8917 - val_recall: 0.8427\n",
      "Epoch 12/20\n",
      "240/240 [==============================] - 2s 8ms/step - loss: 0.3149 - accuracy: 0.8641 - precision: 0.8867 - recall: 0.8356 - val_loss: 0.3057 - val_accuracy: 0.8720 - val_precision: 0.8936 - val_recall: 0.8425\n",
      "Epoch 13/20\n",
      "240/240 [==============================] - 2s 9ms/step - loss: 0.3140 - accuracy: 0.8643 - precision: 0.8867 - recall: 0.8362 - val_loss: 0.3048 - val_accuracy: 0.8720 - val_precision: 0.8920 - val_recall: 0.8445\n",
      "Epoch 14/20\n",
      "240/240 [==============================] - 3s 12ms/step - loss: 0.3131 - accuracy: 0.8647 - precision: 0.8866 - recall: 0.8371 - val_loss: 0.3042 - val_accuracy: 0.8720 - val_precision: 0.8907 - val_recall: 0.8459\n",
      "Epoch 15/20\n",
      "240/240 [==============================] - 2s 8ms/step - loss: 0.3123 - accuracy: 0.8647 - precision: 0.8864 - recall: 0.8372 - val_loss: 0.3033 - val_accuracy: 0.8720 - val_precision: 0.8908 - val_recall: 0.8459\n",
      "Epoch 16/20\n",
      "240/240 [==============================] - 2s 10ms/step - loss: 0.3116 - accuracy: 0.8649 - precision: 0.8860 - recall: 0.8384 - val_loss: 0.3028 - val_accuracy: 0.8724 - val_precision: 0.8975 - val_recall: 0.8387\n",
      "Epoch 17/20\n",
      "240/240 [==============================] - 2s 10ms/step - loss: 0.3110 - accuracy: 0.8651 - precision: 0.8868 - recall: 0.8378 - val_loss: 0.3021 - val_accuracy: 0.8723 - val_precision: 0.8900 - val_recall: 0.8475\n",
      "Epoch 18/20\n",
      "240/240 [==============================] - 2s 8ms/step - loss: 0.3102 - accuracy: 0.8653 - precision: 0.8861 - recall: 0.8392 - val_loss: 0.3014 - val_accuracy: 0.8722 - val_precision: 0.8914 - val_recall: 0.8456\n",
      "Epoch 19/20\n",
      "240/240 [==============================] - 2s 10ms/step - loss: 0.3097 - accuracy: 0.8656 - precision: 0.8866 - recall: 0.8391 - val_loss: 0.3012 - val_accuracy: 0.8723 - val_precision: 0.8858 - val_recall: 0.8526\n",
      "Epoch 20/20\n",
      "240/240 [==============================] - 3s 13ms/step - loss: 0.3092 - accuracy: 0.8658 - precision: 0.8861 - recall: 0.8402 - val_loss: 0.3003 - val_accuracy: 0.8722 - val_precision: 0.8928 - val_recall: 0.8438\n"
     ]
    }
   ],
   "source": [
    "history = model.fit(train[inputs_names], \n",
    "                    train[label_names], \n",
    "                    epochs=20, \n",
    "                    batch_size=500,\n",
    "                    validation_data=(test[inputs_names], \n",
    "                                     test[label_names]),\n",
    "                   )"
   ]
  },
  {
   "cell_type": "code",
   "execution_count": 39,
   "metadata": {},
   "outputs": [
    {
     "data": {
      "image/png": "[encoded data removed]",
      "text/plain": [
       "<Figure size 432x288 with 1 Axes>"
      ]
     },
     "metadata": {
      "needs_background": "light"
     },
     "output_type": "display_data"
    },
    {
     "data": {
      "image/png": "[encoded data removed]",
      "text/plain": [
       "<Figure size 432x288 with 1 Axes>"
      ]
     },
     "metadata": {
      "needs_background": "light"
     },
     "output_type": "display_data"
    }
   ],
   "source": [
    "plt.plot(history.history['accuracy'])\n",
    "plt.plot(history.history['val_accuracy'])\n",
    "plt.title('model accuracy')\n",
    "plt.ylabel('accuracy')\n",
    "plt.xlabel('epoch')\n",
    "plt.legend(['train', 'val'], loc='upper left')\n",
    "plt.show()\n",
    "\n",
    "plt.plot(history.history['loss'])\n",
    "plt.plot(history.history['val_loss'])\n",
    "plt.title('model loss')\n",
    "plt.ylabel('loss')\n",
    "plt.xlabel('epoch')\n",
    "plt.legend(['train', 'val'], loc='upper left')\n",
    "plt.show()"
   ]
  },
  {
   "cell_type": "code",
   "execution_count": 40,
   "metadata": {},
   "outputs": [],
   "source": [
    "# evaluate predictions on validation set\n",
    "predictions = model.predict(test[inputs_names])"
   ]
  },
  {
   "cell_type": "code",
   "execution_count": 41,
   "metadata": {},
   "outputs": [
    {
     "data": {
      "image/png": "[encoded data removed]",
      "text/plain": [
       "<Figure size 720x432 with 1 Axes>"
      ]
     },
     "metadata": {
      "needs_background": "light"
     },
     "output_type": "display_data"
    }
   ],
   "source": [
    "# Visualize the NN dicriminant evaluated on good and fake tracks\n",
    "pred_good = predictions[test['is_good'] == True]\n",
    "pred_fake = predictions[test['is_good'] == False]\n",
    "\n",
    "fig, ax1 = plt.subplots(1, 1,figsize=(10,6))\n",
    "x = [pred_good, pred_fake]\n",
    "edgecolors = ['#4C72B0','#55A868']\n",
    "for i in [0,1]:\n",
    "    ax1.hist(x[i], edgecolor=edgecolors[i], histtype='step', linewidth=2.5, alpha=0.85, density=1, bins = np.linspace(0,1,60))\n",
    "ax1.set_xlabel(\"Value\", fontsize=12)\n",
    "ax1.set_ylabel(\"Tracks\", fontsize=12)\n",
    "ax1.set_title(\"NN precidction\", fontsize=18)\n",
    "ax1.legend(['good', 'fake'], loc='upper center')\n",
    "# ax1.set_yscale('log')\n",
    "ymin, ymax = plt.ylim()\n",
    "plt.ylim(ymin,ymax*1.1)\n",
    "plt.show()\n",
    "# plt.savefig('{}/discriminant.png'.format(model_dir),)"
   ]
  },
  {
   "cell_type": "code",
   "execution_count": 42,
   "metadata": {},
   "outputs": [
    {
     "name": "stdout",
     "output_type": "stream",
     "text": [
      "Accuracy 0.8722\n",
      "F1 Score 0.8676\n",
      "Precision 0.8928\n",
      "Recall 0.8438\n",
      "Confusion Matrix: \n",
      " [[13554  1503]\n",
      " [ 2318 12522]]\n"
     ]
    }
   ],
   "source": [
    "# There are several metrics that indicate performance\n",
    "# https://towardsdatascience.com/metrics-to-evaluate-your-machine-learning-algorithm-f10ba6e38234\n",
    "from sklearn.metrics import confusion_matrix, f1_score, precision_score, recall_score, accuracy_score\n",
    "\n",
    "model_performance = {}\n",
    "threshold = 0.5\n",
    "    \n",
    "model_performance['accuracy_score'] = accuracy_score(y_true=test['is_good'], y_pred=predictions>threshold)\n",
    "print(\"Accuracy %.4f\" % model_performance['accuracy_score'])\n",
    "model_performance['f1_score'] = f1_score(y_true=test['is_good'], y_pred=predictions>threshold)\n",
    "print(\"F1 Score %.4f\" % model_performance['f1_score'])\n",
    "model_performance['precision_score'] = precision_score(y_true=test['is_good'], y_pred=predictions>threshold)\n",
    "print(\"Precision %.4f\" % model_performance['precision_score'])\n",
    "model_performance['recall_score'] = recall_score(y_true=test['is_good'], y_pred=predictions>threshold)\n",
    "print(\"Recall %.4f\" % model_performance['recall_score'])\n",
    "model_performance['confusion_matrix'] = confusion_matrix(y_true=test['is_good'], y_pred=predictions>threshold)\n",
    "print(\"Confusion Matrix: \\n\", model_performance['confusion_matrix'])    "
   ]
  },
  {
   "cell_type": "code",
   "execution_count": 43,
   "metadata": {},
   "outputs": [
    {
     "data": {
      "image/png": "[encoded data removed]",
      "text/plain": [
       "<Figure size 720x432 with 1 Axes>"
      ]
     },
     "metadata": {
      "needs_background": "light"
     },
     "output_type": "display_data"
    }
   ],
   "source": [
    "# Plotting the ROC curve\n",
    "# https://www.dlology.com/blog/simple-guide-on-how-to-generate-roc-plot-for-keras-classifier/\n",
    "from sklearn.metrics import roc_curve\n",
    "y_pred_keras = predictions.ravel()\n",
    "fpr_keras, tpr_keras, thresholds_keras = roc_curve(test['is_good'], y_pred_keras)\n",
    "\n",
    "from sklearn.metrics import auc\n",
    "auc_keras = auc(fpr_keras, tpr_keras)\n",
    "\n",
    "plt.figure(1, (10,6))\n",
    "plt.plot([0, 1], [0, 1], 'k--')\n",
    "plt.plot(fpr_keras, tpr_keras, label='AUC = {:.3f}'.format(auc_keras))\n",
    "plt.xlabel('False positive rate')\n",
    "plt.ylabel('True positive rate')\n",
    "plt.title('ROC curve')\n",
    "plt.legend(loc='best', fontsize=20)\n",
    "plt.show()\n",
    "# plt.savefig('{}/roc.png'.format(model_dir),)"
   ]
  },
  {
   "cell_type": "code",
   "execution_count": 44,
   "metadata": {},
   "outputs": [
    {
     "name": "stdout",
     "output_type": "stream",
     "text": [
      "/home/newhouse/public/Analysis/LRT/lwtnn/converters/kerasfunc2json.py /home/newhouse/tmp/model/architecture.json /home/newhouse/tmp/model/weights.h5 > /home/newhouse/tmp/model/variables.json\n",
      "success\n"
     ]
    }
   ],
   "source": [
    "model_dir = '/home/newhouse/tmp/model/'\n",
    "lwtnn_dir = '/home/newhouse/public/Analysis/LRT/lwtnn/'\n",
    "\n",
    "# save architecture\n",
    "arch = model.to_json()\n",
    "with open(f'{model_dir}architecture.json', 'w') as arch_file:\n",
    "    arch_file.write(arch)\n",
    "# now save the weights as an HDF5 file\n",
    "model.save_weights(f'{model_dir}weights.h5')\n",
    "\n",
    "# Generate variables file with lwtnn\n",
    "make_variables_command = f'{lwtnn_dir}converters/kerasfunc2json.py {model_dir}architecture.json {model_dir}weights.h5 > {model_dir}variables.json'\n",
    "print(make_variables_command)\n",
    "if os.system(make_variables_command) == 0:\n",
    "    print('success')\n",
    "else:\n",
    "    print('failure')\n",
    "    "
   ]
  },
  {
   "cell_type": "code",
   "execution_count": 51,
   "metadata": {},
   "outputs": [
    {
     "name": "stdout",
     "output_type": "stream",
     "text": [
      "z0 -> z0\n",
      "d0 -> d0\n",
      "numberOfSCTHits -> numberOfSCTHits\n",
      "Sihits -> Sihits\n",
      "eta -> eta\n",
      "numberDoF -> numberDoF\n",
      "geometric_var -> geometric_var\n",
      "numberOfSCTHoles -> numberOfSCTHoles\n",
      "\n",
      "track_inputs -> track_inputs\n",
      "\n",
      "nn_score -> nn_score\n"
     ]
    }
   ],
   "source": [
    "# or manually make the variables file\n",
    "with open(f'{model_dir}variables.json', 'r') as variables_json:\n",
    "    inputs_dict = json.load(variables_json)\n",
    "\n",
    "# update the names to the correct variables\n",
    "# and aply the correct shift and scale\n",
    "for i, (item, df_name) in enumerate(zip(inputs_dict['inputs'][0]['variables'], inputs_names)):\n",
    "    print(item['name'], '->', df_name)\n",
    "    item['name'] = df_name\n",
    "    item['offset'] = -scaler.mean_[i]\n",
    "    item['scale'] = 1/scaler.scale_[i]\n",
    "\n",
    "# rename the inputs label\n",
    "print()\n",
    "print(inputs_dict['inputs'][0]['name'], '->' ,'track_inputs')\n",
    "inputs_dict['inputs'][0]['name'] = 'track_inputs'\n",
    "\n",
    "# do the same with the output label\n",
    "print()\n",
    "print(inputs_dict['outputs'][0]['labels'][0], '->', 'nn_score')\n",
    "inputs_dict['outputs'][0]['labels'][0] = 'nn_score'\n",
    "    \n",
    "with open(f'{model_dir}variables.json', 'w') as variables_json:\n",
    "    inputs_dict = json.dump(inputs_dict, variables_json, indent=2 )"
   ]
  },
  {
   "cell_type": "code",
   "execution_count": 52,
   "metadata": {},
   "outputs": [
    {
     "name": "stdout",
     "output_type": "stream",
     "text": [
      "/home/newhouse/public/Analysis/LRT/lwtnn/converters/kerasfunc2json.py /home/newhouse/tmp/model/architecture.json /home/newhouse/tmp/model/weights.h5 /home/newhouse/tmp/model/variables.json > /home/newhouse/tmp/model/nn-config.json\n",
      "success\n"
     ]
    }
   ],
   "source": [
    "kerasfunc2json_command = f'{lwtnn_dir}converters/kerasfunc2json.py {model_dir}architecture.json {model_dir}weights.h5 {model_dir}variables.json > {model_dir}nn-config.json'\n",
    "print(kerasfunc2json_command)\n",
    "if os.system(kerasfunc2json_command) == 0:\n",
    "    print('success')\n",
    "else:\n",
    "    print('failure')\n",
    "    "
   ]
  },
  {
   "cell_type": "code",
   "execution_count": null,
   "metadata": {},
   "outputs": [],
   "source": []
  },
  {
   "cell_type": "code",
   "execution_count": 57,
   "metadata": {},
   "outputs": [],
   "source": [
    "# TESTING\n",
    "import uproot\n",
    "\n",
    "tested = uproot.open(\"/home/newhouse/public/Analysis/LRT/LRTProduction/run/15_v7/test_run/track_info_InDetSummaryDumpAlg_R3LargeD0.root\")['tracks']\n",
    "# tested.pandas.df().nnScore.hist()\n",
    "df = tested.pandas.df()"
   ]
  },
  {
   "cell_type": "code",
   "execution_count": 58,
   "metadata": {},
   "outputs": [],
   "source": [
    "df.rename({'track_eta': 'eta'}, axis='columns', inplace=True)\n",
    "df.rename({'geometricVariable': 'geometric_var'}, axis='columns', inplace=True)\n",
    "df['geometric_var_py'] = abs(np.arctan2(abs(df.d0),df.z0)-2*np.arctan(np.exp(-df.eta)))\n",
    "# abs values\n",
    "df['abs_z0'] = abs(df.z0)\n",
    "df['abs_d0'] = abs(df.d0)\n",
    "df['abs_eta'] = abs(df.eta)\n",
    "# silicon hits\n",
    "df['Sihits'] = df.numberOfPixelHits + df.numberOfSCTHits"
   ]
  },
  {
   "cell_type": "code",
   "execution_count": 63,
   "metadata": {},
   "outputs": [
    {
     "data": {
      "text/plain": [
       "Text(0.5, 0, 'nnScore')"
      ]
     },
     "execution_count": 63,
     "metadata": {},
     "output_type": "execute_result"
    },
    {
     "data": {
      "image/png": "[encoded data removed]",
      "text/plain": [
       "<Figure size 720x432 with 1 Axes>"
      ]
     },
     "metadata": {
      "needs_background": "light"
     },
     "output_type": "display_data"
    }
   ],
   "source": [
    "fig = plt.figure(figsize=[10,6])\n",
    "predictions = model.predict(scaler.transform(df[inputs_names]))\n",
    "plt.hist(predictions, histtype='step', bins=np.linspace(0,1,11), linewidth=4, alpha=.7)\n",
    "plt.hist(df.nnScore,  histtype='step', bins=np.linspace(0,1,11), linewidth=4, alpha=.7)\n",
    "ax = plt.gca()\n",
    "ax.legend(['evaluated in python', 'evaluated in athena'], fontsize=20)\n",
    "ax.set_xlabel('nnScore', fontsize=24)"
   ]
  },
  {
   "cell_type": "code",
   "execution_count": null,
   "metadata": {},
   "outputs": [],
   "source": []
  }
 ],
 "metadata": {
  "kernelspec": {
   "display_name": "Python 3",
   "language": "python",
   "name": "python3"
  },
  "language_info": {
   "codemirror_mode": {
    "name": "ipython",
    "version": 3
   },
   "file_extension": ".py",
   "mimetype": "text/x-python",
   "name": "python",
   "nbconvert_exporter": "python",
   "pygments_lexer": "ipython3",
   "version": "3.7.6"
  }
 },
 "nbformat": 4,
 "nbformat_minor": 4
}
