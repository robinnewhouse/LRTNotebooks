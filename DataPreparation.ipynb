{
 "cells": [
  {
   "cell_type": "code",
   "execution_count": 1,
   "metadata": {},
   "outputs": [
    {
     "name": "stdout",
     "output_type": "stream",
     "text": [
      "WARNING:tensorflow:From <ipython-input-1-3fbf21f622ec>:31: is_gpu_available (from tensorflow.python.framework.test_util) is deprecated and will be removed in a future version.\n",
      "Instructions for updating:\n",
      "Use `tf.config.list_physical_devices('GPU')` instead.\n"
     ]
    },
    {
     "data": {
      "text/plain": [
       "False"
      ]
     },
     "execution_count": 1,
     "metadata": {},
     "output_type": "execute_result"
    }
   ],
   "source": [
    "import pandas as pd\n",
    "import sklearn\n",
    "import uproot\n",
    "import numpy as np\n",
    "import matplotlib.pyplot as plt\n",
    "import tensorflow as tf\n",
    "from tensorflow import keras\n",
    "from IPython.display import clear_output\n",
    "from tensorflow.keras.callbacks import Callback\n",
    "from tensorflow.keras.callbacks import EarlyStopping\n",
    "from tensorflow.keras.utils import Sequence\n",
    "from tensorflow.keras.utils import plot_model\n",
    "\n",
    "import matplotlib.lines as mlinesZ\n",
    "import json\n",
    "import datetime\n",
    "import time\n",
    "import os\n",
    "import warnings\n",
    "import glob\n",
    "\n",
    "from sklearn.model_selection import train_test_split\n",
    "from sklearn.preprocessing import minmax_scale, scale\n",
    "from sklearn.metrics import confusion_matrix, f1_score, precision_score, recall_score, accuracy_score\n",
    "from sklearn.utils import class_weight\n",
    "plt.style.use('seaborn-deep')\n",
    "\n",
    "# Use this line to enable GPU (only on applicable architecures)\n",
    "# get_ipython().run_line_magic('env', 'CUDA_DEVICE_ORDER=PCI_BUS_ID')\n",
    "os.environ[\"CUDA_VISIBLE_DEVICES\"] = \"1\" # turns off gpu\n",
    "tf.test.is_gpu_available()\n"
   ]
  },
  {
   "cell_type": "code",
   "execution_count": 2,
   "metadata": {},
   "outputs": [],
   "source": [
    "# fix random seed for reproducibility\n",
    "seed = 100\n",
    "np.random.seed(seed)\n"
   ]
  },
  {
   "cell_type": "code",
   "execution_count": 5,
   "metadata": {},
   "outputs": [],
   "source": [
    "# Load tracks from stored pickle of ntuples\n",
    "df = pd.read_pickle('/data/newhouse/LRT/batch/master/training/tracks.pkl')"
   ]
  },
  {
   "cell_type": "code",
   "execution_count": 6,
   "metadata": {},
   "outputs": [
    {
     "name": "stdout",
     "output_type": "stream",
     "text": [
      "columns: Index(['numberOfPixelHoles', 'numberOfSCTHoles', 'numberOfSCTDoubleHoles',\n",
      "       'numberOfContribPixelLayers', 'numberOfBLayerHits',\n",
      "       'numberOfGangedFlaggedFakes', 'numberOfPixelHits', 'numberOfSCTHits',\n",
      "       'standardDeviationOfChi2OS', 'track_pt', 'chiSquared', 'numberDoF',\n",
      "       'numberOfBLayerSplitHits', 'numberOfInnermostLayerSplitHits',\n",
      "       'numberOfInnermostPixelLayerHits',\n",
      "       'numberOfNextToInnermostLayerSplitHits',\n",
      "       'numberOfNextToInnermostPixelLayerHits', 'numberOfPixelSplitHits',\n",
      "       'numberOfPixelOutliers', 'numberOfSCTOutliers',\n",
      "       'numberOfPixelSpoiltHits', 'numberOfSCTSpoiltHits',\n",
      "       'numberOfGangedPixels', 'numberOfOutliersOnTrack', 'eta', 'd0', 'z0',\n",
      "       'phi0', 'theta', 'qOverP', 'score', 'linkValid', 'truthProbability',\n",
      "       'signal', 'geometric_var', 'abs_z0', 'abs_d0', 'abs_eta', 'Sihits',\n",
      "       'is_good'],\n",
      "      dtype='object')\n",
      "Total number of tracks loaded 2038773\n"
     ]
    },
    {
     "data": {
      "text/html": [
       "<div>\n",
       "<style scoped>\n",
       "    .dataframe tbody tr th:only-of-type {\n",
       "        vertical-align: middle;\n",
       "    }\n",
       "\n",
       "    .dataframe tbody tr th {\n",
       "        vertical-align: top;\n",
       "    }\n",
       "\n",
       "    .dataframe thead th {\n",
       "        text-align: right;\n",
       "    }\n",
       "</style>\n",
       "<table border=\"1\" class=\"dataframe\">\n",
       "  <thead>\n",
       "    <tr style=\"text-align: right;\">\n",
       "      <th></th>\n",
       "      <th>numberOfPixelHoles</th>\n",
       "      <th>numberOfSCTHoles</th>\n",
       "      <th>numberOfSCTDoubleHoles</th>\n",
       "      <th>numberOfContribPixelLayers</th>\n",
       "      <th>numberOfBLayerHits</th>\n",
       "      <th>numberOfGangedFlaggedFakes</th>\n",
       "      <th>numberOfPixelHits</th>\n",
       "      <th>numberOfSCTHits</th>\n",
       "      <th>standardDeviationOfChi2OS</th>\n",
       "      <th>track_pt</th>\n",
       "      <th>...</th>\n",
       "      <th>phi0</th>\n",
       "      <th>theta</th>\n",
       "      <th>qOverP</th>\n",
       "      <th>score</th>\n",
       "      <th>truthProbability</th>\n",
       "      <th>geometric_var</th>\n",
       "      <th>abs_z0</th>\n",
       "      <th>abs_d0</th>\n",
       "      <th>abs_eta</th>\n",
       "      <th>Sihits</th>\n",
       "    </tr>\n",
       "  </thead>\n",
       "  <tbody>\n",
       "    <tr>\n",
       "      <th>count</th>\n",
       "      <td>2.038773e+06</td>\n",
       "      <td>2.038773e+06</td>\n",
       "      <td>2038773.0</td>\n",
       "      <td>2.038773e+06</td>\n",
       "      <td>2038773.0</td>\n",
       "      <td>2.038773e+06</td>\n",
       "      <td>2.038773e+06</td>\n",
       "      <td>2.038773e+06</td>\n",
       "      <td>2.038773e+06</td>\n",
       "      <td>2.038773e+06</td>\n",
       "      <td>...</td>\n",
       "      <td>2.038773e+06</td>\n",
       "      <td>2.038773e+06</td>\n",
       "      <td>2.038773e+06</td>\n",
       "      <td>2.038773e+06</td>\n",
       "      <td>2.038773e+06</td>\n",
       "      <td>2.038773e+06</td>\n",
       "      <td>2.038773e+06</td>\n",
       "      <td>2.038773e+06</td>\n",
       "      <td>2.038773e+06</td>\n",
       "      <td>2.038773e+06</td>\n",
       "    </tr>\n",
       "    <tr>\n",
       "      <th>mean</th>\n",
       "      <td>2.398379e-01</td>\n",
       "      <td>3.475610e-01</td>\n",
       "      <td>0.0</td>\n",
       "      <td>9.511250e-01</td>\n",
       "      <td>-1.0</td>\n",
       "      <td>1.945680e-02</td>\n",
       "      <td>9.830006e-01</td>\n",
       "      <td>7.700646e+00</td>\n",
       "      <td>1.266096e+02</td>\n",
       "      <td>3.995864e+04</td>\n",
       "      <td>...</td>\n",
       "      <td>-2.402670e-02</td>\n",
       "      <td>1.566881e+00</td>\n",
       "      <td>1.809319e-05</td>\n",
       "      <td>1.932101e+02</td>\n",
       "      <td>6.641379e-01</td>\n",
       "      <td>1.294404e+00</td>\n",
       "      <td>1.828915e+02</td>\n",
       "      <td>6.395222e+01</td>\n",
       "      <td>1.134300e+00</td>\n",
       "      <td>8.683647e+00</td>\n",
       "    </tr>\n",
       "    <tr>\n",
       "      <th>std</th>\n",
       "      <td>4.269845e-01</td>\n",
       "      <td>4.761958e-01</td>\n",
       "      <td>0.0</td>\n",
       "      <td>8.904010e-01</td>\n",
       "      <td>0.0</td>\n",
       "      <td>1.391712e-01</td>\n",
       "      <td>9.620167e-01</td>\n",
       "      <td>9.611489e-01</td>\n",
       "      <td>4.759140e+03</td>\n",
       "      <td>4.638887e+07</td>\n",
       "      <td>...</td>\n",
       "      <td>1.815492e+00</td>\n",
       "      <td>9.394522e-01</td>\n",
       "      <td>4.290151e-04</td>\n",
       "      <td>1.796679e+03</td>\n",
       "      <td>2.405604e-01</td>\n",
       "      <td>9.074623e-01</td>\n",
       "      <td>1.358893e+02</td>\n",
       "      <td>5.846908e+01</td>\n",
       "      <td>6.735796e-01</td>\n",
       "      <td>1.205982e+00</td>\n",
       "    </tr>\n",
       "    <tr>\n",
       "      <th>min</th>\n",
       "      <td>0.000000e+00</td>\n",
       "      <td>0.000000e+00</td>\n",
       "      <td>0.0</td>\n",
       "      <td>0.000000e+00</td>\n",
       "      <td>-1.0</td>\n",
       "      <td>0.000000e+00</td>\n",
       "      <td>0.000000e+00</td>\n",
       "      <td>2.000000e+00</td>\n",
       "      <td>-1.000000e+00</td>\n",
       "      <td>1.000001e+03</td>\n",
       "      <td>...</td>\n",
       "      <td>-3.141592e+00</td>\n",
       "      <td>1.348850e-01</td>\n",
       "      <td>-9.998488e-04</td>\n",
       "      <td>7.758226e-05</td>\n",
       "      <td>1.000000e-01</td>\n",
       "      <td>4.063888e-07</td>\n",
       "      <td>3.377415e-05</td>\n",
       "      <td>7.760171e-06</td>\n",
       "      <td>3.486286e-06</td>\n",
       "      <td>6.000000e+00</td>\n",
       "    </tr>\n",
       "    <tr>\n",
       "      <th>25%</th>\n",
       "      <td>0.000000e+00</td>\n",
       "      <td>0.000000e+00</td>\n",
       "      <td>0.0</td>\n",
       "      <td>0.000000e+00</td>\n",
       "      <td>-1.0</td>\n",
       "      <td>0.000000e+00</td>\n",
       "      <td>0.000000e+00</td>\n",
       "      <td>7.000000e+00</td>\n",
       "      <td>5.300000e+01</td>\n",
       "      <td>1.190887e+03</td>\n",
       "      <td>...</td>\n",
       "      <td>-1.594867e+00</td>\n",
       "      <td>6.294361e-01</td>\n",
       "      <td>-2.974904e-04</td>\n",
       "      <td>8.081034e-03</td>\n",
       "      <td>5.000000e-01</td>\n",
       "      <td>4.284436e-01</td>\n",
       "      <td>6.103350e+01</td>\n",
       "      <td>1.614643e+01</td>\n",
       "      <td>5.752195e-01</td>\n",
       "      <td>8.000000e+00</td>\n",
       "    </tr>\n",
       "    <tr>\n",
       "      <th>50%</th>\n",
       "      <td>0.000000e+00</td>\n",
       "      <td>0.000000e+00</td>\n",
       "      <td>0.0</td>\n",
       "      <td>1.000000e+00</td>\n",
       "      <td>-1.0</td>\n",
       "      <td>0.000000e+00</td>\n",
       "      <td>1.000000e+00</td>\n",
       "      <td>8.000000e+00</td>\n",
       "      <td>9.000000e+01</td>\n",
       "      <td>1.525787e+03</td>\n",
       "      <td>...</td>\n",
       "      <td>-3.311657e-02</td>\n",
       "      <td>1.565139e+00</td>\n",
       "      <td>3.227290e-05</td>\n",
       "      <td>1.577339e-02</td>\n",
       "      <td>6.666667e-01</td>\n",
       "      <td>1.181247e+00</td>\n",
       "      <td>1.576559e+02</td>\n",
       "      <td>4.588084e+01</td>\n",
       "      <td>1.116142e+00</td>\n",
       "      <td>8.000000e+00</td>\n",
       "    </tr>\n",
       "    <tr>\n",
       "      <th>75%</th>\n",
       "      <td>0.000000e+00</td>\n",
       "      <td>1.000000e+00</td>\n",
       "      <td>0.0</td>\n",
       "      <td>1.000000e+00</td>\n",
       "      <td>-1.0</td>\n",
       "      <td>0.000000e+00</td>\n",
       "      <td>1.000000e+00</td>\n",
       "      <td>8.000000e+00</td>\n",
       "      <td>1.480000e+02</td>\n",
       "      <td>2.528917e+03</td>\n",
       "      <td>...</td>\n",
       "      <td>1.542515e+00</td>\n",
       "      <td>2.505005e+00</td>\n",
       "      <td>3.316742e-04</td>\n",
       "      <td>6.362113e-02</td>\n",
       "      <td>8.750000e-01</td>\n",
       "      <td>2.164172e+00</td>\n",
       "      <td>2.898358e+02</td>\n",
       "      <td>9.572634e+01</td>\n",
       "      <td>1.616582e+00</td>\n",
       "      <td>9.000000e+00</td>\n",
       "    </tr>\n",
       "    <tr>\n",
       "      <th>max</th>\n",
       "      <td>1.000000e+00</td>\n",
       "      <td>1.000000e+00</td>\n",
       "      <td>0.0</td>\n",
       "      <td>6.000000e+00</td>\n",
       "      <td>-1.0</td>\n",
       "      <td>3.000000e+00</td>\n",
       "      <td>9.000000e+00</td>\n",
       "      <td>1.800000e+01</td>\n",
       "      <td>3.189489e+06</td>\n",
       "      <td>6.623324e+10</td>\n",
       "      <td>...</td>\n",
       "      <td>3.141591e+00</td>\n",
       "      <td>3.006237e+00</td>\n",
       "      <td>9.997356e-04</td>\n",
       "      <td>1.096304e+06</td>\n",
       "      <td>1.000000e+00</td>\n",
       "      <td>3.002888e+00</td>\n",
       "      <td>4.999996e+02</td>\n",
       "      <td>2.998766e+02</td>\n",
       "      <td>2.694963e+00</td>\n",
       "      <td>2.100000e+01</td>\n",
       "    </tr>\n",
       "  </tbody>\n",
       "</table>\n",
       "<p>8 rows × 37 columns</p>\n",
       "</div>"
      ],
      "text/plain": [
       "       numberOfPixelHoles  numberOfSCTHoles  numberOfSCTDoubleHoles  \\\n",
       "count        2.038773e+06      2.038773e+06               2038773.0   \n",
       "mean         2.398379e-01      3.475610e-01                     0.0   \n",
       "std          4.269845e-01      4.761958e-01                     0.0   \n",
       "min          0.000000e+00      0.000000e+00                     0.0   \n",
       "25%          0.000000e+00      0.000000e+00                     0.0   \n",
       "50%          0.000000e+00      0.000000e+00                     0.0   \n",
       "75%          0.000000e+00      1.000000e+00                     0.0   \n",
       "max          1.000000e+00      1.000000e+00                     0.0   \n",
       "\n",
       "       numberOfContribPixelLayers  numberOfBLayerHits  \\\n",
       "count                2.038773e+06           2038773.0   \n",
       "mean                 9.511250e-01                -1.0   \n",
       "std                  8.904010e-01                 0.0   \n",
       "min                  0.000000e+00                -1.0   \n",
       "25%                  0.000000e+00                -1.0   \n",
       "50%                  1.000000e+00                -1.0   \n",
       "75%                  1.000000e+00                -1.0   \n",
       "max                  6.000000e+00                -1.0   \n",
       "\n",
       "       numberOfGangedFlaggedFakes  numberOfPixelHits  numberOfSCTHits  \\\n",
       "count                2.038773e+06       2.038773e+06     2.038773e+06   \n",
       "mean                 1.945680e-02       9.830006e-01     7.700646e+00   \n",
       "std                  1.391712e-01       9.620167e-01     9.611489e-01   \n",
       "min                  0.000000e+00       0.000000e+00     2.000000e+00   \n",
       "25%                  0.000000e+00       0.000000e+00     7.000000e+00   \n",
       "50%                  0.000000e+00       1.000000e+00     8.000000e+00   \n",
       "75%                  0.000000e+00       1.000000e+00     8.000000e+00   \n",
       "max                  3.000000e+00       9.000000e+00     1.800000e+01   \n",
       "\n",
       "       standardDeviationOfChi2OS      track_pt  ...          phi0  \\\n",
       "count               2.038773e+06  2.038773e+06  ...  2.038773e+06   \n",
       "mean                1.266096e+02  3.995864e+04  ... -2.402670e-02   \n",
       "std                 4.759140e+03  4.638887e+07  ...  1.815492e+00   \n",
       "min                -1.000000e+00  1.000001e+03  ... -3.141592e+00   \n",
       "25%                 5.300000e+01  1.190887e+03  ... -1.594867e+00   \n",
       "50%                 9.000000e+01  1.525787e+03  ... -3.311657e-02   \n",
       "75%                 1.480000e+02  2.528917e+03  ...  1.542515e+00   \n",
       "max                 3.189489e+06  6.623324e+10  ...  3.141591e+00   \n",
       "\n",
       "              theta        qOverP         score  truthProbability  \\\n",
       "count  2.038773e+06  2.038773e+06  2.038773e+06      2.038773e+06   \n",
       "mean   1.566881e+00  1.809319e-05  1.932101e+02      6.641379e-01   \n",
       "std    9.394522e-01  4.290151e-04  1.796679e+03      2.405604e-01   \n",
       "min    1.348850e-01 -9.998488e-04  7.758226e-05      1.000000e-01   \n",
       "25%    6.294361e-01 -2.974904e-04  8.081034e-03      5.000000e-01   \n",
       "50%    1.565139e+00  3.227290e-05  1.577339e-02      6.666667e-01   \n",
       "75%    2.505005e+00  3.316742e-04  6.362113e-02      8.750000e-01   \n",
       "max    3.006237e+00  9.997356e-04  1.096304e+06      1.000000e+00   \n",
       "\n",
       "       geometric_var        abs_z0        abs_d0       abs_eta        Sihits  \n",
       "count   2.038773e+06  2.038773e+06  2.038773e+06  2.038773e+06  2.038773e+06  \n",
       "mean    1.294404e+00  1.828915e+02  6.395222e+01  1.134300e+00  8.683647e+00  \n",
       "std     9.074623e-01  1.358893e+02  5.846908e+01  6.735796e-01  1.205982e+00  \n",
       "min     4.063888e-07  3.377415e-05  7.760171e-06  3.486286e-06  6.000000e+00  \n",
       "25%     4.284436e-01  6.103350e+01  1.614643e+01  5.752195e-01  8.000000e+00  \n",
       "50%     1.181247e+00  1.576559e+02  4.588084e+01  1.116142e+00  8.000000e+00  \n",
       "75%     2.164172e+00  2.898358e+02  9.572634e+01  1.616582e+00  9.000000e+00  \n",
       "max     3.002888e+00  4.999996e+02  2.998766e+02  2.694963e+00  2.100000e+01  \n",
       "\n",
       "[8 rows x 37 columns]"
      ]
     },
     "execution_count": 6,
     "metadata": {},
     "output_type": "execute_result"
    }
   ],
   "source": [
    "# Inspect loaded dataframe\n",
    "print(\"columns:\", df.columns)\n",
    "print(\"Total number of tracks loaded\", len(df))\n",
    "df.describe()"
   ]
  },
  {
   "cell_type": "markdown",
   "metadata": {},
   "source": [
    "# Balancing classes\n",
    "In this section I will balance the classes so there are equal numbers of each."
   ]
  },
  {
   "cell_type": "markdown",
   "metadata": {},
   "source": [
    "First let's take a look at what the classes look like unbalanced"
   ]
  },
  {
   "cell_type": "code",
   "execution_count": 14,
   "metadata": {},
   "outputs": [],
   "source": [
    "good = df[df['is_good']]\n",
    "fake = df[df['is_good']==False]"
   ]
  },
  {
   "cell_type": "code",
   "execution_count": 15,
   "metadata": {},
   "outputs": [],
   "source": [
    "plot_options = {\n",
    "    'histtype' : 'step',\n",
    "    'linewidth' : 3.5, \n",
    "    'alpha' : 0.85, \n",
    "    'density' : None,\n",
    "    'bins' : np.linspace(0,1,11)\n",
    "}\n",
    "\n",
    "def plot_truth_prob(good, fake, var='truthProbability'):\n",
    "    good_vals = ax.hist(good[var], edgecolor='#4C72B0', **plot_options)\n",
    "    fake_vals = ax.hist(fake[var], edgecolor='#55A868', **plot_options)\n",
    "    ax.legend(['fake', 'good'], loc='upper left', fontsize=20)\n",
    "    ax.set_xlabel(var, fontsize = 20)\n",
    "    ax.tick_params(axis='x', which='major', labelsize=16)\n",
    "    return ax"
   ]
  },
  {
   "cell_type": "code",
   "execution_count": 16,
   "metadata": {},
   "outputs": [
    {
     "data": {
      "text/plain": [
       "<matplotlib.axes._subplots.AxesSubplot at 0x7f791021cd90>"
      ]
     },
     "execution_count": 16,
     "metadata": {},
     "output_type": "execute_result"
    },
    {
     "data": {
      "image/png": "[encoded data removed]",
      "text/plain": [
       "<Figure size 720x432 with 1 Axes>"
      ]
     },
     "metadata": {
      "needs_background": "light"
     },
     "output_type": "display_data"
    }
   ],
   "source": [
    "fig, ax = plt.subplots(1, 1,figsize=(10,6))\n",
    "\n",
    "plot_truth_prob(good, fake)"
   ]
  },
  {
   "cell_type": "markdown",
   "metadata": {},
   "source": [
    "# Upsampling Classes\n",
    "This balances the classes by subsampling the same number of true and fake tracks. This is to prevent the network from learning to prefer one class over the other.\n",
    "\n",
    "#### I've found other upsampling implementations lose information by using replacement. This is my own implementation."
   ]
  },
  {
   "cell_type": "code",
   "execution_count": 17,
   "metadata": {},
   "outputs": [],
   "source": [
    "def upsample(df_true, df_false):\n",
    "    # I've found other upsampling implementations lose information by using replacement\n",
    "    # how much bigger?\n",
    "    if len(df_true) < len(df_false):\n",
    "        majority = df_false\n",
    "        minority = df_true\n",
    "    else:\n",
    "        majority = df_true\n",
    "        minority = df_false\n",
    "        \n",
    "    print('upsampling')\n",
    "    ratio_floor = int(np.floor(len(majority)/len(minority)))\n",
    "    remainder = len(majority) % len(minority)\n",
    "\n",
    "    temp_df = majority\n",
    "    \n",
    "    # append multiplied minority\n",
    "    temp_df = temp_df.append(\n",
    "        pd.concat([minority]*ratio_floor, ignore_index=True),\n",
    "        ignore_index=True)\n",
    "    \n",
    "    # append randomly sampled remaining minority\n",
    "    temp_df = temp_df.append(\n",
    "        minority.sample(remainder),\n",
    "        ignore_index=True)\n",
    "    \n",
    "    # randomly combined data frame\n",
    "    return temp_df.sample(frac=1)\n",
    "\n",
    "def downsample(df_true, df_false):\n",
    "    initial_len = [len(df_true), len(df_false)]\n",
    "    sample_len = min(initial_len)\n",
    "    print('downsampling')\n",
    "    df_true = df_true.sample(sample_len)\n",
    "    df_false = df_false.sample(sample_len)\n",
    "\n",
    "    # Combine and shuffle the true and false dataframes\n",
    "    return df_true.append(df_false).sample(frac=1)"
   ]
  },
  {
   "cell_type": "code",
   "execution_count": 19,
   "metadata": {},
   "outputs": [
    {
     "name": "stdout",
     "output_type": "stream",
     "text": [
      "upsampling\n",
      "Total sample size 2989648\n"
     ]
    },
    {
     "data": {
      "image/png": "[encoded data removed]",
      "text/plain": [
       "<Figure size 1008x432 with 3 Axes>"
      ]
     },
     "metadata": {},
     "output_type": "display_data"
    }
   ],
   "source": [
    "# Combine and shuffle the true and false dataframes\n",
    "initial_len = [len(good), len(fake)]\n",
    "df = upsample(good, fake)\n",
    "good = df[df['is_good']]\n",
    "fake = df[df['is_good']==False]\n",
    "good_count = len(good)\n",
    "fake_count = len(fake)\n",
    "\n",
    "# Visualize flow in pie charts\n",
    "fig, (ax0, ax1, ax2) = plt.subplots(1, 3,figsize=(14,6))\n",
    "print(\"Total sample size\",len(df))\n",
    "pie1 = ax0.pie(initial_len, labels=[\"Good tracks\", \"Fake tracks\"])\n",
    "pie1 = ax1.pie([good_count, fake_count], labels=[\"Good tracks\", \"Fake tracks\"])\n",
    "pie2 = ax2.pie([good_count*.4,fake_count*.4,good_count*.1,fake_count*.1], labels=[\"\",\"\",\"\", \"\"], colors=[\"#55A868\",\"#4C72B0\",\"#55A868\",\"#4C72B0\"])\n",
    "pie2[0][2].set_alpha(0.5)\n",
    "pie2[0][3].set_alpha(0.5)\n",
    "pie2 = ax2.pie([.8,.2], labels=[\"Training set\", \"Validation set\"], colors=[\"b\",\"g\"], )\n",
    "pie2[0][0].set_alpha(0.0)\n",
    "pie2[0][1].set_alpha(0.0)"
   ]
  },
  {
   "cell_type": "markdown",
   "metadata": {},
   "source": [
    "# Weighting distribution\n",
    "\n"
   ]
  },
  {
   "cell_type": "code",
   "execution_count": 24,
   "metadata": {},
   "outputs": [
    {
     "data": {
      "text/plain": [
       "<matplotlib.axes._subplots.AxesSubplot at 0x7f78f01ae790>"
      ]
     },
     "execution_count": 24,
     "metadata": {},
     "output_type": "execute_result"
    },
    {
     "data": {
      "image/png": "[encoded data removed]",
      "text/plain": [
       "<Figure size 864x576 with 1 Axes>"
      ]
     },
     "metadata": {
      "needs_background": "light"
     },
     "output_type": "display_data"
    },
    {
     "data": {
      "image/png": "[encoded data removed]",
      "text/plain": [
       "<Figure size 864x576 with 1 Axes>"
      ]
     },
     "metadata": {
      "needs_background": "light"
     },
     "output_type": "display_data"
    },
    {
     "data": {
      "image/png": "[encoded data removed]",
      "text/plain": [
       "<Figure size 864x576 with 1 Axes>"
      ]
     },
     "metadata": {
      "needs_background": "light"
     },
     "output_type": "display_data"
    }
   ],
   "source": [
    "def compare_variable(x, good, fake, bins=np.linspace(0,1,11), leg_loc='upper left', log=False):\n",
    "    plot_options = {\n",
    "        'histtype' : 'step',\n",
    "        'linewidth' : 3.5, \n",
    "        'alpha' : 0.85, \n",
    "        'density' : None,\n",
    "        'bins' : bins,\n",
    "        'log' : log\n",
    "    }\n",
    "\n",
    "    good_vals = ax.hist(good[x], edgecolor='#4C72B0', **plot_options)\n",
    "    fake_vals = ax.hist(fake[x], edgecolor='#55A868', **plot_options)\n",
    "    ax.legend(['fake', 'good', ], loc=leg_loc, fontsize=20)\n",
    "    ax.set_xlabel(x, fontsize = 20)\n",
    "    ax.tick_params(axis='x', which='major', labelsize=16)\n",
    "    return ax\n",
    "\n",
    "fig, ax = plt.subplots(1, 1,figsize=(12,8))\n",
    "compare_variable('abs_z0', good, fake, bins=np.linspace(0,500,80), leg_loc='upper right')\n",
    "fig, ax = plt.subplots(1, 1,figsize=(12,8))\n",
    "compare_variable('abs_d0', good, fake, bins=np.linspace(0,250,80), leg_loc='upper right')\n",
    "fig, ax = plt.subplots(1, 1,figsize=(12,8))\n",
    "compare_variable('track_pt', good, fake, bins=np.linspace(0,1e5,80), leg_loc='upper right', log=True)\n"
   ]
  },
  {
   "cell_type": "markdown",
   "metadata": {},
   "source": [
    "# Weights\n",
    "dummy weights for now"
   ]
  },
  {
   "cell_type": "code",
   "execution_count": 25,
   "metadata": {},
   "outputs": [],
   "source": [
    "df = good.append(fake)"
   ]
  },
  {
   "cell_type": "code",
   "execution_count": 28,
   "metadata": {},
   "outputs": [],
   "source": [
    "df['weights']=1"
   ]
  },
  {
   "cell_type": "markdown",
   "metadata": {},
   "source": [
    "# Save to pickle"
   ]
  },
  {
   "cell_type": "code",
   "execution_count": 30,
   "metadata": {},
   "outputs": [],
   "source": [
    "df.to_pickle('/data/newhouse/LRT/batch/master/training/tracks_weighted.pkl')"
   ]
  },
  {
   "cell_type": "markdown",
   "metadata": {},
   "source": [
    "# Parking lot of code"
   ]
  },
  {
   "cell_type": "code",
   "execution_count": null,
   "metadata": {},
   "outputs": [],
   "source": [
    "### Weighing tracks by pt\n",
    "# In this section we weight each track by its inverse histogram weight.\n",
    "# This can be done after flattening by subsampling.\n",
    "# The weights will be used in Keras' training to prevent learning the pt distribution of the tracks\n",
    "# Note: I believe this is important to do after class weighting.\n",
    "\n",
    "# Define bins and produce histogram\n",
    "d_pt = 1000; n_bins = 100\n",
    "bins = np.linspace(0,n_bins*d_pt, n_bins, endpoint=False)\n",
    "pt_hist, _ = np.histogram(df.track_pt, bins=bins, density=False)\n",
    "\n",
    "# Guarantee that anything in the highest bin gets a weight of 1. Like a cutoff. Almost all high bins only have a weight of 1\n",
    "bins[-1] = np.inf\n",
    "pt_hist[-1] = np.max(pt_hist) # Overflow bin\n",
    "\n",
    "# Digitize finds which bin each pt value belongs to\n",
    "pt_bin = np.digitize(df.track_pt, bins)\n",
    "pt_bin = pt_bin - 1 # indexes from one for some reason (may not understand this fully)\n",
    "\n",
    "# Define the weights as the inverse of the histogram weights.\n",
    "# This will give less weight to low-pt tracks since there are many\n",
    "track_weights = (1/pt_hist[pt_bin])\n",
    "df['track_weights'] = track_weights\n",
    "\n",
    "# Sanity check plot. this weighted histogram should be exactly flat.\n",
    "# Some gaps may appear if no tracks fall in that pt range\n",
    "ax = df.track_pt.hist(bins=bins, density=False,figsize=(10,7), weights=track_weights)"
   ]
  }
 ],
 "metadata": {
  "kernelspec": {
   "display_name": "Python 3",
   "language": "python",
   "name": "python3"
  },
  "language_info": {
   "codemirror_mode": {
    "name": "ipython",
    "version": 3
   },
   "file_extension": ".py",
   "mimetype": "text/x-python",
   "name": "python",
   "nbconvert_exporter": "python",
   "pygments_lexer": "ipython3",
   "version": "3.7.6"
  }
 },
 "nbformat": 4,
 "nbformat_minor": 4
}
