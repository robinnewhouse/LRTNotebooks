{
 "cells": [
  {
   "cell_type": "code",
   "execution_count": 1,
   "metadata": {},
   "outputs": [
    {
     "name": "stdout",
     "output_type": "stream",
     "text": [
      "Welcome to JupyROOT 6.20/06\n"
     ]
    }
   ],
   "source": [
    "# Start a jupyter notebook from an envoironment with asetup already run\n",
    "# if jupyter is not installed, use:\n",
    "# > pip install jupyter --user\n",
    "# > ~/.local/bin/jupyter-notebook --port=8889 --NotebookApp.port_retries=0 --no-browser --NotebookApp.token='atlas'&\n",
    "\n",
    "\n",
    "# import uproot\n",
    "import numpy as np\n",
    "import ROOT\n",
    "import itertools\n",
    "from array import array\n",
    "ROOT.gROOT.SetStyle('ATLAS')\n",
    "import time\n",
    "import os\n",
    "from IPython.display import Image, display\n",
    "\n",
    "def draw_note(x, y, text='Internal', size=30, font=63):\n",
    "    l = ROOT.TLatex()\n",
    "    l.SetNDC()\n",
    "    l.SetTextColor(1)\n",
    "    l.SetTextFont(font)\n",
    "    l.SetTextSize(size);\n",
    "    l.DrawLatex(x, y, text)\n",
    "\n",
    "def atlas_label(x, y, text=None, color=1):\n",
    "    draw_note(x, y, r\"#bf{#it{ATLAS}} \" + text)\n",
    "\n",
    "FONT_SIZE = 30"
   ]
  },
  {
   "cell_type": "code",
   "execution_count": 2,
   "metadata": {},
   "outputs": [
    {
     "name": "stdout",
     "output_type": "stream",
     "text": [
      "xAOD::Init                INFO    Environment initialised for data access\n"
     ]
    }
   ],
   "source": [
    "if(not ROOT.xAOD.Init().isSuccess()): print(\"Failed xAOD.Init()\")"
   ]
  },
  {
   "cell_type": "code",
   "execution_count": 3,
   "metadata": {},
   "outputs": [
    {
     "data": {
      "text/plain": [
       "9900"
      ]
     },
     "execution_count": 3,
     "metadata": {},
     "output_type": "execute_result"
    },
    {
     "name": "stdout",
     "output_type": "stream",
     "text": [
      "xAOD::TEvent::readFrom    INFO    Was expecting a metadata tree with size 1, instead of 100.\n",
      "xAOD::TEvent::readFrom    INFO    File most probably produced by hadd...\n",
      "xAOD::TEvent::proxy_exact WARNING Can't find BranchInfo for 946497385.\n",
      "xAOD::TEvent::addToStore  WARNING Function should only be called through an invalid ElementLink\n",
      "xAOD::TEvent::proxy_exact WARNING Can't find BranchInfo for 466416009.\n",
      "xAOD::TEvent::proxy_exact WARNING Can't find BranchInfo for 573025474.\n",
      "xAOD::TEvent::proxy_exact WARNING Can't find BranchInfo for 886873592.\n",
      "xAOD::TEvent::proxy_exact WARNING Can't find BranchInfo for 161329519.\n",
      "xAOD::TEvent::proxy_exact WARNING Can't find BranchInfo for 725407868.\n",
      "xAOD::TEvent::proxy_exact WARNING Can't find BranchInfo for 965623431.\n",
      "xAOD::TEvent::proxy_exact WARNING Can't find BranchInfo for 484114478.\n",
      "xAOD::TEvent::proxy_exact WARNING Can't find BranchInfo for 106374743.\n",
      "xAOD::TEvent::proxy_exact WARNING Can't find BranchInfo for 612539593.\n",
      "xAOD::TEvent::proxy_exact WARNING Can't find BranchInfo for 294088995.\n",
      "xAOD::TEvent::proxy_exact WARNING Can't find BranchInfo for 227047152.\n",
      "xAOD::MakeTransientTree   INFO    Created transient tree \"CollectionTree\" in ROOT's common memory\n"
     ]
    }
   ],
   "source": [
    "f = ROOT.TFile(f'/data/newhouse/LRT/batch/testing/testing_22_v8_LRT_off/TTBAR/AOD.root')\n",
    "t = ROOT.xAOD.MakeTransientTree( f, \"CollectionTree\")\n",
    "t.GetEntries()"
   ]
  },
  {
   "cell_type": "code",
   "execution_count": 4,
   "metadata": {},
   "outputs": [
    {
     "data": {
      "text/plain": [
       "165"
      ]
     },
     "execution_count": 4,
     "metadata": {},
     "output_type": "execute_result"
    },
    {
     "name": "stdout",
     "output_type": "stream",
     "text": [
      "TCanvas::MakeDefCanvas    INFO     created default TCanvas with name c1\n"
     ]
    }
   ],
   "source": [
    "# Get histogram by Draw method\n",
    "h_InDetTrackParticles_d0 = ROOT.TH1F(\"h_InDetTrackParticles_d0\",\"h_InDetTrackParticles_d0\",100,-350,350); \n",
    "t.Draw(\"InDetTrackParticles.d0()>>h_InDetTrackParticles_d0\",\"\", \"\")\n",
    "# h_InDetTrackParticles_d0 = ROOT.gDirectory.Get(\"h_InDetTrackParticles_d0\");\n",
    "\n",
    "# Get histogram by Draw method\n",
    "h_InDetForwardTrackParticles_d0 = ROOT.TH1F(\"h_InDetForwardTrackParticles_d0\",\"h_InDetForwardTrackParticles_d0\",100,-350,350); \n",
    "t.Draw(\"InDetForwardTrackParticles.d0()>>h_InDetForwardTrackParticles_d0\",\"\", \"\")\n",
    "# h_InDetForwardTrackParticles_d0 = ROOT.gDirectory.Get(\"h_InDetForwardTrackParticles_d0\");\n"
   ]
  },
  {
   "cell_type": "code",
   "execution_count": 1,
   "metadata": {},
   "outputs": [
    {
     "ename": "NameError",
     "evalue": "name 'ROOT' is not defined",
     "output_type": "error",
     "traceback": [
      "\u001b[0;31m---------------------------------------------------------------------------\u001b[0m",
      "\u001b[0;31mNameError\u001b[0m                                 Traceback (most recent call last)",
      "\u001b[0;32m<ipython-input-1-5cf1123c4412>\u001b[0m in \u001b[0;36m<module>\u001b[0;34m\u001b[0m\n\u001b[0;32m----> 1\u001b[0;31m \u001b[0mc\u001b[0m \u001b[0;34m=\u001b[0m \u001b[0mROOT\u001b[0m\u001b[0;34m.\u001b[0m\u001b[0mTCanvas\u001b[0m\u001b[0;34m(\u001b[0m\u001b[0;34m\"c\"\u001b[0m\u001b[0;34m,\u001b[0m \u001b[0;34m\"\"\u001b[0m\u001b[0;34m,\u001b[0m \u001b[0mint\u001b[0m\u001b[0;34m(\u001b[0m\u001b[0;36m1200\u001b[0m\u001b[0;34m)\u001b[0m\u001b[0;34m,\u001b[0m \u001b[0mint\u001b[0m\u001b[0;34m(\u001b[0m\u001b[0;36m800\u001b[0m\u001b[0;34m)\u001b[0m\u001b[0;34m)\u001b[0m\u001b[0;34m\u001b[0m\u001b[0;34m\u001b[0m\u001b[0m\n\u001b[0m\u001b[1;32m      2\u001b[0m \u001b[0mc\u001b[0m\u001b[0;34m.\u001b[0m\u001b[0mSetLogy\u001b[0m\u001b[0;34m(\u001b[0m\u001b[0;34m)\u001b[0m\u001b[0;34m\u001b[0m\u001b[0;34m\u001b[0m\u001b[0m\n\u001b[1;32m      3\u001b[0m \u001b[0;34m\u001b[0m\u001b[0m\n\u001b[1;32m      4\u001b[0m \u001b[0mhistograms\u001b[0m \u001b[0;34m=\u001b[0m \u001b[0;34m[\u001b[0m\u001b[0mh_InDetTrackParticles_d0\u001b[0m\u001b[0;34m,\u001b[0m \u001b[0mh_InDetForwardTrackParticles_d0\u001b[0m\u001b[0;34m]\u001b[0m\u001b[0;34m\u001b[0m\u001b[0;34m\u001b[0m\u001b[0m\n\u001b[1;32m      5\u001b[0m \u001b[0;34m\u001b[0m\u001b[0m\n",
      "\u001b[0;31mNameError\u001b[0m: name 'ROOT' is not defined"
     ]
    }
   ],
   "source": [
    "c = ROOT.TCanvas(\"c\", \"\", int(1200), int(800))\n",
    "c.SetLogy()\n",
    "\n",
    "histograms = [h_InDetTrackParticles_d0, h_InDetForwardTrackParticles_d0]\n",
    "\n",
    "for h in histograms:\n",
    "    h.SetLineWidth(3)\n",
    "    h.Sumw2()\n",
    "    \n",
    "h_InDetTrackParticles_d0.GetYaxis().SetRangeUser(1,10e6);\n",
    "h_InDetTrackParticles_d0.SetLineColor(8)\n",
    "h_InDetTrackParticles_d0.SetMarkerColor(8)\n",
    "h_InDetTrackParticles_d0.Draw(\"same hist e1\")\n",
    "\n",
    "h_InDetForwardTrackParticles_d0.SetLineColor(ROOT.kRed)\n",
    "h_InDetForwardTrackParticles_d0.SetMarkerColor(ROOT.kRed)\n",
    "h_InDetForwardTrackParticles_d0.Draw(\"same hist e1\")\n",
    "\n",
    "\n",
    "x, y = (0.6, 0.8)\n",
    "leg = ROOT.TLegend(x, 0.8, 0.91, 0.91)\n",
    "leg.SetTextSize(0.025)\n",
    "leg.SetBorderSize(0)\n",
    "leg.SetFillColor(ROOT.kWhite)\n",
    "leg.SetShadowColor(ROOT.kWhite)\n",
    "for h, label in zip(histograms, [\"InDetTrackParticles\", \"InDetForwardTrackParticles\"]) :\n",
    "    leg.AddEntry(h, label +\": \"+ str(int(h.GetEntries())), \"lp\")\n",
    "leg.Draw()\n",
    "\n",
    "dy = .07\n",
    "draw_note(x, y-dy, f'LRT is NOT run')\n",
    "atlas_label(x,y-2*dy,'Internal')\n",
    "\n",
    "c.Draw()\n"
   ]
  },
  {
   "cell_type": "code",
   "execution_count": 6,
   "metadata": {},
   "outputs": [
    {
     "data": {
      "text/plain": [
       "9900"
      ]
     },
     "execution_count": 6,
     "metadata": {},
     "output_type": "execute_result"
    },
    {
     "name": "stdout",
     "output_type": "stream",
     "text": [
      "xAOD::TEvent::readFrom    INFO    Was expecting a metadata tree with size 1, instead of 100.\n",
      "xAOD::TEvent::readFrom    INFO    File most probably produced by hadd...\n",
      "xAOD::MakeTransientTree   INFO    Created transient tree \"CollectionTree\" in ROOT's common memory\n"
     ]
    }
   ],
   "source": [
    "f = ROOT.TFile(f'/data/newhouse/LRT/batch/testing/testing_22_v8_LRT_on/TTBAR/AOD.root')\n",
    "t = ROOT.xAOD.MakeTransientTree( f, \"CollectionTree\")\n",
    "t.GetEntries()"
   ]
  },
  {
   "cell_type": "code",
   "execution_count": 7,
   "metadata": {},
   "outputs": [
    {
     "data": {
      "text/plain": [
       "158"
      ]
     },
     "execution_count": 7,
     "metadata": {},
     "output_type": "execute_result"
    }
   ],
   "source": [
    "# Get histogram by Draw method\n",
    "h_InDetTrackParticles_d0 = ROOT.TH1F(\"h_InDetTrackParticles_d0\",\"h_InDetTrackParticles_d0\",100,-350,350); \n",
    "t.Draw(\"InDetTrackParticles.d0()>>h_InDetTrackParticles_d0\",\"\", \"\")\n",
    "# h_InDetTrackParticles_d0 = ROOT.gDirectory.Get(\"h_InDetTrackParticles_d0\");\n",
    "\n",
    "# Get histogram by Draw method\n",
    "h_InDetForwardTrackParticles_d0 = ROOT.TH1F(\"h_InDetForwardTrackParticles_d0\",\"h_InDetForwardTrackParticles_d0\",100,-350,350); \n",
    "t.Draw(\"InDetForwardTrackParticles.d0()>>h_InDetForwardTrackParticles_d0\",\"\", \"\")\n",
    "# h_InDetForwardTrackParticles_d0 = ROOT.gDirectory.Get(\"h_InDetForwardTrackParticles_d0\");\n"
   ]
  },
  {
   "cell_type": "code",
   "execution_count": 8,
   "metadata": {},
   "outputs": [
    {
     "name": "stdout",
     "output_type": "stream",
     "text": [
      "TCanvas::Constructor      WARNING Deleting canvas with same name: c\n"
     ]
    },
    {
     "data": {
      "image/png": "[encoded data removed]",
      "text/plain": [
       "<IPython.core.display.Image object>"
      ]
     },
     "metadata": {},
     "output_type": "display_data"
    }
   ],
   "source": [
    "c = ROOT.TCanvas(\"c\", \"\", int(1200), int(800))\n",
    "c.SetLogy()\n",
    "\n",
    "histograms = [h_InDetTrackParticles_d0, h_InDetForwardTrackParticles_d0]\n",
    "\n",
    "for h in histograms:\n",
    "    h.SetLineWidth(3)\n",
    "    h.SetMarkerSize(0)\n",
    "    h.Sumw2()\n",
    "    \n",
    "h_InDetTrackParticles_d0.GetYaxis().SetRangeUser(1,10e6);\n",
    "h_InDetTrackParticles_d0.SetLineColor(8)\n",
    "h_InDetTrackParticles_d0.SetMarkerColor(8)\n",
    "h_InDetTrackParticles_d0.Draw(\"same hist e1\")\n",
    "\n",
    "h_InDetForwardTrackParticles_d0.SetLineColor(ROOT.kRed)\n",
    "h_InDetForwardTrackParticles_d0.SetMarkerColor(ROOT.kRed)\n",
    "h_InDetForwardTrackParticles_d0.Draw(\"same hist e1\")\n",
    "\n",
    "\n",
    "x, y = (0.6, 0.8)\n",
    "leg = ROOT.TLegend(x, 0.8, 0.91, 0.91)\n",
    "leg.SetTextSize(0.025)\n",
    "leg.SetBorderSize(0)\n",
    "leg.SetFillColor(ROOT.kWhite)\n",
    "leg.SetShadowColor(ROOT.kWhite)\n",
    "for h, label in zip(histograms, [\"InDetTrackParticles\", \"InDetForwardTrackParticles\"]) :\n",
    "    leg.AddEntry(h, label +\": \"+ str(int(h.GetEntries())), \"lp\")\n",
    "leg.Draw()\n",
    "\n",
    "dy = .07\n",
    "draw_note(x, y-dy, f'LRT is run')\n",
    "atlas_label(x,y-2*dy,'Internal')\n",
    "\n",
    "c.Draw()\n"
   ]
  },
  {
   "cell_type": "code",
   "execution_count": 9,
   "metadata": {},
   "outputs": [
    {
     "data": {
      "text/plain": [
       "9900"
      ]
     },
     "execution_count": 9,
     "metadata": {},
     "output_type": "execute_result"
    },
    {
     "name": "stdout",
     "output_type": "stream",
     "text": [
      "xAOD::TEvent::readFrom    INFO    Was expecting a metadata tree with size 1, instead of 100.\n",
      "xAOD::TEvent::readFrom    INFO    File most probably produced by hadd...\n",
      "xAOD::MakeTransientTree   INFO    Created transient tree \"CollectionTree\" in ROOT's common memory\n"
     ]
    }
   ],
   "source": [
    "f = ROOT.TFile(f'/data/newhouse/LRT/batch/testing/testing_22_v8_LRT_separate/TTBAR/AOD.root')\n",
    "t = ROOT.xAOD.MakeTransientTree( f, \"CollectionTree\")\n",
    "t.GetEntries()"
   ]
  },
  {
   "cell_type": "code",
   "execution_count": 10,
   "metadata": {},
   "outputs": [
    {
     "data": {
      "text/plain": [
       "812081"
      ]
     },
     "execution_count": 10,
     "metadata": {},
     "output_type": "execute_result"
    }
   ],
   "source": [
    "# Get histogram by Draw method\n",
    "h_InDetTrackParticles_d0 = ROOT.TH1F(\"h_InDetTrackParticles_d0\",\"h_InDetTrackParticles_d0\",100,-350,350); \n",
    "t.Draw(\"InDetTrackParticles.d0()>>h_InDetTrackParticles_d0\",\"\", \"\")\n",
    "# h_InDetTrackParticles_d0 = ROOT.gDirectory.Get(\"h_InDetTrackParticles_d0\");\n",
    "\n",
    "# Get histogram by Draw method\n",
    "h_InDetForwardTrackParticles_d0 = ROOT.TH1F(\"h_InDetForwardTrackParticles_d0\",\"h_InDetForwardTrackParticles_d0\",100,-350,350); \n",
    "t.Draw(\"InDetForwardTrackParticles.d0()>>h_InDetForwardTrackParticles_d0\",\"\", \"\")\n",
    "# h_InDetForwardTrackParticles_d0 = ROOT.gDirectory.Get(\"h_InDetForwardTrackParticles_d0\");\n",
    "\n",
    "# Get histogram by Draw method\n",
    "h_InDetLargeD0TrackParticles_d0 = ROOT.TH1F(\"h_InDetLargeD0TrackParticles_d0\",\"h_InDetLargeD0TrackParticles_d0\",100,-300,300); \n",
    "t.Draw(\"InDetLargeD0TrackParticles.d0()>>h_InDetLargeD0TrackParticles_d0\",\"\", \"\")\n",
    "# h_InDetForwardTrackParticles_d0 = ROOT.gDirectory.Get(\"h_InDetForwardTrackParticles_d0\");"
   ]
  },
  {
   "cell_type": "code",
   "execution_count": 11,
   "metadata": {},
   "outputs": [
    {
     "data": {
      "text/plain": [
       "812081"
      ]
     },
     "execution_count": 11,
     "metadata": {},
     "output_type": "execute_result"
    },
    {
     "name": "stdout",
     "output_type": "stream",
     "text": [
      "TFile::Append             WARNING Replacing existing TH1: h_InDetLargeD0TrackParticles_d0 (Potential memory leak).\n"
     ]
    }
   ],
   "source": [
    "# Get histogram by Draw method\n",
    "h_InDetLargeD0TrackParticles_d0 = ROOT.TH1F(\"h_InDetLargeD0TrackParticles_d0\",\"h_InDetLargeD0TrackParticles_d0\",100,-300,300); \n",
    "t.Draw(\"InDetLargeD0TrackParticles.d0()>>h_InDetLargeD0TrackParticles_d0\",\"\", \"\")\n",
    "# h_InDetForwardTrackParticles_d0 = ROOT.gDirectory.Get(\"h_InDetForwardTrackParticles_d0\");"
   ]
  },
  {
   "cell_type": "code",
   "execution_count": 12,
   "metadata": {},
   "outputs": [
    {
     "name": "stdout",
     "output_type": "stream",
     "text": [
      "TCanvas::Constructor      WARNING Deleting canvas with same name: c\n"
     ]
    },
    {
     "data": {
      "image/png": "[encoded data removed]",
      "text/plain": [
       "<IPython.core.display.Image object>"
      ]
     },
     "metadata": {},
     "output_type": "display_data"
    }
   ],
   "source": [
    "c = ROOT.TCanvas(\"c\", \"\", int(1200), int(800))\n",
    "c.SetLogy()\n",
    "\n",
    "histograms = [h_InDetTrackParticles_d0, h_InDetForwardTrackParticles_d0, h_InDetLargeD0TrackParticles_d0]\n",
    "\n",
    "for h in histograms:\n",
    "    h.SetLineWidth(3)\n",
    "    h.SetMarkerSize(0)\n",
    "    h.Sumw2()\n",
    "    \n",
    "h_InDetTrackParticles_d0.GetYaxis().SetRangeUser(1,10e6);\n",
    "h_InDetTrackParticles_d0.SetLineColor(8)\n",
    "h_InDetTrackParticles_d0.SetMarkerColor(8)\n",
    "h_InDetTrackParticles_d0.Draw(\"same hist e1\")\n",
    "\n",
    "h_InDetForwardTrackParticles_d0.SetLineColor(ROOT.kRed)\n",
    "h_InDetForwardTrackParticles_d0.SetMarkerColor(ROOT.kRed)\n",
    "h_InDetForwardTrackParticles_d0.Draw(\"same hist e1\")\n",
    "\n",
    "h_InDetLargeD0TrackParticles_d0.SetLineColor(ROOT.kBlue)\n",
    "h_InDetLargeD0TrackParticles_d0.SetMarkerColor(ROOT.kBlue)\n",
    "h_InDetLargeD0TrackParticles_d0.Draw(\"same hist e1\")\n",
    "\n",
    "x, y = (0.6, 0.8)\n",
    "leg = ROOT.TLegend(x, 0.8, 0.91, 0.91)\n",
    "leg.SetTextSize(0.025)\n",
    "leg.SetBorderSize(0)\n",
    "leg.SetFillColor(ROOT.kWhite)\n",
    "leg.SetShadowColor(ROOT.kWhite)\n",
    "for h, label in zip(histograms, [\"InDetTrackParticles\", \"InDetForwardTrackParticles\", \"InDetLargeD0TrackParticles\"]) :\n",
    "    leg.AddEntry(h, label +\": \"+ str(int(h.GetEntries())), \"lp\")\n",
    "leg.Draw()\n",
    "\n",
    "dy = .07\n",
    "draw_note(x, y-dy, f'LRT is run and separated')\n",
    "atlas_label(x,y-2*dy,'Internal')\n",
    "\n",
    "c.Draw()\n"
   ]
  },
  {
   "cell_type": "code",
   "execution_count": 13,
   "metadata": {},
   "outputs": [
    {
     "name": "stdout",
     "output_type": "stream",
     "text": [
      "LRT separate total: 5942418\n",
      "LRT off total: 5130340\n",
      "LRT on total: 5942379\n",
      "\n",
      "5942256\n",
      "5942221\n",
      "difference: 35\n",
      "these should be the same\n",
      "\n",
      "162\n",
      "158\n",
      "difference: 4\n",
      "these should be the same\n"
     ]
    }
   ],
   "source": [
    "InDetTrackParticles_LRT_separate = 5130175\n",
    "InDetForwardTrackParticles_LRT_separate = 162\n",
    "InDetLargeD0TrackParticles_LRT_separate = 812081\n",
    "print('LRT separate total:', InDetTrackParticles_LRT_separate + InDetForwardTrackParticles_LRT_separate + InDetLargeD0TrackParticles_LRT_separate)\n",
    "\n",
    "InDetTrackParticles_LRT_off = 5130175\n",
    "InDetForwardTrackParticles_LRT_off = 165\n",
    "print('LRT off total:', InDetTrackParticles_LRT_off + InDetForwardTrackParticles_LRT_off)\n",
    "\n",
    "InDetTrackParticles_LRT_on = 5942221\n",
    "InDetForwardTrackParticles_LRT_on = 158\n",
    "print('LRT on total:', InDetTrackParticles_LRT_on + InDetForwardTrackParticles_LRT_on)\n",
    "\n",
    "print()\n",
    "print(InDetTrackParticles_LRT_separate + InDetLargeD0TrackParticles_LRT_separate)\n",
    "print(InDetTrackParticles_LRT_on)\n",
    "print(\"difference:\", (InDetTrackParticles_LRT_separate + InDetLargeD0TrackParticles_LRT_separate) -  InDetTrackParticles_LRT_on)\n",
    "print('these should be the same')\n",
    "print()\n",
    "print(InDetForwardTrackParticles_LRT_separate)\n",
    "print(InDetForwardTrackParticles_LRT_on)\n",
    "print(\"difference:\", InDetForwardTrackParticles_LRT_separate - InDetForwardTrackParticles_LRT_on)\n",
    "print('these should be the same')\n"
   ]
  }
 ],
 "metadata": {
  "kernelspec": {
   "display_name": "Python 3",
   "language": "python",
   "name": "python3"
  },
  "language_info": {
   "codemirror_mode": {
    "name": "ipython",
    "version": 3
   },
   "file_extension": ".py",
   "mimetype": "text/x-python",
   "name": "python",
   "nbconvert_exporter": "python",
   "pygments_lexer": "ipython3",
   "version": "3.7.6"
  }
 },
 "nbformat": 4,
 "nbformat_minor": 4
}
