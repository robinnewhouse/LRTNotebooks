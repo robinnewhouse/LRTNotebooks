{
 "cells": [
  {
   "cell_type": "code",
   "execution_count": 1,
   "metadata": {},
   "outputs": [],
   "source": [
    "import uproot\n",
    "\n",
    "LRTAnalysis = uproot.open(\"/data/newhouse/LRT/batch/testing/testing_21p0_v7/TTBAR/LRTAnalysis_output.root\")"
   ]
  },
  {
   "cell_type": "code",
   "execution_count": 2,
   "metadata": {},
   "outputs": [],
   "source": [
    "\n",
    "event_branches = ['nTracks',\n",
    "                  'nTruth',\n",
    "                  'nTracksAccept',\n",
    "                  'nTruthAccept',\n",
    "                  'mu',\n",
    "                  'event',\n",
    "                  'mcid',]\n",
    "event_tree = LRTAnalysis['Trees/eventTree'].pandas.df(event_branches)\n",
    "\n",
    "truth_branches=[\n",
    "'truth_link',\n",
    "'truth_type',\n",
    "'truth_nSiHits',\n",
    "'truth_nPixHits',\n",
    "'truth_status',\n",
    "'truth_fidPass',\n",
    "'truth_r',\n",
    "'truth_phi',\n",
    "'truth_dphi',\n",
    "'truth_z',\n",
    "'truth_pt',\n",
    "'truth_qOp',\n",
    "'truth_d0',\n",
    "'truth_z0',\n",
    "'truth_eta',\n",
    "'truth_barcode',\n",
    "'truth_charge',\n",
    "'truth_pdgId',\n",
    "'truth_parentIdLLP',\n",
    "'truth_parentId',\n",
    "'truth_VSIorigin',\n",
    "]\n",
    "truth_tree = LRTAnalysis['Trees/eventTree'].pandas.df(truth_branches)\n",
    "\n",
    "track_branches = [\n",
    "'isFake',\n",
    "'isSignal',\n",
    "'truth_origin',\n",
    "'index',\n",
    "'truth_matchProb',\n",
    "'pt',\n",
    "'qOp',\n",
    "'eta',\n",
    "'d0',\n",
    "'z0',\n",
    "'link',\n",
    "'isLRTrack',\n",
    "'radiusOdFirstHit',\n",
    "'nSiHits',\n",
    "'nPixHits',\n",
    "'nTRTHits',\n",
    "'nPixHoles',\n",
    "'nSiHoles',\n",
    "'nPixShared',\n",
    "'nSiShared',\n",
    "'nContribPixLay',\n",
    "'nPixOutliers',\n",
    "'nSiOutliers',\n",
    "'nTRTOutliers',\n",
    "'chiSquared',\n",
    "'nDOF',\n",
    "'passLoose',\n",
    "'passTight',\n",
    "]\n",
    "track_tree = LRTAnalysis['Trees/eventTree'].pandas.df(track_branches)\n"
   ]
  },
  {
   "cell_type": "code",
   "execution_count": 3,
   "metadata": {},
   "outputs": [],
   "source": [
    "event_tree = LRTAnalysis['Trees/eventTree'].pandas.df(event_branches+['isLRTrack'], flatten=False)\n",
    "event_tree['nTracksLRT'] = event_tree.isLRTrack.apply(sum)\n",
    "event_tree['nTracksStandard'] = event_tree.nTracksAccept - event_tree.nTracksLRT"
   ]
  },
  {
   "cell_type": "code",
   "execution_count": null,
   "metadata": {},
   "outputs": [],
   "source": [
    "import matplotlib.pyplot as plt\n",
    "import seaborn as sns; sns.set(color_codes=True)\n",
    "def plot2d(df, var_a, var_b, nentries=1000, bins=[10,10], title=''):\n",
    "    fig = plt.figure(figsize=[15,10])\n",
    "    ax = fig.gca()\n",
    "    h, xedges, yedges, image = ax.hist2d(x=df[0:nentries][var_a], y=df[0:nentries][var_b], bins=bins)\n",
    "    plt.colorbar(image)\n",
    "    mu_bins = np.linspace(0,70,35)\n",
    "    mean_tracks = []\n",
    "    for i in mu_bins:\n",
    "        mean_tracks.append(event_tree.query(f'{var_a} > {i} & mu < {i+1}')[var_b].mean())\n",
    "    ax.step(mu_bins, mean_tracks, linewidth=5, color='white')\n",
    "    ax.set_xlabel(var_a, fontsize=30)\n",
    "    ax.set_ylabel(var_b, fontsize=30)\n",
    "    ax.set_title(title, fontsize=30)\n",
    "    ax.legend(['mean ntracks'], fontsize=20, loc='upper left')\n",
    "    ax.tick_params(axis='both', which='major', labelsize=20)\n",
    "    ax.set_title('mc16_13TeV.410471.PhPy8EG_A14_ttbar_hdamp258p75_allhad', fontsize=20)\n",
    "    return h\n",
    "h = plot2d(event_tree, 'mu', 'nTracksLRT', bins=[np.linspace(0,70,35), np.linspace(0,3000,40)])\n",
    "h = plot2d(event_tree, 'mu', 'nTracksStandard', bins=[np.linspace(0,70,35), np.linspace(0,3000,40)])\n",
    "\n"
   ]
  },
  {
   "cell_type": "code",
   "execution_count": null,
   "metadata": {},
   "outputs": [],
   "source": []
  }
 ],
 "metadata": {
  "kernelspec": {
   "display_name": "Python 3",
   "language": "python",
   "name": "python3"
  },
  "language_info": {
   "codemirror_mode": {
    "name": "ipython",
    "version": 3
   },
   "file_extension": ".py",
   "mimetype": "text/x-python",
   "name": "python",
   "nbconvert_exporter": "python",
   "pygments_lexer": "ipython3",
   "version": "3.7.6"
  }
 },
 "nbformat": 4,
 "nbformat_minor": 4
}
