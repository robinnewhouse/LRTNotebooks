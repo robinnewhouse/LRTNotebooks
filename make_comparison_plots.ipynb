{
 "cells": [
  {
   "cell_type": "code",
   "execution_count": 2,
   "metadata": {},
   "outputs": [],
   "source": [
    "import uproot\n",
    "import numpy as np\n",
    "import ROOT\n",
    "import itertools\n",
    "from array import array\n",
    "ROOT.gROOT.SetStyle('ATLAS')\n",
    "import time\n",
    "import os\n",
    "\n",
    "def draw_note(x, y, text, size=12, font=63):\n",
    "    l = ROOT.TLatex()\n",
    "    l.SetNDC()\n",
    "    l.SetTextColor(1)\n",
    "    l.DrawLatex(x, y, text)\n",
    "\n",
    "def atlas_label(x, y, text=None, color=1):\n",
    "    draw_note(x, y, r\"#bf{#it{ATLAS}} \" + text)\n",
    "\n",
    "FONT_SIZE = 30"
   ]
  },
  {
   "cell_type": "code",
   "execution_count": 120,
   "metadata": {},
   "outputs": [
    {
     "name": "stderr",
     "output_type": "stream",
     "text": [
      "Warning in <TCanvas::Constructor>: Deleting canvas with same name: c\n",
      "Warning in <TH1D::Sumw2>: Sum of squares of weights structure already created\n",
      "Info in <TCanvas::Print>: png file /home/newhouse/public/Analysis/LRT/lrtanalysis/run/maximalNN/fake_comparison_track_eta.png has been created\n",
      "Warning in <TCanvas::Constructor>: Deleting canvas with same name: c\n",
      "Warning in <TH1D::Sumw2>: Sum of squares of weights structure already created\n",
      "Info in <TCanvas::Print>: png file /home/newhouse/public/Analysis/LRT/lrtanalysis/run/maximalNN/fake_comparison_track_absz0.png has been created\n",
      "Warning in <TCanvas::Constructor>: Deleting canvas with same name: c\n",
      "Warning in <TH1D::Sumw2>: Sum of squares of weights structure already created\n",
      "Info in <TCanvas::Print>: png file /home/newhouse/public/Analysis/LRT/lrtanalysis/run/maximalNN/fake_comparison_track_absd0.png has been created\n",
      "Warning in <TCanvas::Constructor>: Deleting canvas with same name: c\n",
      "Warning in <TH1D::Sumw2>: Sum of squares of weights structure already created\n",
      "Info in <TCanvas::Print>: png file /home/newhouse/public/Analysis/LRT/lrtanalysis/run/maximalNN/fake_comparison_track_r.png has been created\n",
      "Warning in <TCanvas::Constructor>: Deleting canvas with same name: c\n",
      "Warning in <TH1D::Sumw2>: Sum of squares of weights structure already created\n",
      "Info in <TCanvas::Print>: png file /home/newhouse/public/Analysis/LRT/lrtanalysis/run/maximalNN/fake_comparison_track_pt.png has been created\n"
     ]
    },
    {
     "data": {
      "image/png": "[encoded data removed]",
      "text/plain": [
       "<IPython.core.display.Image object>"
      ]
     },
     "metadata": {},
     "output_type": "display_data"
    }
   ],
   "source": [
    "variables = {\n",
    "    'track_eta' : (-3,3),\n",
    "    'track_absz0' : (0,10000),\n",
    "    'track_absd0' : (0,300),\n",
    "    'track_r' : (0,1000),\n",
    "    'track_pt' : (0,1000000),\n",
    "}\n",
    "output_dir = \"/home/newhouse/public/Analysis/LRT/lrtanalysis/run/VH4b/\"\n",
    "os.makedirs(output_dir, exist_ok=True)\n",
    "\n",
    "for var, bounds in variables.items():\n",
    "    # bins = [2, 2.5, 3, 4, 6, 8, 10]\n",
    "    hist_markers = itertools.cycle([22,21,33,29,30,31,32,34,35])\n",
    "    hist_colors = itertools.cycle([ROOT.kBlack, ROOT.kRed, ROOT.kAzure+6, ROOT.kViolet+8, ROOT.kGreen+1, ROOT.kOrange -3])\n",
    "    tree_name = 'Efficiency'\n",
    "    tree1 = 'v3'\n",
    "    tree2 = 'v3_mod'\n",
    "    # Open file\n",
    "    tfiles = {tree1: ROOT.TFile('/home/newhouse/public/Analysis/LRT/lrtanalysis/run/Fake_filesV3.root'),\n",
    "              tree2: ROOT.TFile('/home/newhouse/public/Analysis/LRT/lrtanalysis/run/Fake_filesV3maximalNN.root')}\n",
    "\n",
    "    # Load tree from file\n",
    "    ttree = {tree1: tfiles[tree1].Get(tree_name),\n",
    "             tree2:  tfiles[tree2].Get(tree_name)}\n",
    "    # ttree['v3'].ls()\n",
    "\n",
    "    hist =  {tree1 : ttree[tree1].Get(var),\n",
    "            tree2 : ttree[tree2].Get(var),}\n",
    "\n",
    "    # Upper plot will be in pad1\n",
    "    c = None\n",
    "    scale = 1.0\n",
    "    c = ROOT.TCanvas(\"c\", \"\", int(1200*scale), int(800*scale))\n",
    "    pad1 = ROOT.TPad(\"pad1\", \"pad1\", 0, 0.3, 1, 1.0)\n",
    "    pad1.SetBottomMargin(0.02);  # Upper and lower plot are not joined\n",
    "    pad1.SetGridx();          # Vertical grid\n",
    "    pad1.Draw();              # Draw the upper pad: pad1\n",
    "    pad1.cd();                # pad1 becomes the current pad\n",
    "    \n",
    "    # Set draw properties\n",
    "    for key, h in hist.items():\n",
    "        # Histogram properties\n",
    "        h.SetMarkerSize(1.5*scale)\n",
    "        h.SetLineWidth(int(3*scale))\n",
    "        hcolor = next(hist_colors)\n",
    "        h.SetLineColor(hcolor)\n",
    "        h.SetMarkerColor(hcolor)\n",
    "        h.SetMarkerStyle(next(hist_markers))\n",
    "        # X axis\n",
    "        h.GetXaxis().SetRangeUser(bounds[0], bounds[1]);\n",
    "        h.GetXaxis().SetLabelSize(0);\n",
    "        h.GetXaxis().SetTitle(var)\n",
    "        h.GetYaxis().SetTitle(\"Fake Rate\")\n",
    "        # Y axis\n",
    "        h.GetYaxis().SetMaxDigits(6);\n",
    "        h.GetYaxis().SetTitleOffset(1.0)\n",
    "        h.GetYaxis().SetRangeUser(0,1);\n",
    "        h.GetYaxis().SetLabelFont(43);  # Absolute font size in pixel (precision 3)\n",
    "        h.GetYaxis().SetLabelSize(FONT_SIZE);   \n",
    "        h.GetYaxis().SetTitleFont(43)  # Absolute font size in pixel (precision 3)\n",
    "        h.GetYaxis().SetTitleSize(FONT_SIZE*1.2)\n",
    "        \n",
    "    hist[tree1].Draw()\n",
    "    hist[tree2].Draw(\"SAME\")\n",
    "    \n",
    "    # format legend\n",
    "    x = 0.6\n",
    "    y = 0.4\n",
    "    leg = ROOT.TLegend(x, 0.8, 0.91, 0.91)\n",
    "    leg.SetTextSize(0.035)\n",
    "    leg.SetBorderSize(0)\n",
    "    leg.SetFillColor(ROOT.kWhite)\n",
    "    leg.SetShadowColor(ROOT.kWhite)\n",
    "    leg.AddEntry(hist[tree1], \"V3\", \"lp\")\n",
    "    leg.AddEntry(hist[tree2], \"V3+Maximal NN cut\", \"lp\")\n",
    "    dy = .07\n",
    "    draw_note(x, y-dy, 'LRT Fake Rate')\n",
    "    atlas_label(x,y-2*dy, 'Internal')\n",
    "    leg.Draw()\n",
    "\n",
    "\n",
    "    # lower plot will be in pad 2\n",
    "    c.cd();          # Go back to the main canvas before defining pad2\n",
    "    pad2 = ROOT.TPad(\"pad2\", \"pad2\", 0, 0.05, 1, 0.3)\n",
    "    pad2.SetTopMargin(0)\n",
    "    pad2.SetBottomMargin(0.4)\n",
    "    pad2.SetGridx() # vertical grid\n",
    "    pad2.SetGridy() # horizontal grid\n",
    "    pad2.Draw()\n",
    "    pad2.cd() # pad2 becomes the current pad\n",
    "    \n",
    "    # Define the ratio plot\n",
    "    h3 = hist[tree2].Clone(\"h3\");\n",
    "    h3.SetLineColor(hcolor);\n",
    "    h3.SetMinimum(0.5);  # Define Y ..\n",
    "    h3.SetMaximum(1.5); # .. range\n",
    "    h3.Sumw2();\n",
    "#     h3.SetStats(0);      # No statistics on lower plot\n",
    "    h3.Divide(hist[tree1]);\n",
    "    h3.SetMarkerStyle(21);\n",
    "    max_bin_content = h3.GetBinContent(h3.GetMaximumBin())\n",
    "    min_bin_content = h3.GetBinContent(h3.GetMinimumBin())\n",
    "    h3.SetMaximum(1.4 if max_bin_content > 1.3 else max_bin_content + .1);\n",
    "    h3.SetMinimum(min_bin_content - .1);\n",
    "    hline = ROOT.TLine(h3.GetBinCenter(h3.FindFirstBinAbove()), 1, h3.GetBinCenter(h3.FindLastBinAbove()), 1)\n",
    "#     h3.Draw(\"ep \");       # Draw the ratio plot \n",
    "    pad2.SetFillStyle(0)\n",
    "    h3.Draw(\"ep\") # Draw the ratio plot \n",
    "    hline.Draw(\"Same\")\n",
    "    h3.Draw(\"ep Same\") # Draw the ratio plot \n",
    "\n",
    "    # Y axis ratio plot settings\n",
    "    h3.GetYaxis().SetTitle(\"ratio\")\n",
    "    h3.GetYaxis().SetNdivisions(505)\n",
    "    h3.GetYaxis().SetTitleSize(FONT_SIZE*1.2)\n",
    "    h3.GetYaxis().SetTitleFont(43)\n",
    "    h3.GetYaxis().SetTitleOffset(1.0)\n",
    "    h3.GetYaxis().SetLabelFont(43)  # Absolute font size in pixel (precision 3)\n",
    "    h3.GetYaxis().SetLabelSize(FONT_SIZE)\n",
    "    # X axis ratio plot settings\n",
    "    h3.GetXaxis().SetTitleSize(FONT_SIZE*1.2);\n",
    "    h3.GetXaxis().SetTitleFont(43);\n",
    "    h3.GetXaxis().SetTitleOffset(4.);\n",
    "    h3.GetXaxis().SetLabelFont(43);  # Absolute font size in pixel (precision 3)\n",
    "    h3.GetXaxis().SetLabelSize(FONT_SIZE);  \n",
    "    \n",
    "    \n",
    "    c.Draw()\n",
    "    c.SaveAs(f'{output_dir}fake_comparison_{var}.png')"
   ]
  },
  {
   "cell_type": "code",
   "execution_count": 110,
   "metadata": {},
   "outputs": [
    {
     "data": {
      "text/plain": [
       "177.5"
      ]
     },
     "execution_count": 110,
     "metadata": {},
     "output_type": "execute_result"
    }
   ],
   "source": [
    "h3.GetBinCenter(h3.GetMaximumBin())"
   ]
  },
  {
   "cell_type": "code",
   "execution_count": 103,
   "metadata": {},
   "outputs": [
    {
     "name": "stderr",
     "output_type": "stream",
     "text": [
      "Info in <TCanvas::Print>: png file /home/newhouse/public/Analysis/LRT/lrtanalysis/run/GeomCut/techeff_comparison_truth_eta.png has been created\n",
      "Info in <TCanvas::Print>: png file /home/newhouse/public/Analysis/LRT/lrtanalysis/run/GeomCut/techeff_comparison_truth_absz0.png has been created\n",
      "Info in <TCanvas::Print>: png file /home/newhouse/public/Analysis/LRT/lrtanalysis/run/GeomCut/techeff_comparison_truth_absd0.png has been created\n",
      "Info in <TCanvas::Print>: png file /home/newhouse/public/Analysis/LRT/lrtanalysis/run/GeomCut/techeff_comparison_truth_r.png has been created\n",
      "Info in <TCanvas::Print>: png file /home/newhouse/public/Analysis/LRT/lrtanalysis/run/GeomCut/techeff_comparison_truth_pt.png has been created\n"
     ]
    },
    {
     "data": {
      "image/png": "[encoded data removed]",
      "text/plain": [
       "<IPython.core.display.Image object>"
      ]
     },
     "metadata": {},
     "output_type": "display_data"
    }
   ],
   "source": [
    "variables = {\n",
    "    'truth_eta' : (-3,3),\n",
    "    'truth_absz0' : (0,10000),\n",
    "    'truth_absd0' : (0,300),\n",
    "    'truth_r' : (0,1000),\n",
    "    'truth_pt' : (-100, 10000),\n",
    "}\n",
    "output_dir = \"/home/newhouse/public/Analysis/LRT/lrtanalysis/run/GeomCut/\"\n",
    "os.makedirs(output_dir, exist_ok=True)\n",
    "\n",
    "for var, bounds in variables.items():\n",
    "    # bins = [2, 2.5, 3, 4, 6, 8, 10]\n",
    "    hist_markers = itertools.cycle([22,21,33,29,30,31,32,34,35])\n",
    "    hist_colors = itertools.cycle([ROOT.kBlack ,ROOT.kAzure+6, ROOT.kRed, ROOT.kViolet+8, ROOT.kGreen+1, ROOT.kOrange -3])\n",
    "    tree_name = 'Efficiency'\n",
    "    tree1 = 'v3'\n",
    "    tree2 = 'v3_mod'\n",
    "    # Open file\n",
    "    tfiles = {tree1: ROOT.TFile('/home/newhouse/public/Analysis/LRT/lrtanalysis/run/Efficiency_filesV3.root'),\n",
    "              tree2: ROOT.TFile('/home/newhouse/public/Analysis/LRT/lrtanalysis/run/Efficiency_filesV3GeomCut.root')}\n",
    "\n",
    "    # Load tree from file\n",
    "    c = None\n",
    "    scale = 0.75\n",
    "    c = ROOT.TCanvas(\"c\", \"\", int(1200*scale), int(800*scale))\n",
    "    ttree = {tree1: tfiles[tree1].Get(tree_name),\n",
    "             tree2:  tfiles[tree2].Get(tree_name)}\n",
    "    # ttree['v3'].ls()\n",
    "\n",
    "    hist =  {tree1 : ttree[tree1].Get(var),\n",
    "            tree2 : ttree[tree2].Get(var),}\n",
    "\n",
    "\n",
    "\n",
    "    # Set draw properties\n",
    "    for key, h in hist.items():\n",
    "        h.GetXaxis().SetTitle(var)\n",
    "        h.GetYaxis().SetTitle(\"Efficiency\")\n",
    "        h.SetMarkerSize(1.5*scale)\n",
    "        h.SetLineWidth(int(3*scale))\n",
    "        h.GetXaxis().SetRangeUser(bounds[0], bounds[1]);\n",
    "        h.GetYaxis().SetMaxDigits(6);\n",
    "        h.GetYaxis().SetRangeUser(0,1);\n",
    "        hcolor = next(hist_colors)\n",
    "        h.SetLineColor(hcolor)\n",
    "        h.SetMarkerColor(hcolor)\n",
    "        h.SetMarkerStyle(next(hist_markers))\n",
    "\n",
    "    \n",
    "    hist[tree1].Draw()\n",
    "    hist[tree2].Draw(\"SAME\")\n",
    "    \n",
    "    # format legend\n",
    "    x = 0.6\n",
    "    y = 0.8\n",
    "    leg = ROOT.TLegend(x, 0.8, 0.91, 0.91)\n",
    "    leg.SetTextSize(0.035)\n",
    "    leg.SetBorderSize(0)\n",
    "    leg.SetFillColor(ROOT.kWhite)\n",
    "    leg.SetShadowColor(ROOT.kWhite)\n",
    "    leg.AddEntry(hist[tree1], \"V3\", \"lp\")\n",
    "    leg.AddEntry(hist[tree2], \"V3+Geometric cut\", \"lp\")\n",
    "    dy = .07\n",
    "    draw_note(x, y-dy, 'LRT Technical Eff.')\n",
    "    atlas_label(x,y-2*dy, 'Internal')\n",
    "    \n",
    "\n",
    "    leg.Draw()\n",
    "    c.Draw()\n",
    "    c.SaveAs(f'{output_dir}techeff_comparison_{var}.png')\n"
   ]
  },
  {
   "cell_type": "code",
   "execution_count": 22,
   "metadata": {},
   "outputs": [],
   "source": [
    "tfiles = {'v7': ROOT.TFile('/home/newhouse/public/Analysis/LRT/lrtanalysis/run/plots/EfficiencyComparison_files_VH4b_V7.root'),\n",
    "          'v7nn': ROOT.TFile('/home/newhouse/public/Analysis/LRT/lrtanalysis/run/output/files_VH4b_V7nn.root')}"
   ]
  },
  {
   "cell_type": "code",
   "execution_count": 48,
   "metadata": {},
   "outputs": [
    {
     "name": "stdout",
     "output_type": "stream",
     "text": [
      "TDirectoryFile*\t\tTruthLinkedIsLRTIsSignalTechnical\tTruthLinkedIsLRTIsSignalTechnical\n",
      " KEY: TH1D\ttrack_absd0;1\ttrack_absd0\n",
      " KEY: TH1D\ttrack_absz0;1\ttrack_absz0\n",
      " KEY: TH1D\ttrack_chi2pernDOF;1\ttrack_chi2pernDOF\n",
      " KEY: TH1D\ttrack_d0;1\ttrack_d0\n",
      " KEY: TH1D\ttrack_eta;1\ttrack_eta\n",
      " KEY: TH1D\ttrack_nDOF;1\ttrack_nDOF\n",
      " KEY: TH1D\ttrack_npix;1\ttrack_npix\n",
      " KEY: TH1D\ttrack_npixhole;1\ttrack_npixhole\n",
      " KEY: TH1D\ttrack_npixlay;1\ttrack_npixlay\n",
      " KEY: TH1D\ttrack_npixoutliers;1\ttrack_npixoutliers\n",
      " KEY: TH1D\ttrack_npixshared;1\ttrack_npixshared\n",
      " KEY: TH1D\ttrack_nsct;1\ttrack_nsct\n",
      " KEY: TH1D\ttrack_nscthole;1\ttrack_nscthole\n",
      " KEY: TH1D\ttrack_nsctoutliers;1\ttrack_nsctoutliers\n",
      " KEY: TH1D\ttrack_nsctshared;1\ttrack_nsctshared\n",
      " KEY: TH1D\ttrack_ntrt;1\ttrack_ntrt\n",
      " KEY: TH1D\ttrack_pt;1\ttrack_pt\n",
      " KEY: TH1D\ttrack_r;1\ttrack_r\n",
      " KEY: TH1D\ttrack_z0;1\ttrack_z0\n",
      " KEY: TH1D\ttruth_absd0;1\ttruth_absd0\n",
      " KEY: TH1D\ttruth_absz0;1\ttruth_absz0\n",
      " KEY: TH1D\ttruth_barcode;1\ttruth_barcode\n",
      " KEY: TH1D\ttruth_charge;1\ttruth_charge\n",
      " KEY: TH1D\ttruth_d0;1\ttruth_d0\n",
      " KEY: TH1D\ttruth_d0res;1\ttruth_d0res\n",
      " KEY: TH1D\ttruth_eta;1\ttruth_eta\n",
      " KEY: TH1D\ttruth_mu;1\ttruth_mu\n",
      " KEY: TH1D\ttruth_npix;1\ttruth_npix\n",
      " KEY: TH1D\ttruth_nsct;1\ttruth_nsct\n",
      " KEY: TH1D\ttruth_nsil;1\ttruth_nsil\n",
      " KEY: TH1D\ttruth_parentIdLLP;1\ttruth_parentIdLLP\n",
      " KEY: TH1D\ttruth_pt;1\ttruth_pt\n",
      " KEY: TH1D\ttruth_qOpres;1\ttruth_qOpres\n",
      " KEY: TH1D\ttruth_r;1\ttruth_r\n",
      " KEY: TH1D\ttruth_status;1\ttruth_status\n",
      " KEY: TH1D\ttruth_trknDOF;1\ttruth_trknDOF\n",
      " KEY: TH1D\ttruth_z0;1\ttruth_z0\n",
      " KEY: TH1D\ttruth_z0res;1\ttruth_z0res\n"
     ]
    },
    {
     "data": {
      "image/png": "[encoded data removed]",
      "text/plain": [
       "<IPython.core.display.Image object>"
      ]
     },
     "metadata": {},
     "output_type": "display_data"
    }
   ],
   "source": [
    "c = ROOT.TCanvas()\n",
    "h = ROOT.TFile('/home/newhouse/public/Analysis/LRT/lrtanalysis/run/output/files_VH4b_V7.root')\n",
    "sig = h.Get('TruthLinkedIsLRTIsSignalTechnical')\n",
    "sig.ls()\n",
    "\n",
    "track_eta = sig.Get(\"truth_eta\")\n",
    "track_eta.Draw()\n",
    "c.Draw()"
   ]
  },
  {
   "cell_type": "code",
   "execution_count": 154,
   "metadata": {},
   "outputs": [
    {
     "name": "stdout",
     "output_type": "stream",
     "text": [
      "Name: truth_absd0 Title:  NbinsX: 75\n"
     ]
    },
    {
     "data": {
      "image/png": "[encoded data removed]",
      "text/plain": [
       "<IPython.core.display.Image object>"
      ]
     },
     "metadata": {},
     "output_type": "display_data"
    }
   ],
   "source": [
    "var = 'pt'\n",
    "c = ROOT.TCanvas()\n",
    "h = ROOT.TFile(f'/home/newhouse/public/Analysis/LRT/lrtanalysis/run/plots/Efficiency_files_{sig}_V7.root')\n",
    "h.Get(\"Efficiency\").Get(f\"truth_{var}\").Draw(\"\")\n",
    "g = ROOT.TFile(f'/home/newhouse/public/Analysis/LRT/lrtanalysis/run/plots/Efficiency_files_{sig}_V7nn.root')\n",
    "hist = g.Get(\"Efficiency\").Get(f\"truth_{var}\")\n",
    "hist.SetMarkerColor(ROOT.kBlue)\n",
    "hist.Draw(\"same\")\n",
    "print(hist)\n",
    "c.Draw()"
   ]
  },
  {
   "cell_type": "code",
   "execution_count": 155,
   "metadata": {},
   "outputs": [
    {
     "data": {
      "image/png": "[encoded data removed]",
      "text/plain": [
       "<IPython.core.display.Image object>"
      ]
     },
     "metadata": {},
     "output_type": "display_data"
    }
   ],
   "source": [
    "sig = 'HNL'\n",
    "c = ROOT.TCanvas()\n",
    "f = ROOT.TFile(f'/home/newhouse/public/Analysis/LRT/lrtanalysis/run/output/files_{sig}_V7.root')\n",
    "hist= f.Get(\"TrackIsFakeIsLRTPassSelection0\").Get(f\"track_{var}\")\n",
    "hist.SetMarkerColor(ROOT.kBlue)\n",
    "hist.SetMarkerSize(1)\n",
    "hist.SetMarkerStyle(25)\n",
    "hist.Draw(\"SAME\")\n",
    "g = ROOT.TFile(f'/home/newhouse/public/Analysis/LRT/lrtanalysis/run/output/files_{sig}_V7nn.root')\n",
    "hist= g.Get(\"TrackIsFakeIsLRTPassSelection0\").Get(f\"track_{var}\")\n",
    "hist.SetMarkerColor(ROOT.kRed)\n",
    "hist.SetMarkerSize(1)\n",
    "hist.SetMarkerStyle(25)\n",
    "hist.Draw(\"SAME\")\n",
    "\n",
    "c.Draw()"
   ]
  },
  {
   "cell_type": "code",
   "execution_count": null,
   "metadata": {},
   "outputs": [],
   "source": []
  }
 ],
 "metadata": {
  "kernelspec": {
   "display_name": "Python 3",
   "language": "python",
   "name": "python3"
  },
  "language_info": {
   "codemirror_mode": {
    "name": "ipython",
    "version": 3
   },
   "file_extension": ".py",
   "mimetype": "text/x-python",
   "name": "python",
   "nbconvert_exporter": "python",
   "pygments_lexer": "ipython3",
   "version": "3.7.6"
  }
 },
 "nbformat": 4,
 "nbformat_minor": 4
}
