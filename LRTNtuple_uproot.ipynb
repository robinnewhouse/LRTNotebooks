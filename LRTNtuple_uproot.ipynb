{
 "cells": [
  {
   "cell_type": "code",
   "execution_count": 1,
   "metadata": {},
   "outputs": [],
   "source": [
    "import uproot\n",
    "import numpy as np\n",
    "import matplotlib.pyplot as plt\n",
    "from matplotlib import colors \n",
    "import seaborn as sns; sns.set(color_codes=True)\n",
    "\n",
    "LRTAnalysis = uproot.open(\"/data/newhouse/LRT/batch/testing/testing_21p0_v7_doR3LargeD0/VH4b/LRTAnalysis_output.root\")\n",
    "# LRTAnalysis_nn = uproot.open(\"/data/newhouse/LRT/batch/testing/testing_21p0_v7_doR3LargeD0_nn/VH4b/LRTAnalysis_output.root\")"
   ]
  },
  {
   "cell_type": "code",
   "execution_count": 2,
   "metadata": {},
   "outputs": [],
   "source": [
    "\n",
    "event_branches = ['nTracks',\n",
    "                  'nTruth',\n",
    "                  'nTracksAccept',\n",
    "                  'nTruthAccept',\n",
    "                  'mu',\n",
    "                  'event',\n",
    "                  'mcid',]\n",
    "event_tree = LRTAnalysis['Trees/eventTree'].pandas.df(event_branches)\n",
    "# event_tree_nn = LRTAnalysis_nn['Trees/eventTree'].pandas.df(event_branches)\n",
    "\n",
    "truth_branches=[\n",
    "'truth_link',\n",
    "'truth_type',\n",
    "'truth_nSiHits',\n",
    "'truth_nPixHits',\n",
    "'truth_status',\n",
    "'truth_fidPass',\n",
    "'truth_r',\n",
    "'truth_phi',\n",
    "'truth_dphi',\n",
    "'truth_z',\n",
    "'truth_pt',\n",
    "'truth_qOp',\n",
    "'truth_d0',\n",
    "'truth_z0',\n",
    "'truth_eta',\n",
    "'truth_barcode',\n",
    "'truth_charge',\n",
    "'truth_pdgId',\n",
    "'truth_parentIdLLP',\n",
    "'truth_parentId',\n",
    "'truth_VSIorigin',\n",
    "]\n",
    "truth_tree = LRTAnalysis['Trees/eventTree'].pandas.df(truth_branches)\n",
    "# truth_tree_nn = LRTAnalysis_nn['Trees/eventTree'].pandas.df(truth_branches)\n",
    "\n",
    "track_branches = [\n",
    "'isFake',\n",
    "'isSignal',\n",
    "'truth_origin',\n",
    "'index',\n",
    "'truth_matchProb',\n",
    "'pt',\n",
    "'qOp',\n",
    "'eta',\n",
    "'d0',\n",
    "'z0',\n",
    "'link',\n",
    "'isLRTrack',\n",
    "'radiusOdFirstHit',\n",
    "'nSiHits',\n",
    "'nPixHits',\n",
    "'nTRTHits',\n",
    "'nPixHoles',\n",
    "'nSiHoles',\n",
    "'nPixShared',\n",
    "'nSiShared',\n",
    "'nContribPixLay',\n",
    "'nPixOutliers',\n",
    "'nSiOutliers',\n",
    "'nTRTOutliers',\n",
    "'chiSquared',\n",
    "'nDOF',\n",
    "'passLoose',\n",
    "'passTight',\n",
    "]\n",
    "track_tree = LRTAnalysis['Trees/eventTree'].pandas.df(track_branches)\n",
    "# track_tree_nn = LRTAnalysis_nn['Trees/eventTree'].pandas.df(track_branches)\n"
   ]
  },
  {
   "cell_type": "code",
   "execution_count": 3,
   "metadata": {},
   "outputs": [],
   "source": [
    "# event_tree = LRTAnalysis['Trees/eventTree'].pandas.df(event_branches+['isLRTrack'], flatten=False)\n",
    "# event_tree['nTracksLRT'] = event_tree.isLRTrack.apply(sum)\n",
    "# event_tree['nTracksStandard'] = event_tree.nTracksAccept - event_tree.nTracksLRT"
   ]
  },
  {
   "cell_type": "code",
   "execution_count": 3,
   "metadata": {},
   "outputs": [
    {
     "data": {
      "text/plain": [
       "122192"
      ]
     },
     "execution_count": 3,
     "metadata": {},
     "output_type": "execute_result"
    },
    {
     "data": {
      "text/plain": [
       "<Figure size 1080x720 with 0 Axes>"
      ]
     },
     "metadata": {},
     "output_type": "display_data"
    }
   ],
   "source": [
    "fig = plt.figure(figsize=[15,10])\n",
    "len(track_tree.query('isSignal'))"
   ]
  },
  {
   "cell_type": "code",
   "execution_count": 5,
   "metadata": {},
   "outputs": [
    {
     "data": {
      "text/plain": [
       "Index(['isFake', 'isSignal', 'truth_origin', 'index', 'truth_matchProb', 'pt',\n",
       "       'qOp', 'eta', 'd0', 'z0', 'link', 'isLRTrack', 'radiusOdFirstHit',\n",
       "       'nSiHits', 'nPixHits', 'nTRTHits', 'nPixHoles', 'nSiHoles',\n",
       "       'nPixShared', 'nSiShared', 'nContribPixLay', 'nPixOutliers',\n",
       "       'nSiOutliers', 'nTRTOutliers', 'chiSquared', 'nDOF', 'passLoose',\n",
       "       'passTight'],\n",
       "      dtype='object')"
      ]
     },
     "execution_count": 5,
     "metadata": {},
     "output_type": "execute_result"
    }
   ],
   "source": [
    "track_tree.columns"
   ]
  },
  {
   "cell_type": "code",
   "execution_count": null,
   "metadata": {},
   "outputs": [],
   "source": []
  }
 ],
 "metadata": {
  "kernelspec": {
   "display_name": "Python 3",
   "language": "python",
   "name": "python3"
  },
  "language_info": {
   "codemirror_mode": {
    "name": "ipython",
    "version": 3
   },
   "file_extension": ".py",
   "mimetype": "text/x-python",
   "name": "python",
   "nbconvert_exporter": "python",
   "pygments_lexer": "ipython3",
   "version": "3.7.6"
  }
 },
 "nbformat": 4,
 "nbformat_minor": 4
}
